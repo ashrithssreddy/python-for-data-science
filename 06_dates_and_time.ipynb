{
 "cells": [
  {
   "cell_type": "markdown",
   "id": "247d4265",
   "metadata": {},
   "source": [
    "<a id=\"table-of-contents\"></a>\n",
    "\n",
    "# Table of Contents\n",
    "[](#)  \n",
    "- [](#)  \n",
    "- [](#)\n",
    "\n",
    "___\n"
   ]
  },
  {
   "cell_type": "markdown",
   "id": "817a539d",
   "metadata": {},
   "source": [
    "# Setup"
   ]
  },
  {
   "cell_type": "code",
   "execution_count": 1,
   "id": "c3304032",
   "metadata": {},
   "outputs": [],
   "source": [
    "from IPython.core.interactiveshell import InteractiveShell\n",
    "InteractiveShell.ast_node_interactivity = \"all\""
   ]
  },
  {
   "cell_type": "markdown",
   "id": "ab24d246",
   "metadata": {},
   "source": [
    "#### DateType "
   ]
  },
  {
   "cell_type": "code",
   "execution_count": null,
   "id": "8747e895",
   "metadata": {},
   "outputs": [],
   "source": [
    "from datetime import datetime\n",
    "\n",
    "date_in_string = \"06/11/2016\"\n",
    "datetime.strptime(date_in_string, \"%m/%d/%Y\") # string previously time\n",
    "\n",
    "now = datetime.now()\n",
    "now # class is datetime.datetime\n",
    "\n",
    "today = datetime.today() # same as now()\n",
    "today # class is datetime.datetime \n",
    "\n",
    "current_time_string = datetime.strftime(now, \"%m/%d/%Y\") # string from time\n",
    "current_time_string # class is string\n",
    "now \n",
    "str(now) # works too\n",
    "\n",
    "# components\n",
    "# d, m, y, h, m, s(decimal allowed)\n",
    "\n",
    "# standard formats\n",
    "now.isoformat() # ISO format - widely used"
   ]
  },
  {
   "cell_type": "markdown",
   "id": "cc26cd87",
   "metadata": {},
   "source": [
    "#### Containers "
   ]
  },
  {
   "cell_type": "code",
   "execution_count": null,
   "id": "4bf1fdd8",
   "metadata": {},
   "outputs": [],
   "source": [
    "my_dates = [\"2020 11 21\", \"2020 11 20\", \"2020 11 22\"]\n",
    "# datetime.strptime(my_dates, \"%m/%d/%Y\") # list not allowed, string expected\n",
    "my_dates = [datetime.strptime(x, \"%Y %m %d\") for x in my_dates]\n",
    "my_dates \n",
    "sorted(my_dates) # sorting allowed"
   ]
  },
  {
   "cell_type": "markdown",
   "id": "9c52bbfc",
   "metadata": {},
   "source": [
    "#### Extractions"
   ]
  },
  {
   "cell_type": "code",
   "execution_count": null,
   "id": "0312cbcf",
   "metadata": {},
   "outputs": [],
   "source": [
    "now.year\n",
    "now.month\n",
    "now.day\n",
    "now.hour\n",
    "now.minute\n",
    "now.second\n",
    "now.weekday() # 0 for monday\n",
    "\n",
    "import calendar\n",
    "calendar.day_name[0] # Monday\n",
    "calendar.day_name[now.weekday()] # Monday"
   ]
  },
  {
   "cell_type": "markdown",
   "id": "588206f5",
   "metadata": {},
   "source": [
    "#### Modifications"
   ]
  },
  {
   "cell_type": "code",
   "execution_count": null,
   "id": "0efdfeb6",
   "metadata": {},
   "outputs": [],
   "source": [
    "# replace a component of datetime object\n",
    "# now.day = 1 # fails\n",
    "now.replace(day=1) # returns a value and not modify inplace"
   ]
  },
  {
   "cell_type": "markdown",
   "id": "f55ebe93",
   "metadata": {},
   "source": [
    "#### Extras"
   ]
  },
  {
   "cell_type": "code",
   "execution_count": null,
   "id": "80abb76b",
   "metadata": {},
   "outputs": [],
   "source": [
    "# 2 digit convert to 4 digit year\n",
    "# Cutoff: 1969 Jan 01\n",
    "datetime.strptime(\"2020 12 31\", \"%Y %m %d\") # 2020\n",
    "datetime.strptime(\"91 12 31\", \"%y %m %d\") # 1991\n",
    "[datetime.strptime(f\"{str(x).zfill(2)} 12 31\", \"%y %m %d\") for x in range(0,100,1)]\n",
    "[datetime.strptime(f\"{str(x).zfill(2)} 01 01\", \"%y %m %d\") for x in range(0,100,1)]\n",
    "\n"
   ]
  },
  {
   "cell_type": "markdown",
   "id": "01ee3b5f",
   "metadata": {
    "vscode": {
     "languageId": "plaintext"
    }
   },
   "source": [
    "#### Manipulations"
   ]
  },
  {
   "cell_type": "code",
   "execution_count": null,
   "id": "bab3a661",
   "metadata": {},
   "outputs": [],
   "source": [
    "from datetime import timedelta\n",
    "time_additions = timedelta(days=20)\n",
    "time_additions # class: datetime.timedelta\n",
    "# days=0, seconds=0, microseconds=0, milliseconds=0, minutes=0, hours=0, weeks=0\n",
    "\n",
    "now + timedelta(days=1, weeks=1) # add 1 days plus 1 weeks\n",
    "now + timedelta(days=8, weeks=1) # add 8 days plus 1 weeks \n",
    "\n",
    "now - timedelta(days=20)\n",
    "now + timedelta(days=20)\n",
    "\n",
    "time_1 = now\n",
    "time_2 = now + timedelta(minutes=60)\n",
    "\n",
    "time_2 - time_1 # 3600 seconds. Class:datetime.timedelta\n",
    "(time_2 - time_1).seconds # 3600\n",
    "(time_2 - time_1).days # 0\n",
    "(time_2 - time_1).microseconds # 0\n",
    "(time_2 - time_1).milliseconds # not applicable\n",
    "(time_2 - time_1).minutes # not applicable\n",
    "(time_2 - time_1).hours # not applicable\n",
    "(time_2 - time_1).weeks # not applicable\n",
    "\n",
    "(time_2 - time_1).total_seconds() # 3600.0\n",
    "\n",
    "(time_2 - time_1).total_seconds() /60 # total minutes = 60.0\n",
    "# or \n",
    "(time_2 - time_1)/timedelta(minutes=1) # total minutes = 60.0\n",
    "\n",
    "\n",
    "time_1 - time_2\n",
    "(time_1 - time_2).seconds # 82800\n",
    "(time_1 - time_2).days # -1\n",
    "(time_1 - time_2).microseconds # 0\n",
    "(time_1 - time_2).milliseconds # not applicable\n",
    "(time_1 - time_2).minutes # not applicable\n",
    "(time_1 - time_2).hours # not applicable\n",
    "(time_1 - time_2).weeks # not applicable\n",
    "(time_1 - time_2).total_seconds() # -3600.0\n",
    "\n",
    "# date range generate\n",
    "from datetime import timedelta\n",
    "[now + timedelta(days = x+1) for x in range(3)]\n",
    "# now + [timedelta(days = x+1) for x in range(3)] # vectorization not allowed\n",
    "\n",
    "my_date_ranges = [now + timedelta(days = x+1) for x in range(10)]\n",
    "min(my_date_ranges)\n",
    "max(my_date_ranges)\n",
    "\n"
   ]
  },
  {
   "cell_type": "markdown",
   "id": "ac79fdda",
   "metadata": {},
   "source": [
    "#### Timezones"
   ]
  },
  {
   "cell_type": "code",
   "execution_count": null,
   "id": "98f3f0b9",
   "metadata": {},
   "outputs": [],
   "source": [
    "import pytz"
   ]
  },
  {
   "cell_type": "markdown",
   "id": "32165c04",
   "metadata": {},
   "source": [
    "#### Pendulum library"
   ]
  },
  {
   "cell_type": "code",
   "execution_count": null,
   "id": "af15f144",
   "metadata": {},
   "outputs": [],
   "source": [
    "import pendulum"
   ]
  },
  {
   "cell_type": "markdown",
   "id": "d7b2b869",
   "metadata": {},
   "source": [
    "[Back to the top](#table-of-contents)\n",
    "___"
   ]
  },
  {
   "cell_type": "markdown",
   "id": "44fbf64a",
   "metadata": {},
   "source": []
  }
 ],
 "metadata": {
  "kernelspec": {
   "display_name": "base",
   "language": "python",
   "name": "python3"
  },
  "language_info": {
   "codemirror_mode": {
    "name": "ipython",
    "version": 3
   },
   "file_extension": ".py",
   "mimetype": "text/x-python",
   "name": "python",
   "nbconvert_exporter": "python",
   "pygments_lexer": "ipython3",
   "version": "3.11.3"
  }
 },
 "nbformat": 4,
 "nbformat_minor": 5
}
