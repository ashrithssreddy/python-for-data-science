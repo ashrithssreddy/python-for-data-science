{
 "cells": [
  {
   "cell_type": "markdown",
   "id": "247d4265",
   "metadata": {},
   "source": [
    "<a id=\"table-of-contents\"></a>\n",
    "# 🗂️ DataTime\n",
    "\n",
    "- [🧬 DataType](#datatype)\n",
    "- [🕵️‍♂️ Extractions](#extractions)\n",
    "- [✍️ Modifications](#modifications)\n",
    "- [🪄 Formatting](#formatting)\n",
    "- [🧰 Manipulations](#manipulations)\n",
    "- [📦 Containers](#containers)\n",
    "___\n"
   ]
  },
  {
   "cell_type": "markdown",
   "id": "ab24d246",
   "metadata": {},
   "source": [
    "<a id=\"datatype\"></a>\n",
    "#### 🧬 DataType"
   ]
  },
  {
   "cell_type": "code",
   "execution_count": 29,
   "id": "146127bc",
   "metadata": {},
   "outputs": [],
   "source": [
    "from IPython.core.interactiveshell import InteractiveShell\n",
    "InteractiveShell.ast_node_interactivity = \"all\""
   ]
  },
  {
   "cell_type": "code",
   "execution_count": 30,
   "id": "8747e895",
   "metadata": {},
   "outputs": [
    {
     "data": {
      "text/plain": [
       "datetime.datetime(2016, 6, 11, 0, 0)"
      ]
     },
     "execution_count": 30,
     "metadata": {},
     "output_type": "execute_result"
    },
    {
     "data": {
      "text/plain": [
       "datetime.datetime(2025, 5, 6, 22, 49, 13, 175495)"
      ]
     },
     "execution_count": 30,
     "metadata": {},
     "output_type": "execute_result"
    },
    {
     "data": {
      "text/plain": [
       "datetime.datetime(2025, 5, 6, 22, 49, 13, 177205)"
      ]
     },
     "execution_count": 30,
     "metadata": {},
     "output_type": "execute_result"
    },
    {
     "data": {
      "text/plain": [
       "'05/06/2025'"
      ]
     },
     "execution_count": 30,
     "metadata": {},
     "output_type": "execute_result"
    },
    {
     "data": {
      "text/plain": [
       "datetime.datetime(2025, 5, 6, 22, 49, 13, 175495)"
      ]
     },
     "execution_count": 30,
     "metadata": {},
     "output_type": "execute_result"
    },
    {
     "data": {
      "text/plain": [
       "'2025-05-06 22:49:13.175495'"
      ]
     },
     "execution_count": 30,
     "metadata": {},
     "output_type": "execute_result"
    },
    {
     "data": {
      "text/plain": [
       "'2025-05-06T22:49:13.175495'"
      ]
     },
     "execution_count": 30,
     "metadata": {},
     "output_type": "execute_result"
    }
   ],
   "source": [
    "from datetime import datetime\n",
    "\n",
    "date_in_string = \"06/11/2016\"\n",
    "datetime.strptime(date_in_string, \"%m/%d/%Y\") # string previously time\n",
    "\n",
    "now = datetime.now()\n",
    "now # class is datetime.datetime\n",
    "\n",
    "today = datetime.today() # same as now()\n",
    "today # class is datetime.datetime \n",
    "\n",
    "current_time_string = datetime.strftime(now, \"%m/%d/%Y\") # string from time\n",
    "current_time_string # class is string\n",
    "now \n",
    "str(now) # works too\n",
    "\n",
    "# components\n",
    "# d, m, y, h, m, s(decimal allowed)\n",
    "\n",
    "# standard formats\n",
    "now.isoformat() # ISO format - widely used"
   ]
  },
  {
   "cell_type": "markdown",
   "id": "6acf8089",
   "metadata": {},
   "source": [
    "<a id=\"extractions\"></a>\n",
    "#### 🕵️‍♂️ Extractions"
   ]
  },
  {
   "cell_type": "code",
   "execution_count": 31,
   "id": "9913aefd",
   "metadata": {},
   "outputs": [
    {
     "data": {
      "text/plain": [
       "2025"
      ]
     },
     "execution_count": 31,
     "metadata": {},
     "output_type": "execute_result"
    },
    {
     "data": {
      "text/plain": [
       "5"
      ]
     },
     "execution_count": 31,
     "metadata": {},
     "output_type": "execute_result"
    },
    {
     "data": {
      "text/plain": [
       "6"
      ]
     },
     "execution_count": 31,
     "metadata": {},
     "output_type": "execute_result"
    },
    {
     "data": {
      "text/plain": [
       "22"
      ]
     },
     "execution_count": 31,
     "metadata": {},
     "output_type": "execute_result"
    },
    {
     "data": {
      "text/plain": [
       "49"
      ]
     },
     "execution_count": 31,
     "metadata": {},
     "output_type": "execute_result"
    },
    {
     "data": {
      "text/plain": [
       "13"
      ]
     },
     "execution_count": 31,
     "metadata": {},
     "output_type": "execute_result"
    },
    {
     "data": {
      "text/plain": [
       "1"
      ]
     },
     "execution_count": 31,
     "metadata": {},
     "output_type": "execute_result"
    },
    {
     "data": {
      "text/plain": [
       "'Monday'"
      ]
     },
     "execution_count": 31,
     "metadata": {},
     "output_type": "execute_result"
    },
    {
     "data": {
      "text/plain": [
       "'Tuesday'"
      ]
     },
     "execution_count": 31,
     "metadata": {},
     "output_type": "execute_result"
    }
   ],
   "source": [
    "now.year\n",
    "now.month\n",
    "now.day\n",
    "now.hour\n",
    "now.minute\n",
    "now.second\n",
    "now.weekday() # 0 for monday\n",
    "\n",
    "import calendar\n",
    "calendar.day_name[0] # Monday\n",
    "calendar.day_name[now.weekday()] # Monday"
   ]
  },
  {
   "cell_type": "markdown",
   "id": "90238b8a",
   "metadata": {},
   "source": [
    "<a id=\"modifications\"></a>\n",
    "#### ✍️ Modifications\n"
   ]
  },
  {
   "cell_type": "code",
   "execution_count": 32,
   "id": "558f972a",
   "metadata": {},
   "outputs": [
    {
     "data": {
      "text/plain": [
       "datetime.datetime(2025, 5, 1, 22, 49, 13, 175495)"
      ]
     },
     "execution_count": 32,
     "metadata": {},
     "output_type": "execute_result"
    }
   ],
   "source": [
    "# replace a component of datetime object\n",
    "# now.day = 1 # fails\n",
    "now.replace(day=1) # returns a value and not modify inplace"
   ]
  },
  {
   "cell_type": "markdown",
   "id": "f55ebe93",
   "metadata": {},
   "source": [
    "<a id=\"formatting\"></a>\n",
    "#### 🪄 Formatting"
   ]
  },
  {
   "cell_type": "code",
   "execution_count": 41,
   "id": "80abb76b",
   "metadata": {},
   "outputs": [
    {
     "data": {
      "text/plain": [
       "datetime.datetime(2020, 12, 31, 0, 0)"
      ]
     },
     "execution_count": 41,
     "metadata": {},
     "output_type": "execute_result"
    },
    {
     "data": {
      "text/plain": [
       "datetime.datetime(1991, 12, 31, 0, 0)"
      ]
     },
     "execution_count": 41,
     "metadata": {},
     "output_type": "execute_result"
    },
    {
     "data": {
      "text/plain": [
       "[datetime.datetime(2000, 12, 31, 0, 0),\n",
       " datetime.datetime(2001, 12, 31, 0, 0),\n",
       " datetime.datetime(2002, 12, 31, 0, 0),\n",
       " datetime.datetime(2003, 12, 31, 0, 0),\n",
       " datetime.datetime(2004, 12, 31, 0, 0),\n",
       " datetime.datetime(2005, 12, 31, 0, 0),\n",
       " datetime.datetime(2006, 12, 31, 0, 0),\n",
       " datetime.datetime(2007, 12, 31, 0, 0),\n",
       " datetime.datetime(2008, 12, 31, 0, 0),\n",
       " datetime.datetime(2009, 12, 31, 0, 0)]"
      ]
     },
     "execution_count": 41,
     "metadata": {},
     "output_type": "execute_result"
    },
    {
     "data": {
      "text/plain": [
       "[datetime.datetime(2000, 1, 1, 0, 0),\n",
       " datetime.datetime(2001, 1, 1, 0, 0),\n",
       " datetime.datetime(2002, 1, 1, 0, 0),\n",
       " datetime.datetime(2003, 1, 1, 0, 0),\n",
       " datetime.datetime(2004, 1, 1, 0, 0),\n",
       " datetime.datetime(2005, 1, 1, 0, 0),\n",
       " datetime.datetime(2006, 1, 1, 0, 0),\n",
       " datetime.datetime(2007, 1, 1, 0, 0),\n",
       " datetime.datetime(2008, 1, 1, 0, 0),\n",
       " datetime.datetime(2009, 1, 1, 0, 0)]"
      ]
     },
     "execution_count": 41,
     "metadata": {},
     "output_type": "execute_result"
    }
   ],
   "source": [
    "# 2 digit convert to 4 digit year\n",
    "# Cutoff: 1969 Jan 01\n",
    "datetime.strptime(\"2020 12 31\", \"%Y %m %d\") # 2020\n",
    "datetime.strptime(\"91 12 31\", \"%y %m %d\") # 1991\n",
    "[datetime.strptime(f\"{str(x).zfill(2)} 12 31\", \"%y %m %d\") for x in range(0,10,1)]\n",
    "[datetime.strptime(f\"{str(x).zfill(2)} 01 01\", \"%y %m %d\") for x in range(0,10,1)]\n",
    "\n"
   ]
  },
  {
   "cell_type": "markdown",
   "id": "01ee3b5f",
   "metadata": {
    "vscode": {
     "languageId": "plaintext"
    }
   },
   "source": [
    "<a id=\"manipulations\"></a>\n",
    "#### 🧰 Manipulations"
   ]
  },
  {
   "cell_type": "code",
   "execution_count": 34,
   "id": "796abdea",
   "metadata": {},
   "outputs": [
    {
     "data": {
      "text/plain": [
       "datetime.timedelta(days=20)"
      ]
     },
     "execution_count": 34,
     "metadata": {},
     "output_type": "execute_result"
    }
   ],
   "source": [
    "from datetime import timedelta\n",
    "time_additions = timedelta(days=20)\n",
    "time_additions # class: datetime.timedelta\n",
    "# days=0, seconds=0, microseconds=0, milliseconds=0, minutes=0, hours=0, weeks=0"
   ]
  },
  {
   "cell_type": "code",
   "execution_count": 35,
   "id": "7ed06a2c",
   "metadata": {},
   "outputs": [
    {
     "data": {
      "text/plain": [
       "datetime.datetime(2025, 5, 14, 22, 49, 13, 175495)"
      ]
     },
     "execution_count": 35,
     "metadata": {},
     "output_type": "execute_result"
    },
    {
     "data": {
      "text/plain": [
       "datetime.datetime(2025, 5, 21, 22, 49, 13, 175495)"
      ]
     },
     "execution_count": 35,
     "metadata": {},
     "output_type": "execute_result"
    },
    {
     "data": {
      "text/plain": [
       "datetime.datetime(2025, 4, 16, 22, 49, 13, 175495)"
      ]
     },
     "execution_count": 35,
     "metadata": {},
     "output_type": "execute_result"
    },
    {
     "data": {
      "text/plain": [
       "datetime.datetime(2025, 5, 26, 22, 49, 13, 175495)"
      ]
     },
     "execution_count": 35,
     "metadata": {},
     "output_type": "execute_result"
    }
   ],
   "source": [
    "now + timedelta(days=1, weeks=1) # add 1 days plus 1 weeks\n",
    "now + timedelta(days=8, weeks=1) # add 8 days plus 1 weeks \n",
    "\n",
    "now - timedelta(days=20)\n",
    "now + timedelta(days=20)"
   ]
  },
  {
   "cell_type": "code",
   "execution_count": 36,
   "id": "bb60c5c7",
   "metadata": {},
   "outputs": [],
   "source": [
    "time_1 = now\n",
    "time_2 = now + timedelta(minutes=60)"
   ]
  },
  {
   "cell_type": "code",
   "execution_count": 37,
   "id": "bab3a661",
   "metadata": {},
   "outputs": [
    {
     "data": {
      "text/plain": [
       "datetime.timedelta(seconds=3600)"
      ]
     },
     "execution_count": 37,
     "metadata": {},
     "output_type": "execute_result"
    },
    {
     "data": {
      "text/plain": [
       "3600"
      ]
     },
     "execution_count": 37,
     "metadata": {},
     "output_type": "execute_result"
    },
    {
     "data": {
      "text/plain": [
       "3600.0"
      ]
     },
     "execution_count": 37,
     "metadata": {},
     "output_type": "execute_result"
    },
    {
     "data": {
      "text/plain": [
       "60.0"
      ]
     },
     "execution_count": 37,
     "metadata": {},
     "output_type": "execute_result"
    },
    {
     "data": {
      "text/plain": [
       "60.0"
      ]
     },
     "execution_count": 37,
     "metadata": {},
     "output_type": "execute_result"
    },
    {
     "data": {
      "text/plain": [
       "0"
      ]
     },
     "execution_count": 37,
     "metadata": {},
     "output_type": "execute_result"
    },
    {
     "data": {
      "text/plain": [
       "0"
      ]
     },
     "execution_count": 37,
     "metadata": {},
     "output_type": "execute_result"
    }
   ],
   "source": [
    "time_2 - time_1 # 3600 seconds. Class:datetime.timedelta\n",
    "\n",
    "(time_2 - time_1).seconds # 3600\n",
    "(time_2 - time_1).total_seconds() # 3600.0\n",
    "(time_2 - time_1).total_seconds() /60 # total minutes = 60.0\n",
    "(time_2 - time_1)/timedelta(minutes=1) # total minutes = 60.0\n",
    "(time_2 - time_1).days # 0\n",
    "(time_2 - time_1).microseconds # 0\n",
    "\n",
    "if False:  \n",
    "    (time_2 - time_1).milliseconds # not applicable\n",
    "    (time_2 - time_1).minutes # not applicable\n",
    "    (time_2 - time_1).hours # not applicable\n",
    "    (time_2 - time_1).weeks # not applicable"
   ]
  },
  {
   "cell_type": "code",
   "execution_count": 38,
   "id": "08ed2773",
   "metadata": {},
   "outputs": [
    {
     "data": {
      "text/plain": [
       "datetime.timedelta(days=-1, seconds=82800)"
      ]
     },
     "execution_count": 38,
     "metadata": {},
     "output_type": "execute_result"
    },
    {
     "data": {
      "text/plain": [
       "82800"
      ]
     },
     "execution_count": 38,
     "metadata": {},
     "output_type": "execute_result"
    },
    {
     "data": {
      "text/plain": [
       "-1"
      ]
     },
     "execution_count": 38,
     "metadata": {},
     "output_type": "execute_result"
    },
    {
     "data": {
      "text/plain": [
       "0"
      ]
     },
     "execution_count": 38,
     "metadata": {},
     "output_type": "execute_result"
    }
   ],
   "source": [
    "time_1 - time_2\n",
    "(time_1 - time_2).seconds # 82800\n",
    "(time_1 - time_2).days # -1\n",
    "(time_1 - time_2).microseconds # 0\n",
    "\n",
    "if False:  \n",
    "    (time_1 - time_2).milliseconds # not applicable\n",
    "    (time_1 - time_2).minutes # not applicable\n",
    "    (time_1 - time_2).hours # not applicable\n",
    "    (time_1 - time_2).weeks # not applicable\n",
    "    (time_1 - time_2).total_seconds() # -3600.0"
   ]
  },
  {
   "cell_type": "code",
   "execution_count": 39,
   "id": "9d5525e0",
   "metadata": {},
   "outputs": [
    {
     "data": {
      "text/plain": [
       "[datetime.datetime(2025, 5, 7, 22, 49, 13, 175495),\n",
       " datetime.datetime(2025, 5, 8, 22, 49, 13, 175495),\n",
       " datetime.datetime(2025, 5, 9, 22, 49, 13, 175495)]"
      ]
     },
     "execution_count": 39,
     "metadata": {},
     "output_type": "execute_result"
    },
    {
     "data": {
      "text/plain": [
       "datetime.datetime(2025, 5, 7, 22, 49, 13, 175495)"
      ]
     },
     "execution_count": 39,
     "metadata": {},
     "output_type": "execute_result"
    },
    {
     "data": {
      "text/plain": [
       "datetime.datetime(2025, 5, 16, 22, 49, 13, 175495)"
      ]
     },
     "execution_count": 39,
     "metadata": {},
     "output_type": "execute_result"
    }
   ],
   "source": [
    "# date range generate\n",
    "from datetime import timedelta\n",
    "[now + timedelta(days = x+1) for x in range(3)]\n",
    "# now + [timedelta(days = x+1) for x in range(3)] # vectorization not allowed\n",
    "\n",
    "my_date_ranges = [now + timedelta(days = x+1) for x in range(10)]\n",
    "min(my_date_ranges)\n",
    "max(my_date_ranges)"
   ]
  },
  {
   "cell_type": "markdown",
   "id": "cc26cd87",
   "metadata": {},
   "source": [
    "<a id=\"containers\"></a>\n",
    "#### 📦 Containers"
   ]
  },
  {
   "cell_type": "code",
   "execution_count": 40,
   "id": "4bf1fdd8",
   "metadata": {},
   "outputs": [
    {
     "data": {
      "text/plain": [
       "[datetime.datetime(2020, 11, 21, 0, 0),\n",
       " datetime.datetime(2020, 11, 20, 0, 0),\n",
       " datetime.datetime(2020, 11, 22, 0, 0)]"
      ]
     },
     "execution_count": 40,
     "metadata": {},
     "output_type": "execute_result"
    },
    {
     "data": {
      "text/plain": [
       "[datetime.datetime(2020, 11, 20, 0, 0),\n",
       " datetime.datetime(2020, 11, 21, 0, 0),\n",
       " datetime.datetime(2020, 11, 22, 0, 0)]"
      ]
     },
     "execution_count": 40,
     "metadata": {},
     "output_type": "execute_result"
    }
   ],
   "source": [
    "my_dates = [\"2020 11 21\", \"2020 11 20\", \"2020 11 22\"]\n",
    "# datetime.strptime(my_dates, \"%m/%d/%Y\") # list not allowed, string expected\n",
    "my_dates = [datetime.strptime(x, \"%Y %m %d\") for x in my_dates]\n",
    "my_dates \n",
    "sorted(my_dates) # sorting allowed"
   ]
  },
  {
   "cell_type": "markdown",
   "id": "d7b2b869",
   "metadata": {},
   "source": [
    "[Back to the top](#table-of-contents)\n",
    "___"
   ]
  }
 ],
 "metadata": {
  "kernelspec": {
   "display_name": "base",
   "language": "python",
   "name": "python3"
  },
  "language_info": {
   "codemirror_mode": {
    "name": "ipython",
    "version": 3
   },
   "file_extension": ".py",
   "mimetype": "text/x-python",
   "name": "python",
   "nbconvert_exporter": "python",
   "pygments_lexer": "ipython3",
   "version": "3.11.3"
  }
 },
 "nbformat": 4,
 "nbformat_minor": 5
}
