{
 "cells": [
  {
   "cell_type": "markdown",
   "id": "9cab1316",
   "metadata": {},
   "source": [
    "<a id=\"table-of-contents\"></a>\n",
    "# 🗂️ Data Analysis\n",
    "\n",
    "- [🧮 Numpy](#numpy)  \n",
    "  - [📥 Creating Arrays](#create-arrays)  \n",
    "  - [🔍 Inspect Array](#inspect-array)  \n",
    "  - [🧾 Aggregate Functions](#aggregate-functions)  \n",
    "  - [🔄 Reshape](#reshape)  \n",
    "  - [✂️ Slice and Dice](#slice-dice)  \n",
    "  - [🛠️ Array Manipulation](#array-manipulation)  \n",
    "  - [➕ Concatenate](#concatenate)  \n",
    "\n",
    "- [🐼 Pandas](#pandas)  \n",
    "  - [📥 Create a Series/DataFrame](#create-df)  \n",
    "  - [📊 Sort](#sort)  \n",
    "  - [🔢 Index – by Row/Column Position](#index-pos)  \n",
    "  - [🏷️ Index – by Row/Column Label](#index-label)  \n",
    "  - [🧭 Index – by Label/Position](#index-mixed)  \n",
    "  - [✅ Index – by Boolean Mask](#index-bool)  \n",
    "  - [🧩 Access Columns](#access-columns)  \n",
    "  - [🧮 Functions on DataFrame](#functions-df)  \n",
    "  - [📊 Aggregate DataFrame](#aggregate-df)  \n",
    "  - [🧬 Grouped Mutate](#grouped-mutate)  \n",
    "  - [🔄 Reshape](#reshape-df)  \n",
    "___"
   ]
  },
  {
   "cell_type": "markdown",
   "id": "e1a26b2d",
   "metadata": {},
   "source": [
    "<a id=\"numpy\"></a>\n",
    "# 🧮 Numpy\n"
   ]
  },
  {
   "cell_type": "markdown",
   "id": "279b7001",
   "metadata": {},
   "source": [
    "<a id=\"create-arrays\"></a>\n",
    "#### 📥 Creating Arrays\n"
   ]
  },
  {
   "cell_type": "code",
   "execution_count": null,
   "id": "d070d7f2",
   "metadata": {},
   "outputs": [],
   "source": [
    "from IPython.core.interactiveshell import InteractiveShell\n",
    "InteractiveShell.ast_node_interactivity = \"all\""
   ]
  },
  {
   "cell_type": "code",
   "execution_count": null,
   "id": "ecd03e1c",
   "metadata": {},
   "outputs": [],
   "source": [
    "import numpy as np\n",
    "np.array([1,2,3])\n",
    "np.array(range(100))\n",
    "\n",
    "a = np.array([1,2,3])\n",
    "type(a) # numpy.ndarray\n",
    "a.dtype"
   ]
  },
  {
   "cell_type": "code",
   "execution_count": null,
   "id": "9c397e2d",
   "metadata": {},
   "outputs": [],
   "source": [
    "b = np.array([(1.5,2,3), (4,5,6)]) # , dtype = float\n",
    "type(b) # numpy.ndarray\n",
    "b.dtype # float64\n",
    "\n",
    "b2 = np.array([(1.5,2,3), (4,5,6)], dtype = float) # \n",
    "type(b2) # numpy.ndarray\n",
    "b2.dtype # float64\n",
    "\n",
    "c = np.array([[(1.5,2,3), (4,5,6)],[(3,2,1), (4,5,6)]], dtype = float)\n",
    "type(c) # numpy.ndarray\n",
    "c.dtype # float64"
   ]
  },
  {
   "cell_type": "code",
   "execution_count": null,
   "id": "078f859a",
   "metadata": {},
   "outputs": [],
   "source": [
    "np.zeros((3,4)) #Create an array of zeros\n",
    "\n",
    "np.ones((3,4)) \n",
    "np.ones((2,3,4),dtype=np.int16) #Create an array of ones\n",
    "\n",
    "np.arange(10,26,5)\n",
    "d = np.arange(10,25,5) #Create an array of evenly spaced values (step value)\n",
    "print(d)"
   ]
  },
  {
   "cell_type": "code",
   "execution_count": null,
   "id": "3aa7ff79",
   "metadata": {},
   "outputs": [],
   "source": [
    "np.linspace(0,2,9) #Create an array of evenly spaced values (number of samples)\n",
    "\n",
    "np.full((2),7) # tuple for dimensions\n",
    "e = np.full((2,2),7) #Create a constant array\n",
    "print(e)\n",
    "\n",
    "f = np.eye(2) #Create a 2X2 identity matrix\n",
    "f\n",
    "\n",
    "np.random.random((2,2)) #Create an array with random values\n",
    "# np.random.random((2,2), dtype = int) # dtype not allowed?\n",
    "\n",
    "np.empty((3,2)) #Create an empty array (garbage numbers assigned)"
   ]
  },
  {
   "cell_type": "code",
   "execution_count": null,
   "id": "f98a2fb9",
   "metadata": {},
   "outputs": [],
   "source": [
    "#### I/O\n",
    "# np.save('my_array' , a)\n",
    "# np.savez('array.npz', a, b)\n",
    "# np.load('my_array.npy')\n",
    "\n",
    "# np.info(np.ndarray.dtype)"
   ]
  },
  {
   "cell_type": "markdown",
   "id": "550f0edc",
   "metadata": {},
   "source": [
    "<a id=\"inspect-array\"></a>\n",
    "#### 🔍 Inspect Array\n"
   ]
  },
  {
   "cell_type": "code",
   "execution_count": null,
   "id": "34df43ab",
   "metadata": {},
   "outputs": [],
   "source": [
    "a.shape #Array dimensions\n",
    "len(a) #Length of array\n",
    "b.ndim #Number of array dimensions\n",
    "b.size # 3 x 2  = 6\n",
    "e.size #Number of array elements\n",
    "b.dtype #Data type of array elements\n",
    "b.dtype.name #Name of data type\n",
    "b.astype(int) #Convert an array to a different type"
   ]
  },
  {
   "cell_type": "code",
   "execution_count": null,
   "id": "5276ecb2",
   "metadata": {},
   "outputs": [],
   "source": [
    "a==b\n",
    "a[1] # returns 2. type = numpy.int32 not np.ndarray\n",
    "a[a>1] # retuns array [2,3]\n",
    "\n",
    "b_temp = np.array([(1,2,3),(1,2,4) ])\n",
    "b_temp \n",
    "b_temp  == a\n",
    "a == b_temp\n",
    "np.array_equal(a,b) # False\n",
    "np.array_equal(a,a) # True"
   ]
  },
  {
   "cell_type": "markdown",
   "id": "2a1de52f",
   "metadata": {},
   "source": [
    "<a id=\"aggregate-functions\"></a>\n",
    "#### 🧾 Aggregate Functions\n"
   ]
  },
  {
   "cell_type": "code",
   "execution_count": null,
   "id": "3cca43dc",
   "metadata": {},
   "outputs": [],
   "source": [
    "a\n",
    "a.sum()\n",
    "a.max()\n",
    "\n",
    "b\n",
    "b.max(axis = 0)\n",
    "b.max(axis = 1)"
   ]
  },
  {
   "cell_type": "code",
   "execution_count": null,
   "id": "f721cd6a",
   "metadata": {},
   "outputs": [],
   "source": [
    "h = a.view()\n",
    "a_copy = np.copy(a)\n",
    "del(h)\n",
    "h = a.copy()\n",
    "h"
   ]
  },
  {
   "cell_type": "code",
   "execution_count": null,
   "id": "cd0c8662",
   "metadata": {},
   "outputs": [],
   "source": [
    "a = np.array([2,3,1])\n",
    "a.sort() # sorts in place\n",
    "\n",
    "a = np.array([2,3,1])\n",
    "sorted(a) # does not solve in place, returns a copy"
   ]
  },
  {
   "cell_type": "code",
   "execution_count": null,
   "id": "c2de9ad8",
   "metadata": {},
   "outputs": [],
   "source": [
    "b_copy = np.random.random((2,3))\n",
    "b_copy \n",
    "b_copy.sort() # sorts each row left to right\n",
    "b_copy "
   ]
  },
  {
   "cell_type": "code",
   "execution_count": null,
   "id": "f20c7b02",
   "metadata": {},
   "outputs": [],
   "source": [
    "b_copy = np.random.random((2,3))\n",
    "b_copy \n",
    "# sorted(b_copy)\n",
    "b_copy.sort(axis=0) # sorts each row left to right\n",
    "b_copy "
   ]
  },
  {
   "cell_type": "markdown",
   "id": "ac4f72d3",
   "metadata": {},
   "source": [
    "<a id=\"reshape\"></a>\n",
    "#### 🔄 Reshape\n"
   ]
  },
  {
   "cell_type": "code",
   "execution_count": null,
   "id": "5376c024",
   "metadata": {},
   "outputs": [],
   "source": [
    "# flatten\n",
    "np.array([[1, 2, 3], [2, 4, 5], [1, 2, 3]])\n",
    "np.array([[1, 2, 3], [2, 4, 5], [1, 2, 3]]).flatten()\n",
    "np.array([[1, 2, 3], [2, 4, 5], [1, 2, 3]]).flatten(order = \"F\")\n",
    "\n",
    "np.array([[1, 2, 3], [2, 4, 5], [1, 2, 3]]).reshape([1,9])\n",
    "np.array([[1, 2, 3], [2, 4, 5], [1, 2, 3]]).reshape((1,9))"
   ]
  },
  {
   "cell_type": "markdown",
   "id": "692f90b1",
   "metadata": {},
   "source": [
    "<a id=\"slice-dice\"></a>\n",
    "#### ✂️ Slice and Dice\n"
   ]
  },
  {
   "cell_type": "code",
   "execution_count": null,
   "id": "52463dc4",
   "metadata": {},
   "outputs": [],
   "source": [
    "a = np.array([1,2,3,4,5,6,7])\n",
    "a[2]\n",
    "a[a>1]\n",
    "a\n",
    "a[0:2]\n",
    "a[:4]\n",
    "a[::-1]\n",
    "a[5:0:-1]\n",
    "# a.rev\n",
    "\n",
    "b\n",
    "b[1,2]\n",
    "b[b<3]\n",
    "b[:,2] # same as b[...,2]"
   ]
  },
  {
   "cell_type": "markdown",
   "id": "36ff9844",
   "metadata": {},
   "source": [
    "<a id=\"array-manipulation\"></a>\n",
    "#### 🛠️ Array Manipulation\n"
   ]
  },
  {
   "cell_type": "code",
   "execution_count": null,
   "id": "29728497",
   "metadata": {},
   "outputs": [],
   "source": [
    "b\n",
    "b.T\n",
    "np.transpose(b)\n",
    "\n",
    "a = np.array([1,2,3])\n",
    "a\n",
    "b\n",
    "g = a-b\n",
    "\n",
    "b.ravel()\n",
    "g.reshape(3,2)\n",
    "g.reshape(3,-2)"
   ]
  },
  {
   "cell_type": "code",
   "execution_count": null,
   "id": "542b34db",
   "metadata": {},
   "outputs": [],
   "source": [
    "h = a.copy()\n",
    "# h.resize((2,6))\n",
    "h.resize((6,2))\n",
    "h\n",
    "\n",
    "h\n",
    "g\n",
    "np.append(h, g)\n",
    "\n",
    "a = np.array([1,2,3])\n",
    "a = np.insert(a,1,5) # returns a copy, not in place\n",
    "a\n",
    "a = np.delete(a, 1)\n",
    "a"
   ]
  },
  {
   "cell_type": "markdown",
   "id": "f5471075",
   "metadata": {},
   "source": [
    "<a id=\"concatenate\"></a>\n",
    "#### ➕ Concatenate\n"
   ]
  },
  {
   "cell_type": "code",
   "execution_count": null,
   "id": "4606926c",
   "metadata": {},
   "outputs": [],
   "source": [
    "a\n",
    "d\n",
    "np.concatenate((a,d),axis=0)\n",
    "np.concatenate((a,d),axis=1)\n",
    "\n",
    "a\n",
    "b\n",
    "np.vstack((a,b))\n",
    "\n",
    "np.vstack((a,a)) # stack them vertically, one below the other\n",
    "np.c_[a,a] # stack them as columns\n",
    "\n",
    "np.hstack((a,a)) # stack them hori, one besides the other\n",
    "np.r_[a,a] # ?"
   ]
  },
  {
   "cell_type": "code",
   "execution_count": null,
   "id": "a6c04abc",
   "metadata": {},
   "outputs": [],
   "source": [
    "a\n",
    "d\n",
    "np.concatenate((a,d),axis=0)\n",
    "\n",
    "a\n",
    "b\n",
    "np.vstack((a,b))\n",
    "\n",
    "e\n",
    "f\n",
    "np.r_[e,f]\n",
    "np.vstack((e,f))\n",
    "\n",
    "np.hstack((e,f))"
   ]
  },
  {
   "cell_type": "code",
   "execution_count": null,
   "id": "6c1ce260",
   "metadata": {},
   "outputs": [],
   "source": [
    "a\n",
    "d\n",
    "np.column_stack((a,d)) # same as np.c_[a,d]\n",
    "\n",
    "a\n",
    "np.hsplit(a,3)\n",
    "\n",
    "c\n",
    "np.hsplit(c,2)\n"
   ]
  },
  {
   "cell_type": "markdown",
   "id": "21c92c42",
   "metadata": {},
   "source": [
    "[Back to the top](#table-of-contents)\n",
    "___"
   ]
  },
  {
   "cell_type": "markdown",
   "id": "026abaa2",
   "metadata": {},
   "source": [
    "<a id=\"pandas\"></a>\n",
    "# 🐼 Pandas\n"
   ]
  },
  {
   "cell_type": "markdown",
   "id": "ca016476",
   "metadata": {},
   "source": [
    "<a id=\"create-df\"></a>\n",
    "#### 📥 Create a Series/DataFrame\n"
   ]
  },
  {
   "cell_type": "code",
   "execution_count": null,
   "id": "6002fbf6",
   "metadata": {},
   "outputs": [],
   "source": [
    "import pandas as pd\n",
    "\n",
    "pd.Series([3,-5,7,4])\n",
    "pd.Series([3,-5,7,4], index = [11,12,13,14])\n",
    "s = pd.Series([3,-5,7,4], index = [\"a\",\"b\",\"c\",\"d\"])\n",
    "\n",
    "s.drop([\"a\"]) # returns a value not inplace. Inplace = F by default\n",
    "\n",
    "df = {\n",
    "      \"country\" : [\"belgium\",\"india\",\"brazil\"],\n",
    "      \"capital\" : [\"brussles\",\"delhi\",\"brasilia\"],\n",
    "      \"population\":[10,30,20]      \n",
    "      }\n",
    "df = pd.DataFrame(df)\n",
    "df\n",
    "\n",
    "df.drop(1)\n",
    "df.drop([1,2])\n",
    "\n",
    "df.drop(\"capital\", axis=1)\n",
    "df.drop([\"capital\",\"country\"], axis=1)"
   ]
  },
  {
   "cell_type": "markdown",
   "id": "7e748812",
   "metadata": {},
   "source": [
    "<a id=\"sort\"></a>\n",
    "#### 📊 Sort\n"
   ]
  },
  {
   "cell_type": "code",
   "execution_count": null,
   "id": "9b20271b",
   "metadata": {},
   "outputs": [],
   "source": [
    "mtcars = pd.read_csv(\"data\\\\mtcars_rownames.csv\", index_col = \"Unnamed: 0\")\n",
    "mtcars = pd.read_excel(\"data\\\\mtcars_rownames.xlsx\", index_col = \"Unnamed: 0\")\n",
    "\n",
    "df\n",
    "df.sort_values(by=\"country\")\n",
    "df.sort_values([\"country\"])\n",
    "              \n",
    "mtcars.sort_values([\"cyl\",\"vs\",\"am\",\"drat\"])\n",
    "mtcars.sort_index()\n",
    "\n",
    "mtcars = pd.read_csv(\"data\\\\mtcars_rownames.csv\", index_col = \"Unnamed: 0\").head(5)\n",
    "iris = pd.read_csv(\"data\\\\iris_rownames.csv\", index_col = \"Unnamed: 0\").head(5)\n",
    "\n"
   ]
  },
  {
   "cell_type": "markdown",
   "id": "95881ca1",
   "metadata": {},
   "source": [
    "<a id=\"index-pos\"></a>\n",
    "#### 🔢 Index – by Row/Column Position\n"
   ]
  },
  {
   "cell_type": "code",
   "execution_count": null,
   "id": "4a318541",
   "metadata": {},
   "outputs": [],
   "source": [
    "# give integer row positions and column positions only\n",
    "mtcars.iloc[1,1] # int\n",
    "mtcars.iloc[1,:] # series, regardless of datatypes inside the series, colon optional\n",
    "# iris.iloc[:1] # first row, not recommended due to complexity of syntax\n",
    "iris.iloc[[1],:] # DataFrame, and not a series since the inputs is list and not vector\n",
    "\n",
    "mtcars.iloc[:,1] # series, regardless of datatypes inside the series, colon mandatory\n",
    "\n",
    "mtcars.iloc[[1,2] ,[1,2]] # DataFrame\n",
    "mtcars.iloc[: ,[1,2]] # DataFrame\n",
    "\n",
    "mtcars.iat[1,1] # int, iat needs both x and y position, not recommended to use\n",
    "# mtcars.iat[1,] # do not work\n",
    "# mtcars.iat[:,1] # do not work\n",
    "# mtcars.iat[[1,2] ,[1,2]] # do not work\n",
    "# mtcars.iat[: ,[1,2]] # do not work\n"
   ]
  },
  {
   "cell_type": "markdown",
   "id": "03891cc7",
   "metadata": {},
   "source": [
    "<a id=\"index-label\"></a>\n",
    "#### 🏷️ Index – by Row/Column Label\n"
   ]
  },
  {
   "cell_type": "code",
   "execution_count": null,
   "id": "e73d54f8",
   "metadata": {},
   "outputs": [],
   "source": [
    "# Input row names and column names only\n",
    "mtcars.loc[\"Datsun 710\",\"cyl\"]\n",
    "mtcars.loc[\"Datsun 710\",] # series, colon optional\n",
    "mtcars.loc[\"Datsun 710\",:] # series, colon optional\n",
    "# mtcars.loc[,\"cyl\"] # series, colon mandatory\n",
    "mtcars.loc[:,\"cyl\"] # series, colon mandatory\n",
    "# mtcars.loc[4,\"cyl\"] # failed, no rowname called 4\n",
    "# mtcars.loc[\"Datsun 710\",\"2\"] # failed, no colname called 2\n"
   ]
  },
  {
   "cell_type": "markdown",
   "id": "a71aa174",
   "metadata": {},
   "source": [
    "<a id=\"index-mixed\"></a>\n",
    "#### 🧭 Index – by Label/Position\n"
   ]
  },
  {
   "cell_type": "code",
   "execution_count": null,
   "id": "21ac632f",
   "metadata": {},
   "outputs": [],
   "source": [
    "# stopped working in newer version\n"
   ]
  },
  {
   "cell_type": "markdown",
   "id": "10ec530c",
   "metadata": {},
   "source": [
    "<a id=\"index-bool\"></a>\n",
    "#### ✅ Index – by Boolean Mask\n"
   ]
  },
  {
   "cell_type": "code",
   "execution_count": null,
   "id": "5b3701a4",
   "metadata": {},
   "outputs": [],
   "source": [
    "mtcars.cyl # dtype int, type series \n",
    "type(mtcars.cyl)\n",
    "(mtcars.cyl).dtypes\n",
    "\n",
    "mtcars.cyl > 4 # dtype boolean, type series\n",
    "type(mtcars.cyl > 4)\n",
    "(mtcars.cyl > 4).dtypes\n",
    "\n",
    "mtcars[mtcars.cyl > 4]\n",
    "# mtcars[some_boolean_series]\n",
    "\n",
    "s>3 #type series, dtype boolean\n",
    "s[s>3] #type series, dtype int\n",
    "s[(s>3)]\n",
    "s[~(s>3)]\n",
    "# s[!(s>3)] # does not work, negation happens using tilde ~\n",
    "s[(s>3) | (s < -3) ]\n",
    "\n"
   ]
  },
  {
   "cell_type": "markdown",
   "id": "770946c7",
   "metadata": {},
   "source": [
    "<a id=\"access-columns\"></a>\n",
    "#### 🧩 Access Columns\n"
   ]
  },
  {
   "cell_type": "code",
   "execution_count": null,
   "id": "172bee53",
   "metadata": {},
   "outputs": [],
   "source": [
    "mtcars.hp\n",
    "mtcars[\"hp\"]\n",
    "\n",
    "# s[\"b\"]\n",
    "# df[1]\n",
    "# mtcars[1]"
   ]
  },
  {
   "cell_type": "markdown",
   "id": "4a8cab16",
   "metadata": {},
   "source": [
    "<a id=\"functions-df\"></a>\n",
    "#### 🧮 Functions on DataFrame\n"
   ]
  },
  {
   "cell_type": "code",
   "execution_count": null,
   "id": "c61f1a89",
   "metadata": {},
   "outputs": [],
   "source": [
    "mtcars.shape\n",
    "mtcars.index # type = pandas.core.indexes.base.Index\n",
    "mtcars.columns # # type = pandas.core.indexes.base.Index\n",
    "mtcars.info()\n",
    "mtcars.dtypes # a series\n",
    "mtcars.count() # didnt understand\n",
    "\n",
    "df.sum() # sum by each colunm, a series\n",
    "mtcars.sum()\n",
    "mtcars.cumsum() # a dataframe\n",
    "mtcars.min() # a series\n",
    "mtcars.idxmin() # rowlabel corresponding to lowest value in each column\n",
    "mtcars.describe() # summary statistics\n",
    "mtcars.mean() # mean of each colunm, a series\n"
   ]
  },
  {
   "cell_type": "markdown",
   "id": "9f0a0ef3",
   "metadata": {},
   "source": [
    "`Apply` function "
   ]
  },
  {
   "cell_type": "code",
   "execution_count": null,
   "id": "dd1d8074",
   "metadata": {},
   "outputs": [],
   "source": [
    "f = lambda x: x + 1000\n",
    "mtcars.apply(f)\n",
    "\n",
    "f_mean = lambda x: x.mean()\n",
    "mtcars.apply(f_mean) # mean of each column\n",
    "\n",
    "f = lambda x: x + 1000\n",
    "mtcars.applymap(f)\n"
   ]
  },
  {
   "cell_type": "markdown",
   "id": "74a8aeb8",
   "metadata": {},
   "source": [
    "<a id=\"aggregate-df\"></a>\n",
    "#### 📊 Aggregate DataFrame\n"
   ]
  },
  {
   "cell_type": "code",
   "execution_count": null,
   "id": "1a6323e4",
   "metadata": {},
   "outputs": [],
   "source": [
    "import pandas as pd\n",
    "df = pd.read_csv(r\"C:\\Users\\Ashrith Reddy\\My Drive\\02_learning\\python\\01_datatypes\\mtcars.csv\")\n",
    "\n",
    "# aggregate entire dataset\n",
    "f_mean = lambda x: x.mean()\n",
    "df.apply(f_mean) # mean of each column, returns a series\n",
    "\n",
    "df.groupby('am').apply(f_mean) # # mean of each column, for each group\n",
    "\n",
    "df_grouped = df.groupby('am')\n",
    "df_grouped\n",
    "type(df)\n",
    "type(df_grouped)\n",
    "df_grouped.obj # a pandas dataframe\n"
   ]
  },
  {
   "cell_type": "code",
   "execution_count": null,
   "id": "5e13c400",
   "metadata": {},
   "outputs": [],
   "source": [
    "# all attributes of grouped dataframe\n",
    "df_grouped.__dict__.keys() # same as vars(df_grouped)\n",
    "\n",
    "f_sum = lambda x: x.mean()\n",
    "temp = df_grouped.apply(f_sum)\n",
    "temp # wierd behavior: aggregate the grouping column\n"
   ]
  },
  {
   "cell_type": "code",
   "execution_count": null,
   "id": "2517e197",
   "metadata": {},
   "outputs": [],
   "source": [
    "df.groupby(['vs','am']).agg(sum).reset_index()\n",
    "df.groupby(['vs','am']).agg(\"sum\").reset_index() # quotes work for built-in functions\n",
    "\n",
    "df.groupby(['vs','am']).agg(sum,max).reset_index() # fails\n",
    "df.groupby(['vs','am']).agg([\"sum\",\"max\"]).reset_index()"
   ]
  },
  {
   "cell_type": "code",
   "execution_count": null,
   "id": "4df451d9",
   "metadata": {},
   "outputs": [],
   "source": [
    "my_sum = lambda x: x.sum()\n",
    "# df.groupby(['vs','am']).agg(\"my_sum\").reset_index() # quotes fail for UDF\n",
    "df.groupby(['vs','am']).agg(my_sum).reset_index() # no quotes preferred\n",
    "df.groupby(['vs','am']).agg(lambda x: x.sum()).reset_index()\n"
   ]
  },
  {
   "cell_type": "code",
   "execution_count": null,
   "id": "05988e8e",
   "metadata": {},
   "outputs": [],
   "source": [
    "def my_sum_2(x):\n",
    "    return x.sum()\n",
    "df.groupby(['vs','am']).agg(my_sum_2).reset_index()\n"
   ]
  },
  {
   "cell_type": "code",
   "execution_count": null,
   "id": "b0c11f13",
   "metadata": {},
   "outputs": [],
   "source": [
    "# single groupby variable, single aggregating column\n",
    "df['disp'].groupby('vs') # wont work\n",
    "df['disp'].groupby(df.vs) # works\n",
    "df['disp'].groupby(df['vs']) # works\n",
    "df['disp'].groupby(df.vs).mean() \n"
   ]
  },
  {
   "cell_type": "code",
   "execution_count": null,
   "id": "7523b4fc",
   "metadata": {},
   "outputs": [],
   "source": [
    "# multiple groupby variable, single aggregating column\n",
    "df['disp'].groupby(df.vs, df.am) # fails\n",
    "df['disp'].groupby([df.vs, df.am]) # works\n",
    "df['disp'].groupby([df.vs, df.am]).mean().reset_index()\n"
   ]
  },
  {
   "cell_type": "code",
   "execution_count": null,
   "id": "6ae5b893",
   "metadata": {},
   "outputs": [],
   "source": [
    "# multiple groupby variable, multiple aggregating column\n",
    "df[['disp','hp']].groupby([df.vs, df.am]).mean().reset_index()\n",
    "\n",
    "# extras\n",
    "df.groupby(['vs', 'am']).size().reset_index()\n",
    "\n",
    "for group, group_data in df.groupby(['vs','am']):\n",
    "    print(\"###############\")\n",
    "    print(group)\n",
    "    print(group_data)\n",
    "\n",
    "# interchangable order of writing\n",
    "df[['disp','hp']].groupby([df.vs, df.am]).mean() # is same as \n",
    "df.groupby([df.vs, df.am])[['disp','hp']].mean() # is same as \n",
    "df.groupby([\"vs\", \"am\"])[['disp','hp']].mean() # preferred\n"
   ]
  },
  {
   "cell_type": "code",
   "execution_count": null,
   "id": "ced5b400",
   "metadata": {},
   "outputs": [],
   "source": [
    "# multiple aggregating functions\n",
    "df.groupby([\"vs\", \"am\"])[['disp','hp']].agg(max) # max applied on disp and hp\n",
    "df.groupby([\"vs\", \"am\"])[['disp','hp']].agg([max,min]) # max applied on disp and hp, and min applied on disp and hp\n",
    "\n",
    "df.groupby([\"vs\", \"am\"])[['disp','hp']].agg({'disp':'max', 'hp':'min'}) # works\n",
    "df.groupby([\"vs\", \"am\"])[['disp','hp']].agg({'disp':max, 'hp':min}) # works\n",
    "df.groupby([\"vs\", \"am\"]).agg({'disp':max, 'hp':min}) # works\n"
   ]
  },
  {
   "cell_type": "code",
   "execution_count": null,
   "id": "d7fdfa57",
   "metadata": {},
   "outputs": [],
   "source": [
    "# multiple aggregating functions - different functions for each aggregating column\n",
    "df.groupby([\"vs\", \"am\"]).agg({\n",
    "    'disp':max, \n",
    "    'hp':min,\n",
    "    'gear':lambda x: x.max() - x.min()\n",
    "    })\n",
    "\n",
    "df.groupby([\"vs\", \"am\"]).agg({\n",
    "    'disp':[max, min, lambda x: x.max() - x.min()], \n",
    "    'hp':min,    \n",
    "    })\n",
    "\n",
    "df.groupby([\"vs\", \"am\"]).agg({\n",
    "    'disp':lambda x: x.max() - x.min(), \n",
    "    'hp':lambda x: x.min() - x.max(),    \n",
    "    })\n"
   ]
  },
  {
   "cell_type": "code",
   "execution_count": null,
   "id": "516fb579",
   "metadata": {},
   "outputs": [],
   "source": [
    "# rename columns after aggregating\n",
    "temp = df.groupby([\"vs\", \"am\"]).agg({\n",
    "    'disp':[max, min, lambda x: x.max() - x.min()], \n",
    "    'hp':min,    \n",
    "    })\n",
    "print(temp)\n",
    "temp.columns = ['_'.join(x) for x in temp.columns]\n",
    "print(temp.reset_index())\n"
   ]
  },
  {
   "cell_type": "code",
   "execution_count": null,
   "id": "a662e2b1",
   "metadata": {},
   "outputs": [],
   "source": [
    "# name columns while aggregating :)\n",
    "df.groupby([\"vs\", \"am\"]).agg(\n",
    "    min_disp=('disp','min'),\n",
    "    max_disp=('disp','max'),\n",
    "    max_hp=('hp','max'),\n",
    "    min_hp=('hp',min),\n",
    "    range_hp=('hp',lambda x: x.max()-x.min()),  # interestingly, a comma is allowed after last aggegation\n",
    "    )\n"
   ]
  },
  {
   "cell_type": "code",
   "execution_count": null,
   "id": "e95b6eba",
   "metadata": {},
   "outputs": [],
   "source": [
    "# additional features\n",
    "df.groupby([\"vs\", \"am\"], as_index = False).agg(\n",
    "    min_disp=('disp','min'),\n",
    "    )# avoid having to reset_index()\n",
    "\n",
    "df.groupby([\"vs\", \"am\"]).agg(\n",
    "    min_disp=('disp','min'),\n",
    "    )# avoid having to reset_index()"
   ]
  },
  {
   "cell_type": "markdown",
   "id": "706d5e52",
   "metadata": {},
   "source": [
    "<a id=\"grouped-mutate\"></a>\n",
    "#### 🧬 Grouped Mutate\n"
   ]
  },
  {
   "cell_type": "code",
   "execution_count": null,
   "id": "3628b60c",
   "metadata": {},
   "outputs": [],
   "source": [
    "# df.groupby(\"cyl\").apply(max(hp))\n",
    "df.groupby(\"cyl\")[\"hp\"].transform(\"sum\") \n",
    "df.groupby(\"cyl\")[\"hp\"].transform(sum)\n",
    "df.groupby(\"cyl\")[\"hp\"].transform(lambda x: sum(x)/(1000 + 10))\n",
    "df.groupby(\"cyl\")[[\"hp\",\"mpg\"]].transform(lambda x: sum(x))\n",
    "\n",
    "def temp_fun(x):\n",
    "    # print(\"###########################\")\n",
    "    answer = sum(x.vs) - sum(x.am)\n",
    "    return answer\n",
    "# df.groupby(\"cyl\").transform(temp_fun)\n",
    "\n",
    "temp = df.groupby(\"cyl\").\\\n",
    "    apply(temp_fun).\\\n",
    "    to_frame().\\\n",
    "    rename(columns={0:\"vs_as\"}).\\\n",
    "    reset_index()\n",
    "df.merge(temp)"
   ]
  },
  {
   "cell_type": "markdown",
   "id": "4fca3a37",
   "metadata": {},
   "source": [
    "<a id=\"reshape-df\"></a>\n",
    "#### 🔄 Reshape\n"
   ]
  },
  {
   "cell_type": "markdown",
   "id": "f38e9648",
   "metadata": {},
   "source": [
    "<a id=\"window-function\"></a>\n",
    "#### 🔄 window-function\n",
    "\n"
   ]
  },
  {
   "cell_type": "code",
   "execution_count": null,
   "id": "4d5ce73f",
   "metadata": {},
   "outputs": [],
   "source": [
    "df = df.sort_values(['user', 'date'])"
   ]
  },
  {
   "cell_type": "code",
   "execution_count": null,
   "id": "56213c1d",
   "metadata": {},
   "outputs": [],
   "source": [
    "# ROW_NUMBER\n",
    "df['row_number'] = df.groupby('user').cumcount() + 1\n"
   ]
  },
  {
   "cell_type": "code",
   "execution_count": null,
   "id": "d5543466",
   "metadata": {},
   "outputs": [],
   "source": [
    "# RANK and DENSE_RANK\n",
    "df['rank'] = df.groupby('user')['score'].rank(method='min')\n",
    "df['dense_rank'] = df.groupby('user')['score'].rank(method='dense')"
   ]
  },
  {
   "cell_type": "code",
   "execution_count": null,
   "id": "fb01a30d",
   "metadata": {},
   "outputs": [],
   "source": [
    "# LAG and LEAD\n",
    "df['lag_score'] = df.groupby('user')['score'].shift(1)\n",
    "df['lead_score'] = df.groupby('user')['score'].shift(-1)\n"
   ]
  },
  {
   "cell_type": "code",
   "execution_count": null,
   "id": "e1e6d31f",
   "metadata": {},
   "outputs": [],
   "source": [
    "# CUMULATIVE SUM, MAX, MIN\n",
    "df['cum_sum'] = df.groupby('user')['score'].cumsum()\n",
    "df['cum_max'] = df.groupby('user')['score'].cummax()\n",
    "df['cum_min'] = df.groupby('user')['score'].cummin()\n"
   ]
  },
  {
   "cell_type": "code",
   "execution_count": null,
   "id": "23851bf3",
   "metadata": {},
   "outputs": [],
   "source": [
    "# CUMULATIVE AVERAGE (running avg)\n",
    "df['running_avg'] = df.groupby('user')['score'].expanding().mean().reset_index(level=0, drop=True)"
   ]
  },
  {
   "cell_type": "markdown",
   "id": "14808c0f",
   "metadata": {},
   "source": [
    "[Back to the top](#table-of-contents)\n",
    "___"
   ]
  }
 ],
 "metadata": {
  "kernelspec": {
   "display_name": "base",
   "language": "python",
   "name": "python3"
  },
  "language_info": {
   "codemirror_mode": {
    "name": "ipython",
    "version": 3
   },
   "file_extension": ".py",
   "mimetype": "text/x-python",
   "name": "python",
   "nbconvert_exporter": "python",
   "pygments_lexer": "ipython3",
   "version": "3.11.3"
  }
 },
 "nbformat": 4,
 "nbformat_minor": 5
}
