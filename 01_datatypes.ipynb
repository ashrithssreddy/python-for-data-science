{
 "cells": [
  {
   "cell_type": "markdown",
   "id": "06fdea28",
   "metadata": {},
   "source": [
    "<a id=\"table-of-contents\"></a>\n",
    "# 📘 DataTypes\n",
    "\n",
    "[🔢 Integers/Numerics](#integersnumerics)    \n",
    "[🔘 Boolean](#boolean)    \n",
    "[🔤 Strings](#strings)    \n",
    "[📋 Containers - List](#containers---list)    \n",
    "[📦 Containers - Tuple](#containers---tuple)    \n",
    "[🔣 Containers - Set](#containers---set)    \n",
    "[🗂️ Containers - Dictionary](#containers---dictionary)    \n",
    "[🧰 Containers - Collections](#containers---collections)    \n",
    "[🪢 Containers - Zip](#containers---zip)    \n",
    "\n",
    "___"
   ]
  },
  {
   "cell_type": "markdown",
   "id": "7d571fa9",
   "metadata": {},
   "source": [
    "<a id=\"integersnumerics\"></a>\n",
    "# 🔢 Integers/Numerics"
   ]
  },
  {
   "cell_type": "code",
   "execution_count": 1,
   "id": "569c98ba",
   "metadata": {},
   "outputs": [],
   "source": [
    "from IPython.core.interactiveshell import InteractiveShell\n",
    "InteractiveShell.ast_node_interactivity = \"all\""
   ]
  },
  {
   "cell_type": "code",
   "execution_count": 5,
   "id": "260f9835",
   "metadata": {},
   "outputs": [
    {
     "data": {
      "text/plain": [
       "int"
      ]
     },
     "execution_count": 5,
     "metadata": {},
     "output_type": "execute_result"
    }
   ],
   "source": [
    "x = 10\n",
    "type(x)"
   ]
  },
  {
   "cell_type": "markdown",
   "id": "66a0c623",
   "metadata": {},
   "source": [
    "Type Casting"
   ]
  },
  {
   "cell_type": "code",
   "execution_count": 11,
   "id": "00130193",
   "metadata": {},
   "outputs": [
    {
     "data": {
      "text/plain": [
       "20.0"
      ]
     },
     "execution_count": 11,
     "metadata": {},
     "output_type": "execute_result"
    },
    {
     "data": {
      "text/plain": [
       "20.0"
      ]
     },
     "execution_count": 11,
     "metadata": {},
     "output_type": "execute_result"
    },
    {
     "data": {
      "text/plain": [
       "20"
      ]
     },
     "execution_count": 11,
     "metadata": {},
     "output_type": "execute_result"
    },
    {
     "data": {
      "text/plain": [
       "20"
      ]
     },
     "execution_count": 11,
     "metadata": {},
     "output_type": "execute_result"
    },
    {
     "data": {
      "text/plain": [
       "'201'"
      ]
     },
     "execution_count": 11,
     "metadata": {},
     "output_type": "execute_result"
    }
   ],
   "source": [
    "float(20)\n",
    "float('20')\n",
    "\n",
    "int('20')\n",
    "int(20.2)\n",
    "\n",
    "str(201)"
   ]
  },
  {
   "cell_type": "code",
   "execution_count": 6,
   "id": "870ad922",
   "metadata": {},
   "outputs": [
    {
     "data": {
      "text/plain": [
       "[3, 2, 1, 4, 5]"
      ]
     },
     "execution_count": 6,
     "metadata": {},
     "output_type": "execute_result"
    },
    {
     "data": {
      "text/plain": [
       "list"
      ]
     },
     "execution_count": 6,
     "metadata": {},
     "output_type": "execute_result"
    }
   ],
   "source": [
    "x = [3,2,1,4,5]\n",
    "x\n",
    "type(x)"
   ]
  },
  {
   "cell_type": "code",
   "execution_count": 7,
   "id": "6670794f",
   "metadata": {},
   "outputs": [
    {
     "data": {
      "text/plain": [
       "3.0"
      ]
     },
     "execution_count": 7,
     "metadata": {},
     "output_type": "execute_result"
    }
   ],
   "source": [
    "import numpy as np\n",
    "np.mean(x)"
   ]
  },
  {
   "cell_type": "code",
   "execution_count": null,
   "id": "8dfc41a3",
   "metadata": {},
   "outputs": [],
   "source": [
    "#### Missing values ####?\n",
    "# Functions to identify missing values?"
   ]
  },
  {
   "cell_type": "code",
   "execution_count": 8,
   "id": "8f85c5b5",
   "metadata": {},
   "outputs": [
    {
     "data": {
      "text/plain": [
       "[True, True, True, True, False, False]"
      ]
     },
     "execution_count": 8,
     "metadata": {},
     "output_type": "execute_result"
    },
    {
     "data": {
      "text/plain": [
       "[False, False, False, False, True, False]"
      ]
     },
     "execution_count": 8,
     "metadata": {},
     "output_type": "execute_result"
    },
    {
     "data": {
      "text/plain": [
       "[False, False, False, False, False, True]"
      ]
     },
     "execution_count": 8,
     "metadata": {},
     "output_type": "execute_result"
    }
   ],
   "source": [
    "x = [3,2,1,4,5.2,'apple']\n",
    "[isinstance(i, int) for i in x]\n",
    "[isinstance(i, float) for i in x]\n",
    "[isinstance(i, str) for i in x]"
   ]
  },
  {
   "cell_type": "code",
   "execution_count": 9,
   "id": "57beb428",
   "metadata": {},
   "outputs": [],
   "source": [
    "if False:\n",
    "    y = 10\n",
    "    y.is_integer() # True\n",
    "\n",
    "    y = 10.0\n",
    "    y.is_integer() # True\n",
    "\n",
    "    y = 10.2\n",
    "    y.is_integer() # False"
   ]
  },
  {
   "cell_type": "markdown",
   "id": "fad3e9c6",
   "metadata": {},
   "source": [
    "[Back to the top](#table-of-contents)\n",
    "___"
   ]
  },
  {
   "cell_type": "markdown",
   "id": "8fc4531f",
   "metadata": {},
   "source": [
    "<a id=\"boolean\"></a>\n",
    "# 🔘 Boolean"
   ]
  },
  {
   "cell_type": "code",
   "execution_count": 13,
   "id": "1f4e2deb",
   "metadata": {},
   "outputs": [
    {
     "name": "stdout",
     "output_type": "stream",
     "text": [
      "True\n"
     ]
    },
    {
     "data": {
      "text/plain": [
       "bool"
      ]
     },
     "execution_count": 13,
     "metadata": {},
     "output_type": "execute_result"
    },
    {
     "data": {
      "text/plain": [
       "True"
      ]
     },
     "execution_count": 13,
     "metadata": {},
     "output_type": "execute_result"
    }
   ],
   "source": [
    "x = True\n",
    "print(x)\n",
    "type(x)\n",
    "\n",
    "type(x) == bool"
   ]
  },
  {
   "cell_type": "code",
   "execution_count": 14,
   "id": "4379b534",
   "metadata": {},
   "outputs": [
    {
     "name": "stdout",
     "output_type": "stream",
     "text": [
      "False\n"
     ]
    },
    {
     "data": {
      "text/plain": [
       "bool"
      ]
     },
     "execution_count": 14,
     "metadata": {},
     "output_type": "execute_result"
    }
   ],
   "source": [
    "x = False\n",
    "print(x)\n",
    "\n",
    "type(x)"
   ]
  },
  {
   "cell_type": "code",
   "execution_count": 17,
   "id": "62a8ad87",
   "metadata": {},
   "outputs": [
    {
     "data": {
      "text/plain": [
       "[True, False, True]"
      ]
     },
     "execution_count": 17,
     "metadata": {},
     "output_type": "execute_result"
    },
    {
     "data": {
      "text/plain": [
       "2"
      ]
     },
     "execution_count": 17,
     "metadata": {},
     "output_type": "execute_result"
    },
    {
     "data": {
      "text/plain": [
       "0"
      ]
     },
     "execution_count": 17,
     "metadata": {},
     "output_type": "execute_result"
    }
   ],
   "source": [
    "xx = [True, False, True]\n",
    "xx\n",
    "\n",
    "sum(xx)\n",
    "sum([False, False, False])"
   ]
  },
  {
   "cell_type": "code",
   "execution_count": 18,
   "id": "2b384c16",
   "metadata": {},
   "outputs": [
    {
     "data": {
      "text/plain": [
       "True"
      ]
     },
     "execution_count": 18,
     "metadata": {},
     "output_type": "execute_result"
    },
    {
     "data": {
      "text/plain": [
       "list"
      ]
     },
     "execution_count": 18,
     "metadata": {},
     "output_type": "execute_result"
    },
    {
     "data": {
      "text/plain": [
       "[bool, bool, bool]"
      ]
     },
     "execution_count": 18,
     "metadata": {},
     "output_type": "execute_result"
    }
   ],
   "source": [
    "xx[0]\n",
    "\n",
    "type(xx)\n",
    "[type(a) for a in xx]"
   ]
  },
  {
   "cell_type": "markdown",
   "id": "a7ad7077",
   "metadata": {},
   "source": [
    "[Back to the top](#table-of-contents)\n",
    "___"
   ]
  },
  {
   "cell_type": "markdown",
   "id": "74cef8af",
   "metadata": {},
   "source": [
    "<a id=\"strings\"></a>\n",
    "# 🔤 Strings"
   ]
  },
  {
   "cell_type": "code",
   "execution_count": 19,
   "id": "32f6c42d",
   "metadata": {},
   "outputs": [
    {
     "data": {
      "text/plain": [
       "str"
      ]
     },
     "execution_count": 19,
     "metadata": {},
     "output_type": "execute_result"
    },
    {
     "data": {
      "text/plain": [
       "5"
      ]
     },
     "execution_count": 19,
     "metadata": {},
     "output_type": "execute_result"
    },
    {
     "data": {
      "text/plain": [
       "'a'"
      ]
     },
     "execution_count": 19,
     "metadata": {},
     "output_type": "execute_result"
    }
   ],
   "source": [
    "x = \"apple\"\n",
    "type(x)\n",
    "len(x)\n",
    "x[0]"
   ]
  },
  {
   "cell_type": "code",
   "execution_count": 28,
   "id": "0816ebc7",
   "metadata": {},
   "outputs": [
    {
     "data": {
      "text/plain": [
       "'APPLE'"
      ]
     },
     "execution_count": 28,
     "metadata": {},
     "output_type": "execute_result"
    },
    {
     "data": {
      "text/plain": [
       "'apple'"
      ]
     },
     "execution_count": 28,
     "metadata": {},
     "output_type": "execute_result"
    },
    {
     "data": {
      "text/plain": [
       "'Apple A Day Doctor Away'"
      ]
     },
     "execution_count": 28,
     "metadata": {},
     "output_type": "execute_result"
    }
   ],
   "source": [
    "\"apple\".upper()\n",
    "\"APPLE\".lower()\n",
    "\"APPLE A day doctoR away\".title()"
   ]
  },
  {
   "cell_type": "code",
   "execution_count": 29,
   "id": "b21c8a76",
   "metadata": {},
   "outputs": [
    {
     "data": {
      "text/plain": [
       "list"
      ]
     },
     "execution_count": 29,
     "metadata": {},
     "output_type": "execute_result"
    },
    {
     "data": {
      "text/plain": [
       "3"
      ]
     },
     "execution_count": 29,
     "metadata": {},
     "output_type": "execute_result"
    },
    {
     "data": {
      "text/plain": [
       "'banana'"
      ]
     },
     "execution_count": 29,
     "metadata": {},
     "output_type": "execute_result"
    },
    {
     "data": {
      "text/plain": [
       "True"
      ]
     },
     "execution_count": 29,
     "metadata": {},
     "output_type": "execute_result"
    },
    {
     "data": {
      "text/plain": [
       "True"
      ]
     },
     "execution_count": 29,
     "metadata": {},
     "output_type": "execute_result"
    }
   ],
   "source": [
    "x = [\"banana\",\"apple\",\"carrot\"]\n",
    "type(x)\n",
    "len(x)\n",
    "x[0]\n",
    "\n",
    "type(x) == list # True\n",
    "type(x) is list # True"
   ]
  },
  {
   "cell_type": "code",
   "execution_count": 21,
   "id": "16e79552",
   "metadata": {},
   "outputs": [
    {
     "data": {
      "text/plain": [
       "{'apple', 'banana', 'carrot'}"
      ]
     },
     "execution_count": 21,
     "metadata": {},
     "output_type": "execute_result"
    },
    {
     "data": {
      "text/plain": [
       "['carrot', 'apple', 'banana']"
      ]
     },
     "execution_count": 21,
     "metadata": {},
     "output_type": "execute_result"
    }
   ],
   "source": [
    "x = [\"banana\",\"apple\",\"carrot\"]\n",
    "set(x)\n",
    "list(set(x)) # order changed"
   ]
  },
  {
   "cell_type": "code",
   "execution_count": 22,
   "id": "e0267a46",
   "metadata": {},
   "outputs": [
    {
     "data": {
      "text/plain": [
       "'carrot'"
      ]
     },
     "execution_count": 22,
     "metadata": {},
     "output_type": "execute_result"
    },
    {
     "data": {
      "text/plain": [
       "'apple'"
      ]
     },
     "execution_count": 22,
     "metadata": {},
     "output_type": "execute_result"
    },
    {
     "data": {
      "text/plain": [
       "3"
      ]
     },
     "execution_count": 22,
     "metadata": {},
     "output_type": "execute_result"
    }
   ],
   "source": [
    "x = [\"banana\",\"apple\",\"carrot\"]\n",
    "max(x)\n",
    "min(x)\n",
    "len(x)\n"
   ]
  },
  {
   "cell_type": "code",
   "execution_count": 23,
   "id": "8d12a6c9",
   "metadata": {},
   "outputs": [
    {
     "data": {
      "text/plain": [
       "['apple', 'banana', 'carrot']"
      ]
     },
     "execution_count": 23,
     "metadata": {},
     "output_type": "execute_result"
    },
    {
     "data": {
      "text/plain": [
       "['apple', 'banana', 'carrot']"
      ]
     },
     "execution_count": 23,
     "metadata": {},
     "output_type": "execute_result"
    }
   ],
   "source": [
    "sorted(x) # returns a value\n",
    "x.sort() # in place\n",
    "x\n"
   ]
  },
  {
   "cell_type": "code",
   "execution_count": 25,
   "id": "d92dcbe9",
   "metadata": {},
   "outputs": [
    {
     "data": {
      "text/plain": [
       "'applebanana'"
      ]
     },
     "execution_count": 25,
     "metadata": {},
     "output_type": "execute_result"
    },
    {
     "data": {
      "text/plain": [
       "'apple banana'"
      ]
     },
     "execution_count": 25,
     "metadata": {},
     "output_type": "execute_result"
    }
   ],
   "source": [
    "\"apple\" + \"banana\"\n",
    "\" \".join([\"apple\", \"banana\"])"
   ]
  },
  {
   "cell_type": "code",
   "execution_count": 26,
   "id": "0a4ce32c",
   "metadata": {},
   "outputs": [
    {
     "data": {
      "text/plain": [
       "['applecarrot', 'bananadragonfruit']"
      ]
     },
     "execution_count": 26,
     "metadata": {},
     "output_type": "execute_result"
    }
   ],
   "source": [
    "l1 = [\"apple\",\"banana\"]\n",
    "l2 = [\"carrot\",\"dragonfruit\"]\n",
    "[a + b for a, b in zip(l1, l2)]"
   ]
  },
  {
   "cell_type": "code",
   "execution_count": 30,
   "id": "9b1e9c3a",
   "metadata": {},
   "outputs": [
    {
     "data": {
      "text/plain": [
       "'APPLE A day doctoR away'"
      ]
     },
     "execution_count": 30,
     "metadata": {},
     "output_type": "execute_result"
    },
    {
     "data": {
      "text/plain": [
       "'-- a day doctoR away'"
      ]
     },
     "execution_count": 30,
     "metadata": {},
     "output_type": "execute_result"
    },
    {
     "data": {
      "text/plain": [
       "'-- a day doctoR away --'"
      ]
     },
     "execution_count": 30,
     "metadata": {},
     "output_type": "execute_result"
    }
   ],
   "source": [
    "\"APPLE A day doctoR away\".replace(\"apple\",\"--\")\n",
    "\"apple a day doctoR away\".replace(\"apple\",\"--\")\n",
    "\"apple a day doctoR away apple\".replace(\"apple\",\"--\")"
   ]
  },
  {
   "cell_type": "code",
   "execution_count": 31,
   "id": "3a6e98cf",
   "metadata": {},
   "outputs": [],
   "source": [
    "# replace only the first n instances?\n",
    "\n",
    "# string extract all or some instances?"
   ]
  },
  {
   "cell_type": "code",
   "execution_count": 32,
   "id": "bb6130a4",
   "metadata": {},
   "outputs": [
    {
     "data": {
      "text/plain": [
       "''"
      ]
     },
     "execution_count": 32,
     "metadata": {},
     "output_type": "execute_result"
    },
    {
     "data": {
      "text/plain": [
       "'c'"
      ]
     },
     "execution_count": 32,
     "metadata": {},
     "output_type": "execute_result"
    },
    {
     "data": {
      "text/plain": [
       "'cdefghij'"
      ]
     },
     "execution_count": 32,
     "metadata": {},
     "output_type": "execute_result"
    },
    {
     "data": {
      "text/plain": [
       "'cegi'"
      ]
     },
     "execution_count": 32,
     "metadata": {},
     "output_type": "execute_result"
    }
   ],
   "source": [
    "l = \"abcdefghijklmnopqrstuvwxyz\"\n",
    "l[2:2]\n",
    "l[2:3]\n",
    "l[2:10]\n",
    "l[2:10:2]"
   ]
  },
  {
   "cell_type": "code",
   "execution_count": null,
   "id": "746dbae9",
   "metadata": {},
   "outputs": [],
   "source": [
    "many_strings = [\"north carolina\",\"south carolina\",\"new hampshire\",\"north dakota\"]\n",
    "\"north carolina\".find(\"carolina\")\n",
    "\"new hampshire\".find(\"carolina\") # -1 means not found\n",
    "[x.find(\"carolina\") for x in many_strings] # return position of match\n",
    "[x for x in many_strings if x.find(\"carolina\")>0] # return value that matches\n",
    "\n",
    "[pos for pos, x in enumerate(\"hawaii\") if x==\"i\"]\n",
    "[pos for pos, x in enumerate(\"mississippi\") if x==\"s\"]"
   ]
  },
  {
   "cell_type": "code",
   "execution_count": 33,
   "id": "1fce6f7f",
   "metadata": {},
   "outputs": [
    {
     "data": {
      "text/plain": [
       "['welcome', 'to', 'hotel', 'california']"
      ]
     },
     "execution_count": 33,
     "metadata": {},
     "output_type": "execute_result"
    }
   ],
   "source": [
    "\"welcome to hotel california\".split(\" \")\n",
    "# puzzle: identify strings with alternating letter?\n"
   ]
  },
  {
   "cell_type": "markdown",
   "id": "2408720f",
   "metadata": {},
   "source": [
    "#### re package "
   ]
  },
  {
   "cell_type": "code",
   "execution_count": 34,
   "id": "44066022",
   "metadata": {},
   "outputs": [
    {
     "data": {
      "text/plain": [
       "['ai', 'ai']"
      ]
     },
     "execution_count": 34,
     "metadata": {},
     "output_type": "execute_result"
    }
   ],
   "source": [
    "import re\n",
    "\n",
    "txt = \"The rain in Spain\"\n",
    "re.findall(\"ai\", txt)"
   ]
  },
  {
   "cell_type": "markdown",
   "id": "887c7c94",
   "metadata": {},
   "source": [
    "#### String Modification - Position"
   ]
  },
  {
   "cell_type": "code",
   "execution_count": 35,
   "id": "58b383dd",
   "metadata": {},
   "outputs": [
    {
     "data": {
      "text/plain": [
       "'a banana and an apple'"
      ]
     },
     "execution_count": 35,
     "metadata": {},
     "output_type": "execute_result"
    }
   ],
   "source": [
    "s = list(\"an apple\")\n",
    "s[0:0] = list(\"a banana and \")\n",
    "\"\".join(s)"
   ]
  },
  {
   "cell_type": "markdown",
   "id": "5c3a3468",
   "metadata": {},
   "source": [
    "#### String Modification - Pattern "
   ]
  },
  {
   "cell_type": "markdown",
   "id": "10ee753d",
   "metadata": {},
   "source": [
    "#### Substring Search - RegEx "
   ]
  },
  {
   "cell_type": "markdown",
   "id": "efae64d1",
   "metadata": {},
   "source": [
    "[Back to the top](#table-of-contents)\n",
    "___"
   ]
  },
  {
   "cell_type": "markdown",
   "id": "2e46343b",
   "metadata": {},
   "source": [
    "<a id=\"containers---list\"></a>\n",
    "# 📋 Containers - List\n",
    "\n",
    "- mutable, ordered, indexable"
   ]
  },
  {
   "cell_type": "code",
   "execution_count": null,
   "id": "312b2ebe",
   "metadata": {},
   "outputs": [],
   "source": [
    "l = [\"apple\",\"banana\",\"carrot\"]\n",
    "l.append(\"gauva\")\n",
    "l"
   ]
  },
  {
   "cell_type": "markdown",
   "id": "b43b54c7",
   "metadata": {},
   "source": [
    "Accessing\n"
   ]
  },
  {
   "cell_type": "code",
   "execution_count": null,
   "id": "10e056bd",
   "metadata": {},
   "outputs": [],
   "source": [
    "l[-1] # last element\n",
    "l[-2] # second last"
   ]
  },
  {
   "cell_type": "code",
   "execution_count": null,
   "id": "452e55dc",
   "metadata": {},
   "outputs": [],
   "source": [
    "l = list(\"abcdefghij\")\n",
    "l[0:4]\n",
    "l[0:4:1]\n",
    "l[0:4:2]\n",
    "l[0:5:2]\n",
    "\n",
    "l[0:5][::-1]\n",
    "\n",
    "l[0:-2] # 0 through last 2\n",
    "l[0:0]\n",
    "l[:4] # same as l[None:4]\n",
    "\n",
    "l[0:4] # is same as \n",
    "l[0:-6]  # treat -6 as length(x)-6"
   ]
  },
  {
   "cell_type": "code",
   "execution_count": null,
   "id": "3beff2b3",
   "metadata": {},
   "outputs": [],
   "source": [
    "l[::-1]\n",
    "l[0:10:-1] # fails\n",
    "\n",
    "l[10:0:-1] # works\n",
    "# 10, 10-1, 10-1-1, ..., \n",
    "# if positive step used, start < stop\n",
    "# if negative step used, start > stop\n",
    "\n",
    "l[0:7][::-1] # most convenient way of getting in reverse\n",
    "\n",
    "l[0:2] = [\"aa\",\"bb\"]\n",
    "l\n",
    "l[0:2] = [\"a\",\"b\"]\n",
    "l"
   ]
  },
  {
   "cell_type": "code",
   "execution_count": null,
   "id": "18b1fe37",
   "metadata": {},
   "outputs": [],
   "source": [
    "l.reverse() # reverses in place, not recommended\n",
    "l"
   ]
  },
  {
   "cell_type": "code",
   "execution_count": null,
   "id": "1bdb5c1a",
   "metadata": {},
   "outputs": [],
   "source": [
    "a = [\"dog\"]\n",
    "l + a\n",
    "l\n",
    "a\n",
    "\n",
    "l.extend(a) # a is a list, not a single string\n",
    "l\n",
    "a\n",
    "\n",
    "l.extend(a)\n",
    "l"
   ]
  },
  {
   "cell_type": "markdown",
   "id": "1d582a4c",
   "metadata": {},
   "source": [
    "Index of first occurence"
   ]
  },
  {
   "cell_type": "code",
   "execution_count": null,
   "id": "0e09d480",
   "metadata": {},
   "outputs": [],
   "source": [
    "l.index(\"dog\")\n",
    "l\n",
    "\n",
    "# index of all occurences, always returns a list given its a list comprehension\n",
    "[pos for pos, elem in enumerate(l) if elem==\"dog\"]\n",
    "# or \n",
    "[pos for pos in range(len(l)) if l[pos]==\"dog\"]\n",
    "# or itertools?\n",
    "\n",
    "l = ['apple', 'banana', 'carrot', 'gauva', 'dog', 'dog']\n",
    "l.pop(1) # remove element by an index\n",
    "l\n",
    "\n",
    "for pos in [1,2]:\n",
    "    l.pop(pos)\n",
    "l"
   ]
  },
  {
   "cell_type": "markdown",
   "id": "717f5ba9",
   "metadata": {},
   "source": [
    "Repeat list elements\n"
   ]
  },
  {
   "cell_type": "code",
   "execution_count": null,
   "id": "6a349527",
   "metadata": {},
   "outputs": [],
   "source": [
    "# repeat lists\n",
    "[11] * 3\n",
    "[11, \"apple\"] * 3\n",
    "[11, \"apple\"] * 3\n"
   ]
  },
  {
   "cell_type": "code",
   "execution_count": null,
   "id": "ddd83f19",
   "metadata": {},
   "outputs": [],
   "source": [
    "# repeat each element of a list 3 times\n",
    "[item for item in [11,\"apple\"] for n in range(3)]\n",
    "\n",
    "l1 = [11,12,13]\n",
    "l1[0] = [111, 112 ,113]\n",
    "l1 # list of lists\n",
    "\n",
    "l1 = [11,12,13]\n",
    "l1[0:1] = [111, 112 ,113]\n",
    "l1 # list of lists\n",
    "\n",
    "# all elements except one\n",
    "l1 = list(\"abcdefghij\")\n",
    "l1\n",
    "l1[-1] # this gives the last one, not except one\n",
    "[elem for pos, elem in enumerate(l1) if pos not in [2-1,4-1]] # works\n",
    "\n",
    "# index by boolean - Not allowed\n",
    "l1 = list(\"abcdefghij\")\n",
    "# l1[[2,3,4]] # fails, cannot index multiple elements\n",
    "indices = [pos for pos, elem in enumerate([True, False] * 5) if elem==True]\n",
    "[l1[index] for index in indices]"
   ]
  },
  {
   "cell_type": "markdown",
   "id": "b6a46800",
   "metadata": {},
   "source": [
    "Filter a list"
   ]
  },
  {
   "cell_type": "code",
   "execution_count": null,
   "id": "ee6a2cc4",
   "metadata": {},
   "outputs": [],
   "source": [
    "l = list(range(11,20))\n",
    "l\n",
    "list(filter(lambda x: x>15, l))\n",
    "[x for x in l if x>15]\n",
    "\n",
    "# what is map()\n",
    "l = [1,2,3,4,5]\n",
    "list(map(lambda x: x+100, l))\n",
    "\n",
    "# what is reduce()\n",
    "from functools import reduce\n",
    "reduce(lambda x, y: x+y, [1,2,3,4,5,6])\n",
    "\n"
   ]
  },
  {
   "cell_type": "code",
   "execution_count": null,
   "id": "86dbd0e7",
   "metadata": {},
   "outputs": [],
   "source": [
    "list(range(11,20))\n",
    "list(range(11,20,2))\n",
    "# 11:15, not allowed\n",
    "\n",
    "[x for x in [11,12,13,14,15] if x == 13]\n",
    "[pos for pos, elem in enumerate([11,12,13,14,15]) if elem%2==1] # same as which(x%%2==1)\n",
    "\n",
    "\"y\" in list(\"python\")\n",
    "\"l\" in list(\"python\")"
   ]
  },
  {
   "cell_type": "code",
   "execution_count": null,
   "id": "97a37004",
   "metadata": {},
   "outputs": [],
   "source": [
    "# recycle a list to a length\n",
    "l1 = [1,2,3]\n",
    "desired_length = 10\n",
    "q, r = divmod(desired_length, len(l1))\n",
    "l1*q + l1[:r]"
   ]
  },
  {
   "cell_type": "code",
   "execution_count": null,
   "id": "830e168e",
   "metadata": {},
   "outputs": [],
   "source": [
    "# sorted - returns a value, not in place modification\n",
    "l1=[1,2,3,4]\n",
    "l2=[10,10,20,20]\n",
    "[x+y for x,y in zip(l1,l2)]# does not recycle, but trims the shorter list\n",
    "\n",
    "l1=[1,2,3,4]\n",
    "l2=[10,20]\n",
    "[x+y for x,y in zip(l1,l2)] # does not recycle, but trims the shorter list\n",
    "list(zip(l1,l2))"
   ]
  },
  {
   "cell_type": "code",
   "execution_count": null,
   "id": "9522cca6",
   "metadata": {},
   "outputs": [],
   "source": [
    "# order of elements? Incomplete\n",
    "x = [11,13,14,15,12]\n",
    "sorted(x).index(11)\n",
    "sorted(x).index(13)\n",
    "sorted(x).index(14)\n",
    "sorted(x).index(15)\n",
    "sorted(x).index(12)\n",
    "[sorted(x).index(i) for i in x]    "
   ]
  },
  {
   "cell_type": "markdown",
   "id": "f1ea0de5",
   "metadata": {},
   "source": [
    "<a id=\"containers---tuple\"></a>\n",
    "# 📦 Containers - Tuple\n",
    "\n",
    "- Not mutable, indexable, memory-efficient than list, pairing\n",
    "- Need to be unpacked and zipped"
   ]
  },
  {
   "cell_type": "markdown",
   "id": "3d6382f3",
   "metadata": {},
   "source": [
    "Zipping"
   ]
  },
  {
   "cell_type": "code",
   "execution_count": null,
   "id": "4049282c",
   "metadata": {},
   "outputs": [],
   "source": [
    "l_a = [\"a\",\"b\",\"c\"]\n",
    "l_b = [\"x\",\"y\",\"z\"]\n",
    "\n",
    "zip(l_a, l_b) # type is zip\n",
    "l_ab_zip_list = list(zip(l_a, l_b)) # list of tuples"
   ]
  },
  {
   "cell_type": "code",
   "execution_count": null,
   "id": "28330e29",
   "metadata": {},
   "outputs": [],
   "source": [
    "# recycyles? Nope, plainly chops to shorter length\n",
    "list(zip([\"a\",\"b\",\"c\"], [\"x\",\"y\"])) \n",
    "list(zip([\"a\",\"b\"], [\"x\",\"y\",\"z\"])) \n",
    "\n",
    "# unpacking\n",
    "a = l_ab_zip_list[0]\n",
    "a # a is a tuple\n",
    "\n",
    "a, b = l_ab_zip_list[0]\n",
    "# a is a string, b is a string"
   ]
  },
  {
   "cell_type": "code",
   "execution_count": null,
   "id": "dc69366d",
   "metadata": {},
   "outputs": [],
   "source": [
    "10,20 # always a tuple, even without brackets\n",
    "(10,20)\n",
    "x=10; y=20;\n",
    "(x,y)\n",
    "x,y\n",
    "x = 10,20\n",
    "x\n",
    "\n"
   ]
  },
  {
   "cell_type": "code",
   "execution_count": null,
   "id": "7f53662f",
   "metadata": {},
   "outputs": [],
   "source": [
    "for element in l_ab_zip_list:\n",
    "    print(\"***\")\n",
    "    print(element)\n",
    "\n",
    "for idx, element in l_ab_zip_list:\n",
    "    print(\"***\")\n",
    "    print(idx)\n",
    "    print(element)\n",
    "    \n",
    "len(l_ab_zip_list[0])"
   ]
  },
  {
   "cell_type": "code",
   "execution_count": null,
   "id": "b9b696e8",
   "metadata": {},
   "outputs": [],
   "source": [
    "(\"butter\",\"asvasdvah\")\n",
    "len((\"butter\",\"asvasdvah\"))\n",
    "\n",
    "(\"butter\",) # still a tuple of length 1\n",
    "len((\"butter\",))\n",
    "type((\"butter\",))\n",
    "\n",
    "(\"butter\") # not a tuple, but a string\n",
    "type((\"butter\"))\n",
    "len((\"butter\")) # length 6 string"
   ]
  },
  {
   "cell_type": "markdown",
   "id": "d12d6947",
   "metadata": {},
   "source": [
    "[Back to the top](#table-of-contents)\n",
    "___\n"
   ]
  },
  {
   "cell_type": "markdown",
   "id": "698020c3",
   "metadata": {},
   "source": [
    "<a id=\"containers---set\"></a>\n",
    "# 🔣 Containers - Set\n",
    "\n",
    "- Mutable, unordered, unique - no duplicates allowed\n",
    "- In alphabetical order always\n",
    "- Heterogenous"
   ]
  },
  {
   "cell_type": "code",
   "execution_count": 41,
   "id": "26ff8880",
   "metadata": {},
   "outputs": [
    {
     "data": {
      "text/plain": [
       "{'apple', 'banana', 'carrot'}"
      ]
     },
     "execution_count": 41,
     "metadata": {},
     "output_type": "execute_result"
    },
    {
     "data": {
      "text/plain": [
       "{'apple', 'banana', 'carrot'}"
      ]
     },
     "execution_count": 41,
     "metadata": {},
     "output_type": "execute_result"
    },
    {
     "data": {
      "text/plain": [
       "{20, 'apple', 'banana', 'carrot'}"
      ]
     },
     "execution_count": 41,
     "metadata": {},
     "output_type": "execute_result"
    }
   ],
   "source": [
    "my_set = {'apple', 'banana', 'carrot'}\n",
    "my_set\n",
    "\n",
    "# typically created from a list\n",
    "my_l = ['carrot','banana','apple','apple','banana','carrot']\n",
    "my_set=  set(my_l)\n",
    "my_set\n",
    "\n",
    "# typically created from a list\n",
    "my_l = ['carrot','banana','apple','apple','banana','carrot', 20]\n",
    "my_set=  set(my_l)\n",
    "my_set"
   ]
  },
  {
   "cell_type": "code",
   "execution_count": 43,
   "id": "c2850dbb",
   "metadata": {},
   "outputs": [
    {
     "data": {
      "text/plain": [
       "{20,\n",
       " 'apple',\n",
       " 'as2',\n",
       " 'asd',\n",
       " 'banana',\n",
       " 'carrot',\n",
       " 'gauva',\n",
       " 'h',\n",
       " 'hjy',\n",
       " 'i',\n",
       " 'j',\n",
       " 'k',\n",
       " 'rgre',\n",
       " 'u',\n",
       " 'y'}"
      ]
     },
     "execution_count": 43,
     "metadata": {},
     "output_type": "execute_result"
    },
    {
     "data": {
      "text/plain": [
       "{20,\n",
       " 'apple',\n",
       " 'as2',\n",
       " 'asd',\n",
       " 'banana',\n",
       " 'carrot',\n",
       " 'gauva',\n",
       " 'h',\n",
       " 'hjy',\n",
       " 'i',\n",
       " 'j',\n",
       " 'k',\n",
       " 'rgre',\n",
       " 'u',\n",
       " 'y'}"
      ]
     },
     "execution_count": 43,
     "metadata": {},
     "output_type": "execute_result"
    }
   ],
   "source": [
    "my_set.add(\"gauva\") # adds if unique, updates inplace \n",
    "my_set\n",
    "\n",
    "my_set.add(\"carrot\") # adds if unique, updates inplace \n",
    "my_set"
   ]
  },
  {
   "cell_type": "code",
   "execution_count": 42,
   "id": "1c3142c2",
   "metadata": {},
   "outputs": [
    {
     "data": {
      "text/plain": [
       "{20, 'apple', 'as2', 'asd', 'banana', 'carrot'}"
      ]
     },
     "execution_count": 42,
     "metadata": {},
     "output_type": "execute_result"
    },
    {
     "data": {
      "text/plain": [
       "{20, 'apple', 'as2', 'asd', 'banana', 'carrot', 'hjy', 'rgre'}"
      ]
     },
     "execution_count": 42,
     "metadata": {},
     "output_type": "execute_result"
    },
    {
     "data": {
      "text/plain": [
       "{20,\n",
       " 'apple',\n",
       " 'as2',\n",
       " 'asd',\n",
       " 'banana',\n",
       " 'carrot',\n",
       " 'h',\n",
       " 'hjy',\n",
       " 'i',\n",
       " 'j',\n",
       " 'k',\n",
       " 'rgre',\n",
       " 'u',\n",
       " 'y'}"
      ]
     },
     "execution_count": 42,
     "metadata": {},
     "output_type": "execute_result"
    }
   ],
   "source": [
    "my_set.update([\"asd\",\"as2\"]) # pass only a list or tuple\n",
    "my_set\n",
    "\n",
    "my_set.update({\"hjy\",\"rgre\"})\n",
    "my_set\n",
    "\n",
    "my_set.update(\"hjyiukyuyukyukyku\")\n",
    "my_set"
   ]
  },
  {
   "cell_type": "markdown",
   "id": "20fa7851",
   "metadata": {},
   "source": [
    "Delete an element from set"
   ]
  },
  {
   "cell_type": "code",
   "execution_count": 44,
   "id": "e5bf5c6c",
   "metadata": {},
   "outputs": [
    {
     "data": {
      "text/plain": [
       "{'apple', 'banana', 'carrot'}"
      ]
     },
     "execution_count": 44,
     "metadata": {},
     "output_type": "execute_result"
    },
    {
     "data": {
      "text/plain": [
       "{'banana', 'carrot'}"
      ]
     },
     "execution_count": 44,
     "metadata": {},
     "output_type": "execute_result"
    },
    {
     "data": {
      "text/plain": [
       "{'banana', 'carrot'}"
      ]
     },
     "execution_count": 44,
     "metadata": {},
     "output_type": "execute_result"
    },
    {
     "data": {
      "text/plain": [
       "'carrot'"
      ]
     },
     "execution_count": 44,
     "metadata": {},
     "output_type": "execute_result"
    },
    {
     "data": {
      "text/plain": [
       "{'banana'}"
      ]
     },
     "execution_count": 44,
     "metadata": {},
     "output_type": "execute_result"
    }
   ],
   "source": [
    "my_l = ['carrot','banana','apple','apple','banana','carrot']\n",
    "my_set=  set(my_l)\n",
    "my_set\n",
    "\n",
    "my_set.discard(\"apple\")\n",
    "my_set\n",
    "\n",
    "my_set.discard(\"asdasd\") # no error if element absent\n",
    "my_set\n",
    "\n",
    "my_set.pop() # removes arbitrary element. error if empty set\n",
    "my_set\n"
   ]
  },
  {
   "cell_type": "code",
   "execution_count": 45,
   "id": "37bc51fa",
   "metadata": {},
   "outputs": [
    {
     "data": {
      "text/plain": [
       "{'a', 'b', 'c', 'd', 'e'}"
      ]
     },
     "execution_count": 45,
     "metadata": {},
     "output_type": "execute_result"
    },
    {
     "data": {
      "text/plain": [
       "{'c'}"
      ]
     },
     "execution_count": 45,
     "metadata": {},
     "output_type": "execute_result"
    },
    {
     "data": {
      "text/plain": [
       "{'a', 'b'}"
      ]
     },
     "execution_count": 45,
     "metadata": {},
     "output_type": "execute_result"
    },
    {
     "data": {
      "text/plain": [
       "{'d', 'e'}"
      ]
     },
     "execution_count": 45,
     "metadata": {},
     "output_type": "execute_result"
    }
   ],
   "source": [
    "set_a = set(['a','b','c'])\n",
    "set_b = set(['d','e','c'])\n",
    "\n",
    "set_a.union(set_b)\n",
    "set_a.intersection(set_b)\n",
    "set_a - set_b # same as set_a.difference(set_b)\n",
    "set_b - set_a"
   ]
  },
  {
   "cell_type": "code",
   "execution_count": 46,
   "id": "158bb1c1",
   "metadata": {},
   "outputs": [
    {
     "data": {
      "text/plain": [
       "{1, 2, 5, 7, 8}"
      ]
     },
     "execution_count": 46,
     "metadata": {},
     "output_type": "execute_result"
    }
   ],
   "source": [
    "# always alphabetical? looks like it\n",
    "s = {5,2,7,1,8}\n",
    "s"
   ]
  },
  {
   "cell_type": "markdown",
   "id": "caeaae39",
   "metadata": {},
   "source": [
    "[Back to the top](#table-of-contents)\n",
    "___"
   ]
  },
  {
   "cell_type": "markdown",
   "id": "a74ab5fd",
   "metadata": {},
   "source": [
    "<a id=\"containers---dictionary\"></a>\n",
    "# 📖 Containers - Dictionary\n",
    "\n",
    "\n",
    "Iterable"
   ]
  },
  {
   "cell_type": "code",
   "execution_count": 47,
   "id": "b0cd09ae",
   "metadata": {},
   "outputs": [
    {
     "data": {
      "text/plain": [
       "{}"
      ]
     },
     "execution_count": 47,
     "metadata": {},
     "output_type": "execute_result"
    },
    {
     "data": {
      "text/plain": [
       "{'key_1': 1, 'key_2': 2}"
      ]
     },
     "execution_count": 47,
     "metadata": {},
     "output_type": "execute_result"
    }
   ],
   "source": [
    "my_dict = {} # my_dict = dict()\n",
    "my_dict\n",
    "\n",
    "my_dict['key_1'] = 1\n",
    "my_dict['key_2'] = 2\n",
    "my_dict\n"
   ]
  },
  {
   "cell_type": "code",
   "execution_count": 49,
   "id": "ae3fd97a",
   "metadata": {},
   "outputs": [
    {
     "data": {
      "text/plain": [
       "{'key_1': 1, 'key_2': 2, 'new': {'key_3': 1, 'key_4': 2}}"
      ]
     },
     "execution_count": 49,
     "metadata": {},
     "output_type": "execute_result"
    },
    {
     "data": {
      "text/plain": [
       "{'key_3': 1, 'key_4': 2}"
      ]
     },
     "execution_count": 49,
     "metadata": {},
     "output_type": "execute_result"
    }
   ],
   "source": [
    "my_dict['new'] = {'key_3': 1, 'key_4': 2}\n",
    "my_dict\n",
    "\n",
    "my_dict['new']"
   ]
  },
  {
   "cell_type": "markdown",
   "id": "11d230ef",
   "metadata": {},
   "source": [
    "Iterate over "
   ]
  },
  {
   "cell_type": "code",
   "execution_count": null,
   "id": "4cae1ff7",
   "metadata": {},
   "outputs": [],
   "source": [
    "\n",
    "for my_key in my_dict:\n",
    "    print(\"###########\")\n",
    "    print(my_key)\n",
    "    print(my_dict[my_key])\n",
    "    \n",
    "# Not allowed, only keys can be extracted as for loop    \n",
    "if False:\n",
    "    for my_key, my_value in my_dict:\n",
    "        print(\"###########\")\n",
    "        print(my_key)\n",
    "        print(my_value)\n",
    "    \n",
    "for my_key, my_value in my_dict.items():\n",
    "    print(\"###########\")\n",
    "    print(my_key)\n",
    "    print(my_value)\n"
   ]
  },
  {
   "cell_type": "markdown",
   "id": "f5255171",
   "metadata": {},
   "source": [
    "Access elements"
   ]
  },
  {
   "cell_type": "code",
   "execution_count": null,
   "id": "69376822",
   "metadata": {},
   "outputs": [],
   "source": [
    "my_dict.keys() # type: dict_keys\n",
    "type(my_dict.keys())\n",
    "list(my_dict.keys()) # list\n",
    "\n",
    "my_dict.values() # type: dict_values\n",
    "type(my_dict.values())\n",
    "list(my_dict.values()) # list \n"
   ]
  },
  {
   "cell_type": "code",
   "execution_count": null,
   "id": "8b168f49",
   "metadata": {},
   "outputs": [],
   "source": [
    "my_dict.get('key_1') \n",
    "\n",
    "if False:\n",
    "    my_dict['not_a_key'] # error for a missing key\n",
    "my_dict.get('not_a_key') # no error thrown for a missing key\n",
    "\n",
    "my_dict.get('not_a_key', 99999)\n"
   ]
  },
  {
   "cell_type": "code",
   "execution_count": 50,
   "id": "421a0622",
   "metadata": {},
   "outputs": [
    {
     "data": {
      "text/plain": [
       "{'key_1': 1, 'key_2': 2, 'new': {'key_3': 1, 'key_4': 2}, 2: 1000}"
      ]
     },
     "execution_count": 50,
     "metadata": {},
     "output_type": "execute_result"
    },
    {
     "data": {
      "text/plain": [
       "1000"
      ]
     },
     "execution_count": 50,
     "metadata": {},
     "output_type": "execute_result"
    }
   ],
   "source": [
    "my_dict[2] = 1000;\n",
    "my_dict\n",
    "\n",
    "my_dict[2] # indexing by number not allowed, unless the key is a number itself\n",
    "\n",
    "my_dict_list = list(my_dict.items()) # list of tuples\n"
   ]
  },
  {
   "cell_type": "markdown",
   "id": "5cf5d892",
   "metadata": {},
   "source": [
    "Sort a Dict"
   ]
  },
  {
   "cell_type": "code",
   "execution_count": null,
   "id": "1d16ce88",
   "metadata": {},
   "outputs": [],
   "source": [
    "sorted({'key_1':10,'key_3':20,'key_2':15}) # returns sorted keys, not valuess\n",
    "{'key_1':10,3:20,'key_2':15} # allowed heterogenous datatype for keys\n",
    "\n",
    "if False:\n",
    "    sorted({'key_1':10,3:20,'key_2':15}) # avoid heterogenous datatype for keys\n"
   ]
  },
  {
   "cell_type": "markdown",
   "id": "a592b5ff",
   "metadata": {},
   "source": [
    "Update dict"
   ]
  },
  {
   "cell_type": "code",
   "execution_count": null,
   "id": "23f9beb0",
   "metadata": {},
   "outputs": [],
   "source": [
    "\n",
    "my_dict = {}\n",
    "my_dict['key_1'] = 1\n",
    "my_dict['key_2'] = 2\n",
    "my_dict\n",
    "my_dict.update({'key_3': 1000})\n",
    "my_dict\n",
    "\n",
    "my_dict.update({'key_1': 999}) # adds a new key-value pair if key not present, updates if key already present\n",
    "my_dict\n",
    "\n",
    "my_dict.update({'key_4': 999}) # adds a new key-value pair if key not present, updates if key already present\n",
    "my_dict"
   ]
  },
  {
   "cell_type": "code",
   "execution_count": null,
   "id": "91c4ed93",
   "metadata": {},
   "outputs": [],
   "source": [
    "if False:\n",
    "    del my_dict['key_4'] # key error\n",
    "my_dict\n",
    "\n",
    "if False:\n",
    "    my_dict.pop('key_3') # key error\n",
    "my_dict\n",
    "\n",
    "my_dict.get('key_1')\n",
    "if False:\n",
    "    my_dict.get('key_999') # no error for bad key\n",
    "if False:\n",
    "    my_dict['key_999'] # error for bad key\n",
    "\n",
    "'key_1' in my_dict # check for presense of a key\n",
    "'key_000' in my_dict \n",
    "# same as \n",
    "'key_1' in my_dict.keys()\n",
    "'key_000' in my_dict.keys()"
   ]
  },
  {
   "cell_type": "markdown",
   "id": "9956f60d",
   "metadata": {},
   "source": [
    "[Back to the top](#table-of-contents)\n",
    "___"
   ]
  },
  {
   "cell_type": "markdown",
   "id": "475692c4",
   "metadata": {},
   "source": [
    "<a id=\"containers---collections\"></a>\n",
    "# 🗃️ Containers - Collections"
   ]
  },
  {
   "cell_type": "code",
   "execution_count": 51,
   "id": "d90e5007",
   "metadata": {},
   "outputs": [
    {
     "data": {
      "text/plain": [
       "Counter({'a': 2, 'b': 2, 'c': 1})"
      ]
     },
     "execution_count": 51,
     "metadata": {},
     "output_type": "execute_result"
    },
    {
     "data": {
      "text/plain": [
       "collections.Counter"
      ]
     },
     "execution_count": 51,
     "metadata": {},
     "output_type": "execute_result"
    },
    {
     "data": {
      "text/plain": [
       "{'a': 2, 'b': 2, 'c': 1}"
      ]
     },
     "execution_count": 51,
     "metadata": {},
     "output_type": "execute_result"
    }
   ],
   "source": [
    "from collections import Counter\n",
    "\n",
    "l = ['a','b','c','b','a']\n",
    "\n",
    "c1 = Counter(l)\n",
    "c1\n",
    "type(c1) # collections.Counter\n",
    "dict(c1)\n",
    "\n"
   ]
  },
  {
   "cell_type": "code",
   "execution_count": 52,
   "id": "26180ebe",
   "metadata": {},
   "outputs": [
    {
     "data": {
      "text/plain": [
       "[('a', 2), ('b', 2)]"
      ]
     },
     "execution_count": 52,
     "metadata": {},
     "output_type": "execute_result"
    },
    {
     "data": {
      "text/plain": [
       "list"
      ]
     },
     "execution_count": 52,
     "metadata": {},
     "output_type": "execute_result"
    },
    {
     "data": {
      "text/plain": [
       "[2, 2]"
      ]
     },
     "execution_count": 52,
     "metadata": {},
     "output_type": "execute_result"
    }
   ],
   "source": [
    "c1.most_common(2)\n",
    "type(c1.most_common(2)) # list of tuples\n",
    "c_temp = c1.most_common(2)\n",
    "[x[1] for x in c_temp]"
   ]
  },
  {
   "cell_type": "markdown",
   "id": "65f54049",
   "metadata": {},
   "source": [
    "[Back to the top](#table-of-contents)\n",
    "___"
   ]
  },
  {
   "cell_type": "markdown",
   "id": "bce0c29a",
   "metadata": {},
   "source": [
    "<a id=\"containers---zip\"></a>\n",
    "# 🪢 Containers - zip"
   ]
  },
  {
   "cell_type": "code",
   "execution_count": 54,
   "id": "6f603c95",
   "metadata": {},
   "outputs": [
    {
     "data": {
      "text/plain": [
       "<zip at 0x14946b0c0>"
      ]
     },
     "execution_count": 54,
     "metadata": {},
     "output_type": "execute_result"
    }
   ],
   "source": [
    "nums = [1, 2, 3, 4]\n",
    "fruit = [\"Apples\", \"Peaches\", \"Pears\", \"Bananas\"]\n",
    "\n",
    "z1 = zip(nums, fruit) # datatype: zip\n",
    "z1"
   ]
  },
  {
   "cell_type": "markdown",
   "id": "55c6b774",
   "metadata": {},
   "source": [
    "[Back to the top](#table-of-contents)\n",
    "___"
   ]
  }
 ],
 "metadata": {
  "kernelspec": {
   "display_name": "base",
   "language": "python",
   "name": "python3"
  },
  "language_info": {
   "codemirror_mode": {
    "name": "ipython",
    "version": 3
   },
   "file_extension": ".py",
   "mimetype": "text/x-python",
   "name": "python",
   "nbconvert_exporter": "python",
   "pygments_lexer": "ipython3",
   "version": "3.11.3"
  }
 },
 "nbformat": 4,
 "nbformat_minor": 5
}
