{
 "cells": [
  {
   "cell_type": "markdown",
   "id": "06fdea28",
   "metadata": {},
   "source": [
    "<a id=\"table-of-contents\"></a>\n",
    "# Table of Contents\n",
    "[](#)  \n",
    "- [](#)  \n",
    "- [](#)\n",
    "\n",
    "___"
   ]
  },
  {
   "cell_type": "markdown",
   "id": "ef7d203e",
   "metadata": {},
   "source": [
    "# Setup"
   ]
  },
  {
   "cell_type": "code",
   "execution_count": 50,
   "id": "3a13a866",
   "metadata": {},
   "outputs": [],
   "source": [
    "from IPython.core.interactiveshell import InteractiveShell\n",
    "InteractiveShell.ast_node_interactivity = \"all\""
   ]
  },
  {
   "cell_type": "markdown",
   "id": "7af55572",
   "metadata": {},
   "source": [
    "[Back to the top](#table-of-contents)\n",
    "___"
   ]
  },
  {
   "cell_type": "markdown",
   "id": "7d571fa9",
   "metadata": {},
   "source": [
    "# Integers/Numerics"
   ]
  },
  {
   "cell_type": "code",
   "execution_count": 51,
   "id": "870ad922",
   "metadata": {},
   "outputs": [
    {
     "data": {
      "text/plain": [
       "[3, 2, 1, 4, 5]"
      ]
     },
     "execution_count": 51,
     "metadata": {},
     "output_type": "execute_result"
    },
    {
     "data": {
      "text/plain": [
       "3.0"
      ]
     },
     "execution_count": 51,
     "metadata": {},
     "output_type": "execute_result"
    }
   ],
   "source": [
    "x = [3,2,1,4,5]\n",
    "x\n",
    "\n",
    "import numpy as np\n",
    "np.mean(x)"
   ]
  },
  {
   "cell_type": "code",
   "execution_count": 52,
   "id": "8dfc41a3",
   "metadata": {},
   "outputs": [],
   "source": [
    "#### Missing values ####?\n",
    "# Functions to identify missing values?"
   ]
  },
  {
   "cell_type": "code",
   "execution_count": 53,
   "id": "8f85c5b5",
   "metadata": {},
   "outputs": [
    {
     "data": {
      "text/plain": [
       "[True, True, True, True, False, False]"
      ]
     },
     "execution_count": 53,
     "metadata": {},
     "output_type": "execute_result"
    },
    {
     "data": {
      "text/plain": [
       "[False, False, False, False, True, False]"
      ]
     },
     "execution_count": 53,
     "metadata": {},
     "output_type": "execute_result"
    },
    {
     "data": {
      "text/plain": [
       "[False, False, False, False, False, True]"
      ]
     },
     "execution_count": 53,
     "metadata": {},
     "output_type": "execute_result"
    }
   ],
   "source": [
    "x = [3,2,1,4,5.2,'apple']\n",
    "[isinstance(i, int) for i in x]\n",
    "[isinstance(i, float) for i in x]\n",
    "[isinstance(i, str) for i in x]"
   ]
  },
  {
   "cell_type": "code",
   "execution_count": 54,
   "id": "57beb428",
   "metadata": {},
   "outputs": [],
   "source": [
    "# y = 10\n",
    "# y.is_integer() # True\n",
    "\n",
    "# y = 10.0\n",
    "# y.is_integer() # True\n",
    "\n",
    "# y = 10.2\n",
    "# y.is_integer() # False"
   ]
  },
  {
   "cell_type": "code",
   "execution_count": 55,
   "id": "2a10fbc6",
   "metadata": {},
   "outputs": [
    {
     "data": {
      "text/plain": [
       "20.0"
      ]
     },
     "execution_count": 55,
     "metadata": {},
     "output_type": "execute_result"
    },
    {
     "data": {
      "text/plain": [
       "20.0"
      ]
     },
     "execution_count": 55,
     "metadata": {},
     "output_type": "execute_result"
    },
    {
     "data": {
      "text/plain": [
       "20"
      ]
     },
     "execution_count": 55,
     "metadata": {},
     "output_type": "execute_result"
    },
    {
     "data": {
      "text/plain": [
       "20"
      ]
     },
     "execution_count": 55,
     "metadata": {},
     "output_type": "execute_result"
    },
    {
     "data": {
      "text/plain": [
       "'201'"
      ]
     },
     "execution_count": 55,
     "metadata": {},
     "output_type": "execute_result"
    }
   ],
   "source": [
    "float(20)\n",
    "float('20')\n",
    "\n",
    "int('20')\n",
    "int(20.2)\n",
    "\n",
    "str(201)"
   ]
  },
  {
   "cell_type": "markdown",
   "id": "fad3e9c6",
   "metadata": {},
   "source": [
    "[Back to the top](#table-of-contents)\n",
    "___"
   ]
  },
  {
   "cell_type": "markdown",
   "id": "8fc4531f",
   "metadata": {},
   "source": [
    "# Boolean"
   ]
  },
  {
   "cell_type": "code",
   "execution_count": 56,
   "id": "1f4e2deb",
   "metadata": {},
   "outputs": [
    {
     "data": {
      "text/plain": [
       "True"
      ]
     },
     "execution_count": 56,
     "metadata": {},
     "output_type": "execute_result"
    },
    {
     "name": "stdout",
     "output_type": "stream",
     "text": [
      "True\n"
     ]
    }
   ],
   "source": [
    "x = True\n",
    "type(x) == bool\n",
    "print(x)"
   ]
  },
  {
   "cell_type": "code",
   "execution_count": 57,
   "id": "4379b534",
   "metadata": {},
   "outputs": [
    {
     "name": "stdout",
     "output_type": "stream",
     "text": [
      "False\n"
     ]
    },
    {
     "data": {
      "text/plain": [
       "bool"
      ]
     },
     "execution_count": 57,
     "metadata": {},
     "output_type": "execute_result"
    }
   ],
   "source": [
    "x = False\n",
    "print(x)\n",
    "\n",
    "type(x)"
   ]
  },
  {
   "cell_type": "code",
   "execution_count": 58,
   "id": "62a8ad87",
   "metadata": {},
   "outputs": [
    {
     "data": {
      "text/plain": [
       "[True, False, True]"
      ]
     },
     "execution_count": 58,
     "metadata": {},
     "output_type": "execute_result"
    },
    {
     "data": {
      "text/plain": [
       "2"
      ]
     },
     "execution_count": 58,
     "metadata": {},
     "output_type": "execute_result"
    }
   ],
   "source": [
    "xx = [True, False, True]\n",
    "xx\n",
    "\n",
    "sum(xx)"
   ]
  },
  {
   "cell_type": "code",
   "execution_count": 59,
   "id": "97b56b35",
   "metadata": {},
   "outputs": [
    {
     "data": {
      "text/plain": [
       "0"
      ]
     },
     "execution_count": 59,
     "metadata": {},
     "output_type": "execute_result"
    }
   ],
   "source": [
    "sum([False, False, False])"
   ]
  },
  {
   "cell_type": "code",
   "execution_count": 60,
   "id": "2b384c16",
   "metadata": {},
   "outputs": [
    {
     "data": {
      "text/plain": [
       "True"
      ]
     },
     "execution_count": 60,
     "metadata": {},
     "output_type": "execute_result"
    },
    {
     "data": {
      "text/plain": [
       "list"
      ]
     },
     "execution_count": 60,
     "metadata": {},
     "output_type": "execute_result"
    },
    {
     "data": {
      "text/plain": [
       "[bool, bool, bool]"
      ]
     },
     "execution_count": 60,
     "metadata": {},
     "output_type": "execute_result"
    }
   ],
   "source": [
    "xx[0]\n",
    "\n",
    "type(xx)\n",
    "[type(a) for a in xx]"
   ]
  },
  {
   "cell_type": "markdown",
   "id": "a7ad7077",
   "metadata": {},
   "source": [
    "[Back to the top](#table-of-contents)\n",
    "___"
   ]
  },
  {
   "cell_type": "markdown",
   "id": "74cef8af",
   "metadata": {},
   "source": [
    "# Strings"
   ]
  },
  {
   "cell_type": "code",
   "execution_count": 61,
   "id": "0a4ce32c",
   "metadata": {},
   "outputs": [
    {
     "data": {
      "text/plain": [
       "str"
      ]
     },
     "execution_count": 61,
     "metadata": {},
     "output_type": "execute_result"
    },
    {
     "data": {
      "text/plain": [
       "5"
      ]
     },
     "execution_count": 61,
     "metadata": {},
     "output_type": "execute_result"
    },
    {
     "data": {
      "text/plain": [
       "'a'"
      ]
     },
     "execution_count": 61,
     "metadata": {},
     "output_type": "execute_result"
    },
    {
     "data": {
      "text/plain": [
       "list"
      ]
     },
     "execution_count": 61,
     "metadata": {},
     "output_type": "execute_result"
    },
    {
     "data": {
      "text/plain": [
       "3"
      ]
     },
     "execution_count": 61,
     "metadata": {},
     "output_type": "execute_result"
    },
    {
     "data": {
      "text/plain": [
       "'banana'"
      ]
     },
     "execution_count": 61,
     "metadata": {},
     "output_type": "execute_result"
    },
    {
     "data": {
      "text/plain": [
       "{'apple', 'banana', 'carrot'}"
      ]
     },
     "execution_count": 61,
     "metadata": {},
     "output_type": "execute_result"
    },
    {
     "data": {
      "text/plain": [
       "['carrot', 'banana', 'apple']"
      ]
     },
     "execution_count": 61,
     "metadata": {},
     "output_type": "execute_result"
    },
    {
     "data": {
      "text/plain": [
       "'carrot'"
      ]
     },
     "execution_count": 61,
     "metadata": {},
     "output_type": "execute_result"
    },
    {
     "data": {
      "text/plain": [
       "'apple'"
      ]
     },
     "execution_count": 61,
     "metadata": {},
     "output_type": "execute_result"
    },
    {
     "data": {
      "text/plain": [
       "3"
      ]
     },
     "execution_count": 61,
     "metadata": {},
     "output_type": "execute_result"
    },
    {
     "data": {
      "text/plain": [
       "['apple', 'banana', 'carrot']"
      ]
     },
     "execution_count": 61,
     "metadata": {},
     "output_type": "execute_result"
    },
    {
     "data": {
      "text/plain": [
       "['apple', 'banana', 'carrot']"
      ]
     },
     "execution_count": 61,
     "metadata": {},
     "output_type": "execute_result"
    },
    {
     "data": {
      "text/plain": [
       "True"
      ]
     },
     "execution_count": 61,
     "metadata": {},
     "output_type": "execute_result"
    },
    {
     "data": {
      "text/plain": [
       "True"
      ]
     },
     "execution_count": 61,
     "metadata": {},
     "output_type": "execute_result"
    },
    {
     "data": {
      "text/plain": [
       "'applebanana'"
      ]
     },
     "execution_count": 61,
     "metadata": {},
     "output_type": "execute_result"
    },
    {
     "data": {
      "text/plain": [
       "'apple banana'"
      ]
     },
     "execution_count": 61,
     "metadata": {},
     "output_type": "execute_result"
    },
    {
     "data": {
      "text/plain": [
       "['applecarrot', 'bananadragonfruit']"
      ]
     },
     "execution_count": 61,
     "metadata": {},
     "output_type": "execute_result"
    },
    {
     "data": {
      "text/plain": [
       "'APPLE'"
      ]
     },
     "execution_count": 61,
     "metadata": {},
     "output_type": "execute_result"
    },
    {
     "data": {
      "text/plain": [
       "'apple'"
      ]
     },
     "execution_count": 61,
     "metadata": {},
     "output_type": "execute_result"
    },
    {
     "data": {
      "text/plain": [
       "'Apple A Day Doctor Away'"
      ]
     },
     "execution_count": 61,
     "metadata": {},
     "output_type": "execute_result"
    },
    {
     "data": {
      "text/plain": [
       "'APPLE A day doctoR away'"
      ]
     },
     "execution_count": 61,
     "metadata": {},
     "output_type": "execute_result"
    },
    {
     "data": {
      "text/plain": [
       "'-- a day doctoR away'"
      ]
     },
     "execution_count": 61,
     "metadata": {},
     "output_type": "execute_result"
    },
    {
     "data": {
      "text/plain": [
       "'-- a day doctoR away --'"
      ]
     },
     "execution_count": 61,
     "metadata": {},
     "output_type": "execute_result"
    },
    {
     "data": {
      "text/plain": [
       "5"
      ]
     },
     "execution_count": 61,
     "metadata": {},
     "output_type": "execute_result"
    },
    {
     "data": {
      "text/plain": [
       "''"
      ]
     },
     "execution_count": 61,
     "metadata": {},
     "output_type": "execute_result"
    },
    {
     "data": {
      "text/plain": [
       "'c'"
      ]
     },
     "execution_count": 61,
     "metadata": {},
     "output_type": "execute_result"
    },
    {
     "data": {
      "text/plain": [
       "'cdefghij'"
      ]
     },
     "execution_count": 61,
     "metadata": {},
     "output_type": "execute_result"
    },
    {
     "data": {
      "text/plain": [
       "'cegi'"
      ]
     },
     "execution_count": 61,
     "metadata": {},
     "output_type": "execute_result"
    },
    {
     "data": {
      "text/plain": [
       "6"
      ]
     },
     "execution_count": 61,
     "metadata": {},
     "output_type": "execute_result"
    },
    {
     "data": {
      "text/plain": [
       "-1"
      ]
     },
     "execution_count": 61,
     "metadata": {},
     "output_type": "execute_result"
    },
    {
     "data": {
      "text/plain": [
       "[6, 6, -1, -1]"
      ]
     },
     "execution_count": 61,
     "metadata": {},
     "output_type": "execute_result"
    },
    {
     "data": {
      "text/plain": [
       "['north carolina', 'south carolina']"
      ]
     },
     "execution_count": 61,
     "metadata": {},
     "output_type": "execute_result"
    },
    {
     "data": {
      "text/plain": [
       "[4, 5]"
      ]
     },
     "execution_count": 61,
     "metadata": {},
     "output_type": "execute_result"
    },
    {
     "data": {
      "text/plain": [
       "[2, 3, 5, 6]"
      ]
     },
     "execution_count": 61,
     "metadata": {},
     "output_type": "execute_result"
    },
    {
     "data": {
      "text/plain": [
       "['welcome', 'to', 'hotel', 'california']"
      ]
     },
     "execution_count": 61,
     "metadata": {},
     "output_type": "execute_result"
    }
   ],
   "source": [
    "################################### Datatype ###################################\n",
    "x = \"apple\"\n",
    "type(x)\n",
    "len(x)\n",
    "x[0]\n",
    "\n",
    "\n",
    "x = [\"banana\",\"apple\",\"carrot\"]\n",
    "type(x)\n",
    "len(x)\n",
    "x[0]\n",
    "\n",
    "\n",
    "x = [\"banana\",\"apple\",\"carrot\"]\n",
    "set(x)\n",
    "list(set(x)) # order changed\n",
    "\n",
    "x = [\"banana\",\"apple\",\"carrot\"]\n",
    "max(x)\n",
    "min(x)\n",
    "len(x)\n",
    "\n",
    "\n",
    "sorted(x) # returns a value\n",
    "x.sort() # in place\n",
    "x\n",
    "\n",
    "type(x) == list # True\n",
    "type(x) is list # True\n",
    "\n",
    "\"apple\" + \"banana\"\n",
    "\" \".join([\"apple\", \"banana\"])\n",
    "\n",
    "l1 = [\"apple\",\"banana\"]\n",
    "l2 = [\"carrot\",\"dragonfruit\"]\n",
    "[a + b for a, b in zip(l1, l2)]\n",
    "\n",
    "\"apple\".upper()\n",
    "\"APPLE\".lower()\n",
    "\"APPLE A day doctoR away\".title()\n",
    "\n",
    "\"APPLE A day doctoR away\".replace(\"apple\",\"--\")\n",
    "\"apple a day doctoR away\".replace(\"apple\",\"--\")\n",
    "\"apple a day doctoR away apple\".replace(\"apple\",\"--\")\n",
    "\n",
    "# replace only the first n instances?\n",
    "\n",
    "# string extract all or some instances?\n",
    "\n",
    "len(\"apple\")\n",
    "\n",
    "l = \"abcdefghijklmnopqrstuvwxyz\"\n",
    "l[2:2]\n",
    "l[2:3]\n",
    "l[2:10]\n",
    "l[2:10:2]\n",
    "\n",
    "many_strings = [\"north carolina\",\"south carolina\",\"new hampshire\",\"north dakota\"]\n",
    "\n",
    "\n",
    "\"north carolina\".find(\"carolina\")\n",
    "\"new hampshire\".find(\"carolina\") # -1 means not found\n",
    "[x.find(\"carolina\") for x in many_strings] # return position of match\n",
    "[x for x in many_strings if x.find(\"carolina\")>0] # return value that matches\n",
    "\n",
    "[pos for pos, x in enumerate(\"hawaii\") if x==\"i\"]\n",
    "[pos for pos, x in enumerate(\"mississippi\") if x==\"s\"]\n",
    "\n",
    "\n",
    "\"welcome to hotel california\".split(\" \")\n",
    "\n",
    "\n",
    "# puzzle: identify strings with alternating letter?\n",
    "\n",
    "\n",
    "\n",
    "\n",
    "\n"
   ]
  },
  {
   "cell_type": "markdown",
   "id": "2408720f",
   "metadata": {},
   "source": [
    "#### re package "
   ]
  },
  {
   "cell_type": "code",
   "execution_count": 62,
   "id": "44066022",
   "metadata": {},
   "outputs": [
    {
     "data": {
      "text/plain": [
       "['ai', 'ai']"
      ]
     },
     "execution_count": 62,
     "metadata": {},
     "output_type": "execute_result"
    }
   ],
   "source": [
    "import re\n",
    "\n",
    "txt = \"The rain in Spain\"\n",
    "re.findall(\"ai\", txt)"
   ]
  },
  {
   "cell_type": "markdown",
   "id": "887c7c94",
   "metadata": {},
   "source": [
    "#### String Modification - Position"
   ]
  },
  {
   "cell_type": "code",
   "execution_count": 63,
   "id": "58b383dd",
   "metadata": {},
   "outputs": [
    {
     "data": {
      "text/plain": [
       "'a banana and an apple'"
      ]
     },
     "execution_count": 63,
     "metadata": {},
     "output_type": "execute_result"
    }
   ],
   "source": [
    "s = list(\"an apple\")\n",
    "s[0:0] = list(\"a banana and \")\n",
    "\"\".join(s)\n"
   ]
  },
  {
   "cell_type": "markdown",
   "id": "5c3a3468",
   "metadata": {},
   "source": [
    "#### String Modification - Pattern "
   ]
  },
  {
   "cell_type": "markdown",
   "id": "10ee753d",
   "metadata": {},
   "source": [
    "#### Substring Search - RegEx "
   ]
  },
  {
   "cell_type": "markdown",
   "id": "6566f20c",
   "metadata": {},
   "source": [
    "#### Questions "
   ]
  },
  {
   "cell_type": "code",
   "execution_count": 64,
   "id": "c3eb46c1",
   "metadata": {},
   "outputs": [
    {
     "data": {
      "text/plain": [
       "[None,\n",
       " None,\n",
       " None,\n",
       " None,\n",
       " None,\n",
       " None,\n",
       " None,\n",
       " None,\n",
       " None,\n",
       " None,\n",
       " None,\n",
       " None,\n",
       " None,\n",
       " None,\n",
       " None]"
      ]
     },
     "execution_count": 64,
     "metadata": {},
     "output_type": "execute_result"
    },
    {
     "data": {
      "text/plain": [
       "'an pledyksoctrw'"
      ]
     },
     "execution_count": 64,
     "metadata": {},
     "output_type": "execute_result"
    },
    {
     "data": {
      "text/plain": [
       "'an ple'"
      ]
     },
     "execution_count": 64,
     "metadata": {},
     "output_type": "execute_result"
    },
    {
     "data": {
      "text/plain": [
       "True"
      ]
     },
     "execution_count": 64,
     "metadata": {},
     "output_type": "execute_result"
    },
    {
     "data": {
      "text/plain": [
       "[('e', 2), ('t', 1), ('a', 1), ('l', 1)]"
      ]
     },
     "execution_count": 64,
     "metadata": {},
     "output_type": "execute_result"
    },
    {
     "data": {
      "text/plain": [
       "[('e', 2), ('l', 1), ('a', 1), ('t', 1)]"
      ]
     },
     "execution_count": 64,
     "metadata": {},
     "output_type": "execute_result"
    },
    {
     "data": {
      "text/plain": [
       "['a', 'b', 'c', 'a', 'b']"
      ]
     },
     "execution_count": 64,
     "metadata": {},
     "output_type": "execute_result"
    },
    {
     "data": {
      "text/plain": [
       "'abcab'"
      ]
     },
     "execution_count": 64,
     "metadata": {},
     "output_type": "execute_result"
    }
   ],
   "source": [
    "## remove duplicates in a string, maintain order\n",
    "s = \"an apple a day keeps doctor away\"\n",
    "\n",
    "# list(s)\n",
    "# \"\".join(set(s))\n",
    "\n",
    "unique = []\n",
    "[unique.append(x) for x in s if x not in unique]\n",
    "# [unique.append(x) for x in s if x not in unique or x== \" \"]\n",
    "\"\".join(unique)\n",
    "\n",
    "\"\".join(list(dict.fromkeys(\"an apple\")))\n",
    "\n",
    "## common characters in 2 strings?\n",
    "s1 = list(\"tell\")\n",
    "s2 = list(\"late\")\n",
    "\n",
    "## check if a string is palindrome\n",
    "s = \"nitin\"\n",
    "s == s[::-1]\n",
    "\n",
    "## check if 2 strings are anagrams\n",
    "from collections import Counter\n",
    "s1 = \"talee\"\n",
    "s2 = \"latee\"\n",
    "c1 = Counter(s1).most_common()\n",
    "c2 = Counter(s2).most_common()\n",
    "c1\n",
    "c2\n",
    "# sorted(s1) == sorted(s2) # works too\n",
    "\n",
    "\n",
    "## Remove first 3 duplicates of a string\n",
    "# e.g. abbabbaaccccab should become abcab\n",
    "import pandas as pd\n",
    "df = pd.DataFrame(list(\"abbabbaaccccab\"))\n",
    "df[\"temp\"] = df.groupby(0, as_index = False).cumcount()+1\n",
    "df[(df[\"temp\"]<=1) | (df[\"temp\"]>=5)][0].tolist()\n",
    "\"\".join(df[(df[\"temp\"]<=1) | (df[\"temp\"]>=5)][0].tolist())\n"
   ]
  },
  {
   "cell_type": "markdown",
   "id": "efae64d1",
   "metadata": {},
   "source": [
    "[Back to the top](#table-of-contents)\n",
    "___"
   ]
  },
  {
   "cell_type": "markdown",
   "id": "2e46343b",
   "metadata": {},
   "source": [
    "# Containers - List"
   ]
  },
  {
   "cell_type": "code",
   "execution_count": 65,
   "id": "3beff2b3",
   "metadata": {},
   "outputs": [
    {
     "data": {
      "text/plain": [
       "['apple', 'banana', 'carrot', 'gauva']"
      ]
     },
     "execution_count": 65,
     "metadata": {},
     "output_type": "execute_result"
    },
    {
     "data": {
      "text/plain": [
       "'gauva'"
      ]
     },
     "execution_count": 65,
     "metadata": {},
     "output_type": "execute_result"
    },
    {
     "data": {
      "text/plain": [
       "'carrot'"
      ]
     },
     "execution_count": 65,
     "metadata": {},
     "output_type": "execute_result"
    },
    {
     "data": {
      "text/plain": [
       "['a', 'b', 'c', 'd']"
      ]
     },
     "execution_count": 65,
     "metadata": {},
     "output_type": "execute_result"
    },
    {
     "data": {
      "text/plain": [
       "['a', 'b', 'c', 'd']"
      ]
     },
     "execution_count": 65,
     "metadata": {},
     "output_type": "execute_result"
    },
    {
     "data": {
      "text/plain": [
       "['a', 'c']"
      ]
     },
     "execution_count": 65,
     "metadata": {},
     "output_type": "execute_result"
    },
    {
     "data": {
      "text/plain": [
       "['a', 'c', 'e']"
      ]
     },
     "execution_count": 65,
     "metadata": {},
     "output_type": "execute_result"
    },
    {
     "data": {
      "text/plain": [
       "['e', 'd', 'c', 'b', 'a']"
      ]
     },
     "execution_count": 65,
     "metadata": {},
     "output_type": "execute_result"
    },
    {
     "data": {
      "text/plain": [
       "['a', 'b', 'c', 'd', 'e', 'f', 'g', 'h']"
      ]
     },
     "execution_count": 65,
     "metadata": {},
     "output_type": "execute_result"
    },
    {
     "data": {
      "text/plain": [
       "[]"
      ]
     },
     "execution_count": 65,
     "metadata": {},
     "output_type": "execute_result"
    },
    {
     "data": {
      "text/plain": [
       "['a', 'b', 'c', 'd']"
      ]
     },
     "execution_count": 65,
     "metadata": {},
     "output_type": "execute_result"
    },
    {
     "data": {
      "text/plain": [
       "['a', 'b', 'c', 'd']"
      ]
     },
     "execution_count": 65,
     "metadata": {},
     "output_type": "execute_result"
    },
    {
     "data": {
      "text/plain": [
       "['a', 'b', 'c', 'd']"
      ]
     },
     "execution_count": 65,
     "metadata": {},
     "output_type": "execute_result"
    },
    {
     "data": {
      "text/plain": [
       "['j', 'i', 'h', 'g', 'f', 'e', 'd', 'c', 'b', 'a']"
      ]
     },
     "execution_count": 65,
     "metadata": {},
     "output_type": "execute_result"
    },
    {
     "data": {
      "text/plain": [
       "[]"
      ]
     },
     "execution_count": 65,
     "metadata": {},
     "output_type": "execute_result"
    },
    {
     "data": {
      "text/plain": [
       "['j', 'i', 'h', 'g', 'f', 'e', 'd', 'c', 'b']"
      ]
     },
     "execution_count": 65,
     "metadata": {},
     "output_type": "execute_result"
    },
    {
     "data": {
      "text/plain": [
       "['g', 'f', 'e', 'd', 'c', 'b', 'a']"
      ]
     },
     "execution_count": 65,
     "metadata": {},
     "output_type": "execute_result"
    },
    {
     "data": {
      "text/plain": [
       "['aa', 'bb', 'c', 'd', 'e', 'f', 'g', 'h', 'i', 'j']"
      ]
     },
     "execution_count": 65,
     "metadata": {},
     "output_type": "execute_result"
    },
    {
     "data": {
      "text/plain": [
       "['a', 'b', 'c', 'd', 'e', 'f', 'g', 'h', 'i', 'j']"
      ]
     },
     "execution_count": 65,
     "metadata": {},
     "output_type": "execute_result"
    },
    {
     "data": {
      "text/plain": [
       "['j', 'i', 'h', 'g', 'f', 'e', 'd', 'c', 'b', 'a']"
      ]
     },
     "execution_count": 65,
     "metadata": {},
     "output_type": "execute_result"
    },
    {
     "data": {
      "text/plain": [
       "['j', 'i', 'h', 'g', 'f', 'e', 'd', 'c', 'b', 'a', 'dog']"
      ]
     },
     "execution_count": 65,
     "metadata": {},
     "output_type": "execute_result"
    },
    {
     "data": {
      "text/plain": [
       "['j', 'i', 'h', 'g', 'f', 'e', 'd', 'c', 'b', 'a']"
      ]
     },
     "execution_count": 65,
     "metadata": {},
     "output_type": "execute_result"
    },
    {
     "data": {
      "text/plain": [
       "['dog']"
      ]
     },
     "execution_count": 65,
     "metadata": {},
     "output_type": "execute_result"
    },
    {
     "data": {
      "text/plain": [
       "['j', 'i', 'h', 'g', 'f', 'e', 'd', 'c', 'b', 'a', 'dog']"
      ]
     },
     "execution_count": 65,
     "metadata": {},
     "output_type": "execute_result"
    },
    {
     "data": {
      "text/plain": [
       "['dog']"
      ]
     },
     "execution_count": 65,
     "metadata": {},
     "output_type": "execute_result"
    },
    {
     "data": {
      "text/plain": [
       "['j', 'i', 'h', 'g', 'f', 'e', 'd', 'c', 'b', 'a', 'dog', 'dog']"
      ]
     },
     "execution_count": 65,
     "metadata": {},
     "output_type": "execute_result"
    },
    {
     "data": {
      "text/plain": [
       "10"
      ]
     },
     "execution_count": 65,
     "metadata": {},
     "output_type": "execute_result"
    },
    {
     "data": {
      "text/plain": [
       "['j', 'i', 'h', 'g', 'f', 'e', 'd', 'c', 'b', 'a', 'dog', 'dog']"
      ]
     },
     "execution_count": 65,
     "metadata": {},
     "output_type": "execute_result"
    },
    {
     "data": {
      "text/plain": [
       "[10, 11]"
      ]
     },
     "execution_count": 65,
     "metadata": {},
     "output_type": "execute_result"
    },
    {
     "data": {
      "text/plain": [
       "[10, 11]"
      ]
     },
     "execution_count": 65,
     "metadata": {},
     "output_type": "execute_result"
    },
    {
     "data": {
      "text/plain": [
       "'banana'"
      ]
     },
     "execution_count": 65,
     "metadata": {},
     "output_type": "execute_result"
    },
    {
     "data": {
      "text/plain": [
       "['apple', 'carrot', 'gauva', 'dog', 'dog']"
      ]
     },
     "execution_count": 65,
     "metadata": {},
     "output_type": "execute_result"
    },
    {
     "data": {
      "text/plain": [
       "'carrot'"
      ]
     },
     "execution_count": 65,
     "metadata": {},
     "output_type": "execute_result"
    },
    {
     "data": {
      "text/plain": [
       "'dog'"
      ]
     },
     "execution_count": 65,
     "metadata": {},
     "output_type": "execute_result"
    },
    {
     "data": {
      "text/plain": [
       "['apple', 'gauva', 'dog']"
      ]
     },
     "execution_count": 65,
     "metadata": {},
     "output_type": "execute_result"
    },
    {
     "data": {
      "text/plain": [
       "[11, 11, 11]"
      ]
     },
     "execution_count": 65,
     "metadata": {},
     "output_type": "execute_result"
    },
    {
     "data": {
      "text/plain": [
       "[11, 'apple', 11, 'apple', 11, 'apple']"
      ]
     },
     "execution_count": 65,
     "metadata": {},
     "output_type": "execute_result"
    },
    {
     "data": {
      "text/plain": [
       "[11, 'apple', 11, 'apple', 11, 'apple']"
      ]
     },
     "execution_count": 65,
     "metadata": {},
     "output_type": "execute_result"
    },
    {
     "data": {
      "text/plain": [
       "[11, 11, 11, 'apple', 'apple', 'apple']"
      ]
     },
     "execution_count": 65,
     "metadata": {},
     "output_type": "execute_result"
    },
    {
     "data": {
      "text/plain": [
       "[[111, 112, 113], 12, 13]"
      ]
     },
     "execution_count": 65,
     "metadata": {},
     "output_type": "execute_result"
    },
    {
     "data": {
      "text/plain": [
       "[111, 112, 113, 12, 13]"
      ]
     },
     "execution_count": 65,
     "metadata": {},
     "output_type": "execute_result"
    },
    {
     "data": {
      "text/plain": [
       "['a', 'b', 'c', 'd', 'e', 'f', 'g', 'h', 'i', 'j']"
      ]
     },
     "execution_count": 65,
     "metadata": {},
     "output_type": "execute_result"
    },
    {
     "data": {
      "text/plain": [
       "'j'"
      ]
     },
     "execution_count": 65,
     "metadata": {},
     "output_type": "execute_result"
    },
    {
     "data": {
      "text/plain": [
       "['a', 'c', 'e', 'f', 'g', 'h', 'i', 'j']"
      ]
     },
     "execution_count": 65,
     "metadata": {},
     "output_type": "execute_result"
    },
    {
     "data": {
      "text/plain": [
       "['a', 'c', 'e', 'g', 'i']"
      ]
     },
     "execution_count": 65,
     "metadata": {},
     "output_type": "execute_result"
    },
    {
     "data": {
      "text/plain": [
       "[11, 12, 13, 14, 15, 16, 17, 18, 19]"
      ]
     },
     "execution_count": 65,
     "metadata": {},
     "output_type": "execute_result"
    },
    {
     "data": {
      "text/plain": [
       "[16, 17, 18, 19]"
      ]
     },
     "execution_count": 65,
     "metadata": {},
     "output_type": "execute_result"
    },
    {
     "data": {
      "text/plain": [
       "[16, 17, 18, 19]"
      ]
     },
     "execution_count": 65,
     "metadata": {},
     "output_type": "execute_result"
    },
    {
     "data": {
      "text/plain": [
       "[101, 102, 103, 104, 105]"
      ]
     },
     "execution_count": 65,
     "metadata": {},
     "output_type": "execute_result"
    },
    {
     "data": {
      "text/plain": [
       "21"
      ]
     },
     "execution_count": 65,
     "metadata": {},
     "output_type": "execute_result"
    },
    {
     "data": {
      "text/plain": [
       "[11, 12, 13, 14, 15, 16, 17, 18, 19]"
      ]
     },
     "execution_count": 65,
     "metadata": {},
     "output_type": "execute_result"
    },
    {
     "data": {
      "text/plain": [
       "[11, 13, 15, 17, 19]"
      ]
     },
     "execution_count": 65,
     "metadata": {},
     "output_type": "execute_result"
    },
    {
     "data": {
      "text/plain": [
       "[13]"
      ]
     },
     "execution_count": 65,
     "metadata": {},
     "output_type": "execute_result"
    },
    {
     "data": {
      "text/plain": [
       "[0, 2, 4]"
      ]
     },
     "execution_count": 65,
     "metadata": {},
     "output_type": "execute_result"
    },
    {
     "data": {
      "text/plain": [
       "True"
      ]
     },
     "execution_count": 65,
     "metadata": {},
     "output_type": "execute_result"
    },
    {
     "data": {
      "text/plain": [
       "False"
      ]
     },
     "execution_count": 65,
     "metadata": {},
     "output_type": "execute_result"
    },
    {
     "data": {
      "text/plain": [
       "[1, 2, 3, 1, 2, 3, 1, 2, 3, 1]"
      ]
     },
     "execution_count": 65,
     "metadata": {},
     "output_type": "execute_result"
    },
    {
     "data": {
      "text/plain": [
       "[11, 12, 23, 24]"
      ]
     },
     "execution_count": 65,
     "metadata": {},
     "output_type": "execute_result"
    },
    {
     "data": {
      "text/plain": [
       "[11, 22]"
      ]
     },
     "execution_count": 65,
     "metadata": {},
     "output_type": "execute_result"
    },
    {
     "data": {
      "text/plain": [
       "[(1, 10), (2, 20)]"
      ]
     },
     "execution_count": 65,
     "metadata": {},
     "output_type": "execute_result"
    },
    {
     "data": {
      "text/plain": [
       "0"
      ]
     },
     "execution_count": 65,
     "metadata": {},
     "output_type": "execute_result"
    },
    {
     "data": {
      "text/plain": [
       "2"
      ]
     },
     "execution_count": 65,
     "metadata": {},
     "output_type": "execute_result"
    },
    {
     "data": {
      "text/plain": [
       "3"
      ]
     },
     "execution_count": 65,
     "metadata": {},
     "output_type": "execute_result"
    },
    {
     "data": {
      "text/plain": [
       "4"
      ]
     },
     "execution_count": 65,
     "metadata": {},
     "output_type": "execute_result"
    },
    {
     "data": {
      "text/plain": [
       "1"
      ]
     },
     "execution_count": 65,
     "metadata": {},
     "output_type": "execute_result"
    },
    {
     "data": {
      "text/plain": [
       "[0, 2, 3, 4, 1]"
      ]
     },
     "execution_count": 65,
     "metadata": {},
     "output_type": "execute_result"
    }
   ],
   "source": [
    "# - Merge 2 vectors at alternate positions (DO NOT USE LOOPS)\n",
    "# - merge 11,13,15 and 12,14,16 into 11,12,13,14,15,16\n",
    "\n",
    "#### Question 2: \n",
    "# - Collect elements at odd and even positions into 2 seperate vectors (DO NOT USE LOOPS)\n",
    "# - i.e. split c(11,12,13,14,15) into 11,13,15 and 12,14\n",
    "\n",
    "#### Question 6:\n",
    "# - Rotate a vector with data in groups of 3   \n",
    "# - i.e. 1 2 3 4 5 6 7 8 9 becomes 3 2 1 6 5 4 9 8 7  \n",
    "# - and  1 2 3 4 5 6 7 8   becomes 3 2 1 6 5 4 8 7  \n",
    "# - There are multiple cells for multiple inputs, ensure your code works fine for all use cases\n",
    "\n",
    "# datatypes - container sequences\n",
    "\n",
    "# containers - list\n",
    "# mutable, ordered, indexable\n",
    "l = [\"apple\",\"banana\",\"carrot\"]\n",
    "l.append(\"gauva\")\n",
    "l\n",
    "\n",
    "l[-1] # last element\n",
    "l[-2] # second last\n",
    "\n",
    "l = list(\"abcdefghij\")\n",
    "l[0:4]\n",
    "l[0:4:1]\n",
    "l[0:4:2]\n",
    "l[0:5:2]\n",
    "\n",
    "l[0:5][::-1]\n",
    "\n",
    "l[0:-2] # 0 through last 2\n",
    "l[0:0]\n",
    "l[:4] # same as l[None:4]\n",
    "\n",
    "l[0:4] # is same as \n",
    "l[0:-6]  # treat -6 as length(x)-6\n",
    "\n",
    "\n",
    "\n",
    "l[::-1]\n",
    "l[0:10:-1] # fails\n",
    "\n",
    "l[10:0:-1] # works\n",
    "# 10, 10-1, 10-1-1, ..., \n",
    "# if positive step used, start < stop\n",
    "# if negative step used, start > stop\n",
    "\n",
    "l[0:7][::-1] # most convenient way of getting in reverse\n",
    "\n",
    "l[0:2] = [\"aa\",\"bb\"]\n",
    "l\n",
    "l[0:2] = [\"a\",\"b\"]\n",
    "l\n",
    "\n",
    "l.reverse() # reverses in place, not recommended\n",
    "l\n",
    "\n",
    "a = [\"dog\"]\n",
    "\n",
    "l + a\n",
    "l\n",
    "a\n",
    "\n",
    "l.extend(a) # a is a list, not a single string\n",
    "l\n",
    "a\n",
    "\n",
    "l.extend(a)\n",
    "l\n",
    "\n",
    "# index of first occurence\n",
    "l.index(\"dog\")\n",
    "l\n",
    "\n",
    "# index of all occurences, always returns a list given its a list comprehension\n",
    "[pos for pos, elem in enumerate(l) if elem==\"dog\"]\n",
    "# or \n",
    "[pos for pos in range(len(l)) if l[pos]==\"dog\"]\n",
    "# or itertools?\n",
    "\n",
    "l = ['apple', 'banana', 'carrot', 'gauva', 'dog', 'dog']\n",
    "l.pop(1) # remove element by an index\n",
    "l\n",
    "\n",
    "for pos in [1,2]:\n",
    "    l.pop(pos)\n",
    "l\n",
    "\n",
    "# repeat lists\n",
    "[11] * 3\n",
    "[11, \"apple\"] * 3\n",
    "[11, \"apple\"] * 3\n",
    "\n",
    "# repeat each element of a list 3 times\n",
    "[item for item in [11,\"apple\"] for n in range(3)]\n",
    "\n",
    "l1 = [11,12,13]\n",
    "l1[0] = [111, 112 ,113]\n",
    "l1 # list of lists\n",
    "\n",
    "l1 = [11,12,13]\n",
    "l1[0:1] = [111, 112 ,113]\n",
    "l1 # list of lists\n",
    "\n",
    "# all elements except one\n",
    "l1 = list(\"abcdefghij\")\n",
    "l1\n",
    "l1[-1] # this gives the last one, not except one\n",
    "[elem for pos, elem in enumerate(l1) if pos not in [2-1,4-1]] # works\n",
    "\n",
    "# index by boolean - Not allowed\n",
    "l1 = list(\"abcdefghij\")\n",
    "# l1[[2,3,4]] # fails, cannot index multiple elements\n",
    "indices = [pos for pos, elem in enumerate([True, False] * 5) if elem==True]\n",
    "[l1[index] for index in indices]\n",
    "\n",
    "\n",
    "# filter a list\n",
    "l = list(range(11,20))\n",
    "l\n",
    "list(filter(lambda x: x>15, l))\n",
    "[x for x in l if x>15]\n",
    "\n",
    "# what is map()\n",
    "l = [1,2,3,4,5]\n",
    "list(map(lambda x: x+100, l))\n",
    "\n",
    "# what is reduce()\n",
    "from functools import reduce\n",
    "reduce(lambda x, y: x+y, [1,2,3,4,5,6])\n",
    "\n",
    "list(range(11,20))\n",
    "list(range(11,20,2))\n",
    "# 11:15, not allowed\n",
    "\n",
    "[x for x in [11,12,13,14,15] if x == 13]\n",
    "[pos for pos, elem in enumerate([11,12,13,14,15]) if elem%2==1] # same as which(x%%2==1)\n",
    "\n",
    "\"y\" in list(\"python\")\n",
    "\"l\" in list(\"python\")\n",
    "\n",
    "\n",
    "# recycle a list to a length\n",
    "l1 = [1,2,3]\n",
    "desired_length = 10\n",
    "q, r = divmod(desired_length, len(l1))\n",
    "l1*q + l1[:r]\n",
    "\n",
    "# sorted - returns a value, not in place modification\n",
    "l1=[1,2,3,4]\n",
    "l2=[10,10,20,20]\n",
    "[x+y for x,y in zip(l1,l2)]# does not recycle, but trims the shorter list\n",
    "\n",
    "l1=[1,2,3,4]\n",
    "l2=[10,20]\n",
    "[x+y for x,y in zip(l1,l2)] # does not recycle, but trims the shorter list\n",
    "list(zip(l1,l2))\n",
    "\n",
    "# order of elements? Incomplete\n",
    "x = [11,13,14,15,12]\n",
    "sorted(x).index(11)\n",
    "sorted(x).index(13)\n",
    "sorted(x).index(14)\n",
    "sorted(x).index(15)\n",
    "sorted(x).index(12)\n",
    "[sorted(x).index(i) for i in x]\n",
    "\n"
   ]
  },
  {
   "cell_type": "code",
   "execution_count": 66,
   "id": "dc69366d",
   "metadata": {},
   "outputs": [
    {
     "data": {
      "text/plain": [
       "<zip at 0x160978980>"
      ]
     },
     "execution_count": 66,
     "metadata": {},
     "output_type": "execute_result"
    },
    {
     "data": {
      "text/plain": [
       "[('a', 'x'), ('b', 'y')]"
      ]
     },
     "execution_count": 66,
     "metadata": {},
     "output_type": "execute_result"
    },
    {
     "data": {
      "text/plain": [
       "[('a', 'x'), ('b', 'y')]"
      ]
     },
     "execution_count": 66,
     "metadata": {},
     "output_type": "execute_result"
    },
    {
     "data": {
      "text/plain": [
       "('a', 'x')"
      ]
     },
     "execution_count": 66,
     "metadata": {},
     "output_type": "execute_result"
    },
    {
     "data": {
      "text/plain": [
       "(10, 20)"
      ]
     },
     "execution_count": 66,
     "metadata": {},
     "output_type": "execute_result"
    },
    {
     "data": {
      "text/plain": [
       "(10, 20)"
      ]
     },
     "execution_count": 66,
     "metadata": {},
     "output_type": "execute_result"
    },
    {
     "data": {
      "text/plain": [
       "(10, 20)"
      ]
     },
     "execution_count": 66,
     "metadata": {},
     "output_type": "execute_result"
    },
    {
     "data": {
      "text/plain": [
       "(10, 20)"
      ]
     },
     "execution_count": 66,
     "metadata": {},
     "output_type": "execute_result"
    },
    {
     "data": {
      "text/plain": [
       "(10, 20)"
      ]
     },
     "execution_count": 66,
     "metadata": {},
     "output_type": "execute_result"
    },
    {
     "name": "stdout",
     "output_type": "stream",
     "text": [
      "***\n",
      "('a', 'x')\n",
      "***\n",
      "('b', 'y')\n",
      "***\n",
      "('c', 'z')\n",
      "***\n",
      "a\n",
      "x\n",
      "***\n",
      "b\n",
      "y\n",
      "***\n",
      "c\n",
      "z\n"
     ]
    },
    {
     "data": {
      "text/plain": [
       "2"
      ]
     },
     "execution_count": 66,
     "metadata": {},
     "output_type": "execute_result"
    },
    {
     "data": {
      "text/plain": [
       "('butter', 'asvasdvah')"
      ]
     },
     "execution_count": 66,
     "metadata": {},
     "output_type": "execute_result"
    },
    {
     "data": {
      "text/plain": [
       "2"
      ]
     },
     "execution_count": 66,
     "metadata": {},
     "output_type": "execute_result"
    },
    {
     "data": {
      "text/plain": [
       "('butter',)"
      ]
     },
     "execution_count": 66,
     "metadata": {},
     "output_type": "execute_result"
    },
    {
     "data": {
      "text/plain": [
       "1"
      ]
     },
     "execution_count": 66,
     "metadata": {},
     "output_type": "execute_result"
    },
    {
     "data": {
      "text/plain": [
       "tuple"
      ]
     },
     "execution_count": 66,
     "metadata": {},
     "output_type": "execute_result"
    },
    {
     "data": {
      "text/plain": [
       "'butter'"
      ]
     },
     "execution_count": 66,
     "metadata": {},
     "output_type": "execute_result"
    },
    {
     "data": {
      "text/plain": [
       "str"
      ]
     },
     "execution_count": 66,
     "metadata": {},
     "output_type": "execute_result"
    },
    {
     "data": {
      "text/plain": [
       "6"
      ]
     },
     "execution_count": 66,
     "metadata": {},
     "output_type": "execute_result"
    }
   ],
   "source": [
    "# containers - tuple\n",
    "# not mutable, indexable, memory-efficient than list, pairing\n",
    "# need to be unpacked and zipped\n",
    "\n",
    "# zipping\n",
    "l_a = [\"a\",\"b\",\"c\"]\n",
    "l_b = [\"x\",\"y\",\"z\"]\n",
    "\n",
    "zip(l_a, l_b) # type is zip\n",
    "l_ab_zip_list = list(zip(l_a, l_b)) #list of tuples\n",
    "\n",
    "# recycyles? Nope, plainly chops to shorter length\n",
    "list(zip([\"a\",\"b\",\"c\"], [\"x\",\"y\"])) \n",
    "list(zip([\"a\",\"b\"], [\"x\",\"y\",\"z\"])) \n",
    "\n",
    "# unpacking\n",
    "a = l_ab_zip_list[0]\n",
    "a # a is a tuple\n",
    "\n",
    "a, b = l_ab_zip_list[0]\n",
    "# a is a string, b is a string\n",
    "\n",
    "\n",
    "10,20 # always a tuple, even without brackets\n",
    "(10,20)\n",
    "x=10; y=20;\n",
    "(x,y)\n",
    "x,y\n",
    "x = 10,20\n",
    "x\n",
    "\n",
    "for element in l_ab_zip_list:\n",
    "    print(\"***\")\n",
    "    print(element)\n",
    "\n",
    "for idx, element in l_ab_zip_list:\n",
    "    print(\"***\")\n",
    "    print(idx)\n",
    "    print(element)\n",
    "    \n",
    "len(l_ab_zip_list[0])\n",
    "\n",
    "(\"butter\",\"asvasdvah\")\n",
    "len((\"butter\",\"asvasdvah\"))\n",
    "\n",
    "(\"butter\",) # still a tuple of length 1\n",
    "len((\"butter\",))\n",
    "type((\"butter\",))\n",
    "\n",
    "(\"butter\") # not a tuple, but a string\n",
    "type((\"butter\"))\n",
    "len((\"butter\")) # length 6 string\n",
    "\n",
    "\n"
   ]
  },
  {
   "cell_type": "code",
   "execution_count": null,
   "id": "d127b619",
   "metadata": {},
   "outputs": [],
   "source": []
  },
  {
   "cell_type": "code",
   "execution_count": null,
   "id": "698020c3",
   "metadata": {},
   "outputs": [],
   "source": []
  },
  {
   "cell_type": "code",
   "execution_count": 67,
   "id": "26ff8880",
   "metadata": {},
   "outputs": [
    {
     "data": {
      "text/plain": [
       "{'apple', 'banana', 'carrot'}"
      ]
     },
     "execution_count": 67,
     "metadata": {},
     "output_type": "execute_result"
    },
    {
     "data": {
      "text/plain": [
       "{'apple', 'banana', 'carrot'}"
      ]
     },
     "execution_count": 67,
     "metadata": {},
     "output_type": "execute_result"
    },
    {
     "data": {
      "text/plain": [
       "{20, 'apple', 'banana', 'carrot'}"
      ]
     },
     "execution_count": 67,
     "metadata": {},
     "output_type": "execute_result"
    },
    {
     "data": {
      "text/plain": [
       "{20, 'apple', 'banana', 'carrot', 'gauva'}"
      ]
     },
     "execution_count": 67,
     "metadata": {},
     "output_type": "execute_result"
    },
    {
     "data": {
      "text/plain": [
       "{20, 'apple', 'banana', 'carrot', 'gauva'}"
      ]
     },
     "execution_count": 67,
     "metadata": {},
     "output_type": "execute_result"
    },
    {
     "data": {
      "text/plain": [
       "{20, 'apple', 'as2', 'asd', 'banana', 'carrot', 'gauva'}"
      ]
     },
     "execution_count": 67,
     "metadata": {},
     "output_type": "execute_result"
    },
    {
     "data": {
      "text/plain": [
       "{20, 'apple', 'as2', 'asd', 'banana', 'carrot', 'gauva', 'hjy', 'rgre'}"
      ]
     },
     "execution_count": 67,
     "metadata": {},
     "output_type": "execute_result"
    },
    {
     "data": {
      "text/plain": [
       "{20,\n",
       " 'apple',\n",
       " 'as2',\n",
       " 'asd',\n",
       " 'banana',\n",
       " 'carrot',\n",
       " 'gauva',\n",
       " 'h',\n",
       " 'hjy',\n",
       " 'i',\n",
       " 'j',\n",
       " 'k',\n",
       " 'rgre',\n",
       " 'u',\n",
       " 'y'}"
      ]
     },
     "execution_count": 67,
     "metadata": {},
     "output_type": "execute_result"
    },
    {
     "data": {
      "text/plain": [
       "{'apple', 'banana', 'carrot'}"
      ]
     },
     "execution_count": 67,
     "metadata": {},
     "output_type": "execute_result"
    },
    {
     "data": {
      "text/plain": [
       "{'banana', 'carrot'}"
      ]
     },
     "execution_count": 67,
     "metadata": {},
     "output_type": "execute_result"
    },
    {
     "data": {
      "text/plain": [
       "{'banana', 'carrot'}"
      ]
     },
     "execution_count": 67,
     "metadata": {},
     "output_type": "execute_result"
    },
    {
     "data": {
      "text/plain": [
       "'carrot'"
      ]
     },
     "execution_count": 67,
     "metadata": {},
     "output_type": "execute_result"
    },
    {
     "data": {
      "text/plain": [
       "{'banana'}"
      ]
     },
     "execution_count": 67,
     "metadata": {},
     "output_type": "execute_result"
    },
    {
     "data": {
      "text/plain": [
       "{'a', 'b', 'c', 'd', 'e'}"
      ]
     },
     "execution_count": 67,
     "metadata": {},
     "output_type": "execute_result"
    },
    {
     "data": {
      "text/plain": [
       "{'c'}"
      ]
     },
     "execution_count": 67,
     "metadata": {},
     "output_type": "execute_result"
    },
    {
     "data": {
      "text/plain": [
       "{'a', 'b'}"
      ]
     },
     "execution_count": 67,
     "metadata": {},
     "output_type": "execute_result"
    },
    {
     "data": {
      "text/plain": [
       "{'d', 'e'}"
      ]
     },
     "execution_count": 67,
     "metadata": {},
     "output_type": "execute_result"
    },
    {
     "data": {
      "text/plain": [
       "{1, 2, 5, 7, 8}"
      ]
     },
     "execution_count": 67,
     "metadata": {},
     "output_type": "execute_result"
    }
   ],
   "source": [
    "# containers - set\n",
    "# mutable, unordered, unique - no duplicates allowed\n",
    "# in alphabetical order always\n",
    "# heterogenous\n",
    "\n",
    "my_set = {'apple', 'banana', 'carrot'}\n",
    "my_set\n",
    "\n",
    "# typically created from a list\n",
    "my_l = ['carrot','banana','apple','apple','banana','carrot']\n",
    "my_set=  set(my_l)\n",
    "my_set\n",
    "\n",
    "# typically created from a list\n",
    "my_l = ['carrot','banana','apple','apple','banana','carrot', 20]\n",
    "my_set=  set(my_l)\n",
    "my_set\n",
    "\n",
    "\n",
    "my_set.add(\"gauva\") # adds if unique, updates inplace \n",
    "my_set\n",
    "\n",
    "my_set.add(\"carrot\") # adds if unique, updates inplace \n",
    "my_set\n",
    "\n",
    "\n",
    "my_set.update([\"asd\",\"as2\"]) # pass only a list or tuple\n",
    "my_set\n",
    "\n",
    "my_set.update({\"hjy\",\"rgre\"})\n",
    "my_set\n",
    "\n",
    "my_set.update(\"hjyiukyuyukyukyku\")\n",
    "my_set\n",
    "\n",
    "\n",
    "# delete an element from set\n",
    "my_l = ['carrot','banana','apple','apple','banana','carrot']\n",
    "my_set=  set(my_l)\n",
    "my_set\n",
    "\n",
    "my_set.discard(\"apple\")\n",
    "my_set\n",
    "\n",
    "my_set.discard(\"asdasd\") # no error if element absent\n",
    "my_set\n",
    "\n",
    "my_set.pop() # removes arbitrary element. error if empty set\n",
    "my_set\n",
    "\n",
    "set_a = set(['a','b','c'])\n",
    "set_b = set(['d','e','c'])\n",
    "\n",
    "set_a.union(set_b)\n",
    "set_a.intersection(set_b)\n",
    "set_a - set_b # same as set_a.difference(set_b)\n",
    "set_b - set_a\n",
    "\n",
    "\n",
    "\n",
    "# always alphabetical? looks like it\n",
    "s = {5,2,7,1,8}\n",
    "s\n"
   ]
  },
  {
   "cell_type": "code",
   "execution_count": 68,
   "id": "23f9beb0",
   "metadata": {},
   "outputs": [
    {
     "data": {
      "text/plain": [
       "{}"
      ]
     },
     "execution_count": 68,
     "metadata": {},
     "output_type": "execute_result"
    },
    {
     "data": {
      "text/plain": [
       "{'key_1': 1, 'key_2': 2}"
      ]
     },
     "execution_count": 68,
     "metadata": {},
     "output_type": "execute_result"
    },
    {
     "data": {
      "text/plain": [
       "{'key_1': 1, 'key_2': 2, 'new': {'key_1': 1, 'key_2': 2}}"
      ]
     },
     "execution_count": 68,
     "metadata": {},
     "output_type": "execute_result"
    },
    {
     "data": {
      "text/plain": [
       "{'key_1': 1, 'key_2': 2}"
      ]
     },
     "execution_count": 68,
     "metadata": {},
     "output_type": "execute_result"
    },
    {
     "name": "stdout",
     "output_type": "stream",
     "text": [
      "###########\n",
      "key_1\n",
      "1\n",
      "###########\n",
      "key_2\n",
      "2\n",
      "###########\n",
      "new\n",
      "{'key_1': 1, 'key_2': 2}\n"
     ]
    },
    {
     "ename": "ValueError",
     "evalue": "too many values to unpack (expected 2)",
     "output_type": "error",
     "traceback": [
      "\u001b[0;31m---------------------------------------------------------------------------\u001b[0m",
      "\u001b[0;31mValueError\u001b[0m                                Traceback (most recent call last)",
      "Cell \u001b[0;32mIn[68], line 24\u001b[0m\n\u001b[1;32m     21\u001b[0m     \u001b[38;5;28mprint\u001b[39m(my_dict[my_key])\n\u001b[1;32m     23\u001b[0m \u001b[38;5;66;03m# Not allowed, only keys can be extracted as for loop    \u001b[39;00m\n\u001b[0;32m---> 24\u001b[0m \u001b[38;5;28;01mfor\u001b[39;00m my_key, my_value \u001b[38;5;129;01min\u001b[39;00m my_dict:\n\u001b[1;32m     25\u001b[0m     \u001b[38;5;28mprint\u001b[39m(\u001b[38;5;124m\"\u001b[39m\u001b[38;5;124m###########\u001b[39m\u001b[38;5;124m\"\u001b[39m)\n\u001b[1;32m     26\u001b[0m     \u001b[38;5;28mprint\u001b[39m(my_key)\n",
      "\u001b[0;31mValueError\u001b[0m: too many values to unpack (expected 2)"
     ]
    }
   ],
   "source": [
    "# containers - dictionary\n",
    "# iterable\n",
    "\n",
    "# my_dict = dict()\n",
    "my_dict = {}\n",
    "my_dict\n",
    "\n",
    "my_dict['key_1'] = 1\n",
    "my_dict['key_2'] = 2\n",
    "my_dict\n",
    "\n",
    "my_dict['new'] = {'key_1': 1, 'key_2': 2}\n",
    "my_dict\n",
    "\n",
    "my_dict['new']\n",
    "\n",
    "# iterate over \n",
    "for my_key in my_dict:\n",
    "    print(\"###########\")\n",
    "    print(my_key)\n",
    "    print(my_dict[my_key])\n",
    "    \n",
    "# Not allowed, only keys can be extracted as for loop    \n",
    "for my_key, my_value in my_dict:\n",
    "    print(\"###########\")\n",
    "    print(my_key)\n",
    "    print(my_value)\n",
    "    \n",
    "for my_key, my_value in my_dict.items():\n",
    "    print(\"###########\")\n",
    "    print(my_key)\n",
    "    print(my_value)\n",
    "\n",
    "my_dict.keys() # type: dict_keys\n",
    "type(my_dict.keys())\n",
    "list(my_dict.keys()) # list\n",
    "\n",
    "my_dict.values() # type: dict_values\n",
    "type(my_dict.values())\n",
    "list(my_dict.values()) # list \n",
    "\n",
    "my_dict.get('key_1') \n",
    "\n",
    "my_dict['not_a_key'] # error for a missing key\n",
    "my_dict.get('not_a_key') # no error thrown for a missing key\n",
    "\n",
    "my_dict.get('not_a_key', 99999)\n",
    "\n",
    "\n",
    "my_dict[2] = 1000;\n",
    "my_dict\n",
    "\n",
    "my_dict[2] # indexing by number not allowed, unless the key is a number itself\n",
    "\n",
    "my_dict_list = list(my_dict.items()) # list of tuples\n",
    "\n",
    "sorted({'key_1':10,'key_3':20,'key_2':15}) # returns sorted keys, not valuess\n",
    "{'key_1':10,3:20,'key_2':15} # allowed heterogenous datatype for keys\n",
    "sorted({'key_1':10,3:20,'key_2':15}) # avoid heterogenous datatype for keys\n",
    "\n",
    "# update dict\n",
    "my_dict = {}\n",
    "my_dict['key_1'] = 1\n",
    "my_dict['key_2'] = 2\n",
    "my_dict\n",
    "my_dict.update({'key_3': 1000})\n",
    "my_dict\n",
    "\n",
    "my_dict.update({'key_1': 999}) # adds a new key-value pair if key not present, updates if key already present\n",
    "my_dict\n",
    "\n",
    "my_dict.update({'key_4': 999}) # adds a new key-value pair if key not present, updates if key already present\n",
    "my_dict\n",
    "\n",
    "del my_dict['key_4']\n",
    "my_dict\n",
    "\n",
    "my_dict.pop('key_3')\n",
    "my_dict\n",
    "\n",
    "\n",
    "my_dict.get('key_1')\n",
    "my_dict.get('key_999') # no error for bad key\n",
    "my_dict['key_999'] # error for bad key\n",
    "\n",
    "'key_1' in my_dict # check for presense of a key\n",
    "'key_000' in my_dict \n",
    "# same as \n",
    "'key_1' in my_dict.keys()\n",
    "'key_000' in my_dict.keys()\n",
    "\n"
   ]
  },
  {
   "cell_type": "code",
   "execution_count": null,
   "id": "909a7a5a",
   "metadata": {},
   "outputs": [],
   "source": []
  },
  {
   "cell_type": "code",
   "execution_count": null,
   "id": "c833aa7a",
   "metadata": {},
   "outputs": [],
   "source": []
  },
  {
   "cell_type": "markdown",
   "id": "9956f60d",
   "metadata": {},
   "source": [
    "[Back to the top](#table-of-contents)\n",
    "___"
   ]
  },
  {
   "cell_type": "markdown",
   "id": "475692c4",
   "metadata": {},
   "source": [
    "# Containers - Collections \n"
   ]
  },
  {
   "cell_type": "code",
   "execution_count": 69,
   "id": "d90e5007",
   "metadata": {},
   "outputs": [
    {
     "data": {
      "text/plain": [
       "Counter({'a': 2, 'b': 2, 'c': 1})"
      ]
     },
     "execution_count": 69,
     "metadata": {},
     "output_type": "execute_result"
    },
    {
     "data": {
      "text/plain": [
       "collections.Counter"
      ]
     },
     "execution_count": 69,
     "metadata": {},
     "output_type": "execute_result"
    },
    {
     "data": {
      "text/plain": [
       "{'a': 2, 'b': 2, 'c': 1}"
      ]
     },
     "execution_count": 69,
     "metadata": {},
     "output_type": "execute_result"
    },
    {
     "data": {
      "text/plain": [
       "[('a', 2), ('b', 2)]"
      ]
     },
     "execution_count": 69,
     "metadata": {},
     "output_type": "execute_result"
    },
    {
     "data": {
      "text/plain": [
       "list"
      ]
     },
     "execution_count": 69,
     "metadata": {},
     "output_type": "execute_result"
    },
    {
     "data": {
      "text/plain": [
       "[2, 2]"
      ]
     },
     "execution_count": 69,
     "metadata": {},
     "output_type": "execute_result"
    }
   ],
   "source": [
    "from collections import Counter\n",
    "\n",
    "l = ['a','b','c','b','a']\n",
    "\n",
    "c1 = Counter(l)\n",
    "c1\n",
    "type(c1) # collections.Counter\n",
    "dict(c1)\n",
    "\n",
    "c1.most_common(2)\n",
    "type(c1.most_common(2)) # list of tuples\n",
    "c_temp = c1.most_common(2)\n",
    "[x[1] for x in c_temp]\n",
    "\n"
   ]
  },
  {
   "cell_type": "markdown",
   "id": "65f54049",
   "metadata": {},
   "source": [
    "[Back to the top](#table-of-contents)\n",
    "___"
   ]
  },
  {
   "cell_type": "markdown",
   "id": "bce0c29a",
   "metadata": {},
   "source": [
    "# Containers - zip "
   ]
  },
  {
   "cell_type": "code",
   "execution_count": 70,
   "id": "6f603c95",
   "metadata": {},
   "outputs": [],
   "source": [
    "\n",
    "nums = [1, 2, 3, 4]\n",
    "fruit = [\"Apples\", \"Peaches\", \"Pears\", \"Bananas\"]\n",
    "\n",
    "z1 = zip(nums, fruit) # datatype: zip\n",
    "\n",
    "\n"
   ]
  },
  {
   "cell_type": "markdown",
   "id": "55c6b774",
   "metadata": {},
   "source": [
    "[Back to the top](#table-of-contents)\n",
    "___"
   ]
  },
  {
   "cell_type": "markdown",
   "id": "66802ae0",
   "metadata": {},
   "source": [
    "# OS"
   ]
  },
  {
   "cell_type": "code",
   "execution_count": 71,
   "id": "afdce849",
   "metadata": {},
   "outputs": [
    {
     "data": {
      "text/plain": [
       "'/Users/ashrithreddy/MEGA/zz_github/python-for-data-science'"
      ]
     },
     "execution_count": 71,
     "metadata": {},
     "output_type": "execute_result"
    },
    {
     "ename": "AttributeError",
     "evalue": "module 'inspect' has no attribute 'getargspec'",
     "output_type": "error",
     "traceback": [
      "\u001b[0;31m---------------------------------------------------------------------------\u001b[0m",
      "\u001b[0;31mAttributeError\u001b[0m                            Traceback (most recent call last)",
      "Cell \u001b[0;32mIn[71], line 5\u001b[0m\n\u001b[1;32m      3\u001b[0m os\u001b[38;5;241m.\u001b[39mgetcwd()\n\u001b[1;32m      4\u001b[0m \u001b[38;5;28;01mimport\u001b[39;00m \u001b[38;5;21;01minspect\u001b[39;00m\n\u001b[0;32m----> 5\u001b[0m inspect\u001b[38;5;241m.\u001b[39mgetargspec(os\u001b[38;5;241m.\u001b[39mgetcwd) \n\u001b[1;32m      7\u001b[0m \u001b[38;5;28;01mimport\u001b[39;00m \u001b[38;5;21;01mpandas\u001b[39;00m \u001b[38;5;28;01mas\u001b[39;00m \u001b[38;5;21;01mpd\u001b[39;00m\n\u001b[1;32m      8\u001b[0m \u001b[38;5;66;03m# inspect.getargspec(pd.read_csv)\u001b[39;00m\n",
      "\u001b[0;31mAttributeError\u001b[0m: module 'inspect' has no attribute 'getargspec'"
     ]
    }
   ],
   "source": [
    "import os\n",
    "\n",
    "os.getcwd()\n",
    "import inspect\n",
    "inspect.getargspec(os.getcwd) \n",
    "\n",
    "import pandas as pd\n",
    "# inspect.getargspec(pd.read_csv)\n",
    "inspect.signature(pd.read_csv)\n",
    "\n",
    "# Del all user defined variables\n",
    "for iii in dir():\n",
    "    if not iii.startswith(\"_\"):\n",
    "        del globals()[iii]\n",
    "    del iii\n",
    "    "
   ]
  },
  {
   "cell_type": "markdown",
   "id": "75fbd5c6",
   "metadata": {},
   "source": [
    "[Back to the top](#table-of-contents)\n",
    "___"
   ]
  },
  {
   "cell_type": "markdown",
   "id": "2213fb1a",
   "metadata": {},
   "source": [
    "#### junk "
   ]
  },
  {
   "cell_type": "code",
   "execution_count": 72,
   "id": "ea8f1bc6",
   "metadata": {},
   "outputs": [
    {
     "name": "stdout",
     "output_type": "stream",
     "text": [
      "10 20\n",
      "x is 10\n"
     ]
    },
    {
     "ename": "FileNotFoundError",
     "evalue": "[Errno 2] No such file or directory: 'mtcars.csv'",
     "output_type": "error",
     "traceback": [
      "\u001b[0;31m---------------------------------------------------------------------------\u001b[0m",
      "\u001b[0;31mFileNotFoundError\u001b[0m                         Traceback (most recent call last)",
      "Cell \u001b[0;32mIn[72], line 10\u001b[0m\n\u001b[1;32m      5\u001b[0m \u001b[38;5;28mprint\u001b[39m(\u001b[38;5;124mf\u001b[39m\u001b[38;5;124m\"\u001b[39m\u001b[38;5;124mx is \u001b[39m\u001b[38;5;132;01m{\u001b[39;00mx\u001b[38;5;132;01m}\u001b[39;00m\u001b[38;5;124m\"\u001b[39m)\n\u001b[1;32m      8\u001b[0m \u001b[38;5;28;01mimport\u001b[39;00m \u001b[38;5;21;01mcsv\u001b[39;00m\n\u001b[0;32m---> 10\u001b[0m csvfile \u001b[38;5;241m=\u001b[39m \u001b[38;5;28mopen\u001b[39m(\u001b[38;5;124m\"\u001b[39m\u001b[38;5;124mmtcars.csv\u001b[39m\u001b[38;5;124m\"\u001b[39m, \u001b[38;5;124m\"\u001b[39m\u001b[38;5;124mr\u001b[39m\u001b[38;5;124m\"\u001b[39m)\n\u001b[1;32m     11\u001b[0m \u001b[38;5;28;01mfor\u001b[39;00m row \u001b[38;5;129;01min\u001b[39;00m csv\u001b[38;5;241m.\u001b[39mreader(csvfile):\n\u001b[1;32m     12\u001b[0m     \u001b[38;5;28mprint\u001b[39m(\u001b[38;5;124m\"\u001b[39m\u001b[38;5;124m\"\u001b[39m)\n",
      "File \u001b[0;32m~/anaconda3/lib/python3.11/site-packages/IPython/core/interactiveshell.py:284\u001b[0m, in \u001b[0;36m_modified_open\u001b[0;34m(file, *args, **kwargs)\u001b[0m\n\u001b[1;32m    277\u001b[0m \u001b[38;5;28;01mif\u001b[39;00m file \u001b[38;5;129;01min\u001b[39;00m {\u001b[38;5;241m0\u001b[39m, \u001b[38;5;241m1\u001b[39m, \u001b[38;5;241m2\u001b[39m}:\n\u001b[1;32m    278\u001b[0m     \u001b[38;5;28;01mraise\u001b[39;00m \u001b[38;5;167;01mValueError\u001b[39;00m(\n\u001b[1;32m    279\u001b[0m         \u001b[38;5;124mf\u001b[39m\u001b[38;5;124m\"\u001b[39m\u001b[38;5;124mIPython won\u001b[39m\u001b[38;5;124m'\u001b[39m\u001b[38;5;124mt let you open fd=\u001b[39m\u001b[38;5;132;01m{\u001b[39;00mfile\u001b[38;5;132;01m}\u001b[39;00m\u001b[38;5;124m by default \u001b[39m\u001b[38;5;124m\"\u001b[39m\n\u001b[1;32m    280\u001b[0m         \u001b[38;5;124m\"\u001b[39m\u001b[38;5;124mas it is likely to crash IPython. If you know what you are doing, \u001b[39m\u001b[38;5;124m\"\u001b[39m\n\u001b[1;32m    281\u001b[0m         \u001b[38;5;124m\"\u001b[39m\u001b[38;5;124myou can use builtins\u001b[39m\u001b[38;5;124m'\u001b[39m\u001b[38;5;124m open.\u001b[39m\u001b[38;5;124m\"\u001b[39m\n\u001b[1;32m    282\u001b[0m     )\n\u001b[0;32m--> 284\u001b[0m \u001b[38;5;28;01mreturn\u001b[39;00m io_open(file, \u001b[38;5;241m*\u001b[39margs, \u001b[38;5;241m*\u001b[39m\u001b[38;5;241m*\u001b[39mkwargs)\n",
      "\u001b[0;31mFileNotFoundError\u001b[0m: [Errno 2] No such file or directory: 'mtcars.csv'"
     ]
    }
   ],
   "source": [
    "x = 10\n",
    "y = 20\n",
    "print(x,y) # type is NoneType\n",
    "\n",
    "print(f\"x is {x}\")\n",
    "\n",
    "\n",
    "import csv\n",
    "\n",
    "csvfile = open(\"mtcars.csv\", \"r\")\n",
    "for row in csv.reader(csvfile):\n",
    "    print(\"\")\n",
    "    print(row)\n",
    "\n",
    "csvfile.close()"
   ]
  },
  {
   "cell_type": "markdown",
   "id": "be5b9132",
   "metadata": {},
   "source": [
    "[Back to the top](#table-of-contents)\n",
    "___"
   ]
  }
 ],
 "metadata": {
  "kernelspec": {
   "display_name": "base",
   "language": "python",
   "name": "python3"
  },
  "language_info": {
   "codemirror_mode": {
    "name": "ipython",
    "version": 3
   },
   "file_extension": ".py",
   "mimetype": "text/x-python",
   "name": "python",
   "nbconvert_exporter": "python",
   "pygments_lexer": "ipython3",
   "version": "3.11.3"
  }
 },
 "nbformat": 4,
 "nbformat_minor": 5
}
