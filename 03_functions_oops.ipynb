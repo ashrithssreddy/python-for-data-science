{
 "cells": [
  {
   "cell_type": "markdown",
   "id": "c9b96e7e",
   "metadata": {},
   "source": [
    "<a id=\"table-of-contents\"></a>\n",
    "# Functions\n",
    "\n",
    "- [Apply](#apply)\n",
    "- [Functions](#functions)\n",
    "    - [Functions Assignments](#functions-assignments)\n",
    "  - [Return](#return)\n",
    "  - [Arguement matching](#arguement-matching)\n",
    "  - [Function calling another](#function-calling-another)\n",
    "  - [Function defined inside function](#function-defined-inside-function)\n",
    "  - [missing arguements](#missing-arguements)\n",
    "  - [default values](#default-values)\n",
    "  - [scoping](#scoping)\n",
    "  - [recursion](#recursion)\n",
    "  - [Lambda function](#lambda-function)\n",
    "  - [map](#map)\n",
    "- [OOPS](#oops)\n",
    "  - [Edit attributes of an instance](#edit-attributes-of-an-instance)\n",
    "  - [Update Class](#update-class)\n",
    "  - [Inheritence](#inheritence)\n",
    "\n",
    "___"
   ]
  },
  {
   "cell_type": "code",
   "execution_count": 60,
   "id": "e0d10ae7",
   "metadata": {},
   "outputs": [],
   "source": [
    "from IPython.core.interactiveshell import InteractiveShell\n",
    "InteractiveShell.ast_node_interactivity = \"all\""
   ]
  },
  {
   "cell_type": "code",
   "execution_count": 61,
   "id": "d932b5e6",
   "metadata": {},
   "outputs": [
    {
     "data": {
      "text/html": [
       "<div>\n",
       "<style scoped>\n",
       "    .dataframe tbody tr th:only-of-type {\n",
       "        vertical-align: middle;\n",
       "    }\n",
       "\n",
       "    .dataframe tbody tr th {\n",
       "        vertical-align: top;\n",
       "    }\n",
       "\n",
       "    .dataframe thead th {\n",
       "        text-align: right;\n",
       "    }\n",
       "</style>\n",
       "<table border=\"1\" class=\"dataframe\">\n",
       "  <thead>\n",
       "    <tr style=\"text-align: right;\">\n",
       "      <th></th>\n",
       "      <th>A</th>\n",
       "      <th>B</th>\n",
       "      <th>C</th>\n",
       "      <th>D</th>\n",
       "      <th>E</th>\n",
       "    </tr>\n",
       "  </thead>\n",
       "  <tbody>\n",
       "    <tr>\n",
       "      <th>0</th>\n",
       "      <td>7</td>\n",
       "      <td>20</td>\n",
       "      <td>15</td>\n",
       "      <td>11</td>\n",
       "      <td>8</td>\n",
       "    </tr>\n",
       "    <tr>\n",
       "      <th>1</th>\n",
       "      <td>7</td>\n",
       "      <td>19</td>\n",
       "      <td>11</td>\n",
       "      <td>11</td>\n",
       "      <td>4</td>\n",
       "    </tr>\n",
       "    <tr>\n",
       "      <th>2</th>\n",
       "      <td>8</td>\n",
       "      <td>3</td>\n",
       "      <td>2</td>\n",
       "      <td>12</td>\n",
       "      <td>6</td>\n",
       "    </tr>\n",
       "    <tr>\n",
       "      <th>3</th>\n",
       "      <td>2</td>\n",
       "      <td>1</td>\n",
       "      <td>12</td>\n",
       "      <td>12</td>\n",
       "      <td>17</td>\n",
       "    </tr>\n",
       "    <tr>\n",
       "      <th>4</th>\n",
       "      <td>10</td>\n",
       "      <td>16</td>\n",
       "      <td>15</td>\n",
       "      <td>15</td>\n",
       "      <td>19</td>\n",
       "    </tr>\n",
       "  </tbody>\n",
       "</table>\n",
       "</div>"
      ],
      "text/plain": [
       "    A   B   C   D   E\n",
       "0   7  20  15  11   8\n",
       "1   7  19  11  11   4\n",
       "2   8   3   2  12   6\n",
       "3   2   1  12  12  17\n",
       "4  10  16  15  15  19"
      ]
     },
     "execution_count": 61,
     "metadata": {},
     "output_type": "execute_result"
    }
   ],
   "source": [
    "import pandas as pd\n",
    "import numpy as np\n",
    "\n",
    "# IPython configuration for enhanced interactivity\n",
    "from IPython.core.interactiveshell import InteractiveShell\n",
    "InteractiveShell.ast_node_interactivity = \"all\"\n",
    "\n",
    "# Set a seed for reproducibility\n",
    "np.random.seed(42)\n",
    "\n",
    "# Create a DataFrame with 5 rows and 5 columns of random integers from 1 to 20\n",
    "df = pd.DataFrame(np.random.randint(1, 21, size=(5, 5)),\n",
    "                  columns=['A', 'B', 'C', 'D', 'E'])\n",
    "df"
   ]
  },
  {
   "cell_type": "markdown",
   "id": "8abe7083",
   "metadata": {},
   "source": [
    "<a id=\"functions\"></a>\n",
    "# 🛠️ Functions\n"
   ]
  },
  {
   "cell_type": "markdown",
   "id": "d0335d0f",
   "metadata": {
    "vscode": {
     "languageId": "plaintext"
    }
   },
   "source": [
    "<a id=\"functions-assignments\"></a>\n",
    "#### ✍️ Functions Assignments"
   ]
  },
  {
   "cell_type": "code",
   "execution_count": 62,
   "id": "a943cf15",
   "metadata": {},
   "outputs": [
    {
     "data": {
      "text/plain": [
       "[31, 37, 41, 43, 47, 53, 59, 61, 67, 71, 73, 79, 83, 89, 97]"
      ]
     },
     "execution_count": 62,
     "metadata": {},
     "output_type": "execute_result"
    }
   ],
   "source": [
    "# - Write a code to print all prime numbers from 30 to 100. Do not use a loop\n",
    "[x for x in range(30,100) if all([x%i!=0 for i in range(2,x-1)])]\n",
    "\n",
    "# recursive function to print a list in reverse\n",
    "# l = list(range(11,16))\n",
    "# def print_rev(x):\n",
    "#     print(\"x is \", x)\n",
    "    \n",
    "#     if(not isinstance(x, list)): #  and len(x)==1\n",
    "#         print(x)\n",
    "#     else:\n",
    "#         print(x[0])\n",
    "#         print_rev(x[1:len(x)])\n",
    "# print_rev(l)"
   ]
  },
  {
   "cell_type": "code",
   "execution_count": 63,
   "id": "5d152902",
   "metadata": {},
   "outputs": [
    {
     "name": "stdout",
     "output_type": "stream",
     "text": [
      "15\n",
      "14\n",
      "13\n",
      "12\n",
      "11\n"
     ]
    }
   ],
   "source": [
    "l = list(range(11,16))\n",
    "def print_rev(x, idx):\n",
    "    if idx < len(x):\n",
    "        print_rev(x, idx + 1)\n",
    "        print(x[idx])\n",
    "print_rev(l, 0)"
   ]
  },
  {
   "cell_type": "code",
   "execution_count": 64,
   "id": "589e4f9b",
   "metadata": {},
   "outputs": [
    {
     "data": {
      "text/plain": [
       "25    7\n",
       "Name: count_nine, dtype: int64"
      ]
     },
     "execution_count": 64,
     "metadata": {},
     "output_type": "execute_result"
    },
    {
     "data": {
      "text/plain": [
       "94    15\n",
       "Name: count_negative, dtype: int64"
      ]
     },
     "execution_count": 64,
     "metadata": {},
     "output_type": "execute_result"
    }
   ],
   "source": [
    "# which rows has maximum number of 9s\n",
    "import numpy as np\n",
    "import pandas as pd\n",
    "\n",
    "l = np.random.choice(range(0,10),100*20)\n",
    "df_modified = pd.DataFrame(l.reshape(100,20))\n",
    "df_modified[\"count_nine\"] = df_modified.apply(lambda x: sum(x==9), axis = 1)\n",
    "df_modified[\"count_nine\"].sort_values(ascending=False).head(1)\n",
    "\n",
    "# Find number of negative entries in each row of matrix\n",
    "l = np.random.choice(range(-5,5+1),100*20)\n",
    "df_modified = pd.DataFrame(l.reshape(100,20))\n",
    "df_modified[\"count_negative\"] = df_modified.apply(lambda x: sum(x<0), axis = 1)\n",
    "df_modified[\"count_negative\"].sort_values(ascending=False).head(1)\n"
   ]
  },
  {
   "cell_type": "code",
   "execution_count": 65,
   "id": "2b430a9b",
   "metadata": {},
   "outputs": [
    {
     "data": {
      "text/plain": [
       "3.141592653589793"
      ]
     },
     "execution_count": 65,
     "metadata": {},
     "output_type": "execute_result"
    }
   ],
   "source": [
    "import math\n",
    "math.pi\n",
    "\n",
    "# math.pi() # fails"
   ]
  },
  {
   "cell_type": "markdown",
   "id": "1724fc84",
   "metadata": {},
   "source": [
    "#### Return "
   ]
  },
  {
   "cell_type": "code",
   "execution_count": 66,
   "id": "dbe0fdae",
   "metadata": {},
   "outputs": [
    {
     "name": "stdout",
     "output_type": "stream",
     "text": [
      "10\n",
      "20\n",
      "None\n"
     ]
    }
   ],
   "source": [
    "# returns None when no value is specified\n",
    "def my_fun(a,b):\n",
    "    print(a)\n",
    "    print(b)    \n",
    "aa = my_fun(10, 20)\n",
    "print(aa) # returns None"
   ]
  },
  {
   "cell_type": "code",
   "execution_count": 67,
   "id": "5de09e64",
   "metadata": {},
   "outputs": [
    {
     "name": "stdout",
     "output_type": "stream",
     "text": [
      "10\n",
      "20\n",
      "10\n",
      "20\n",
      "None\n"
     ]
    }
   ],
   "source": [
    "def my_fun(a,b):\n",
    "    print(a)\n",
    "    print(b)    \n",
    "    return\n",
    "my_fun(10, 20)\n",
    "aa = my_fun(10, 20)\n",
    "print(aa) # returns None"
   ]
  },
  {
   "cell_type": "code",
   "execution_count": 68,
   "id": "e5255dbf",
   "metadata": {},
   "outputs": [
    {
     "name": "stdout",
     "output_type": "stream",
     "text": [
      "10\n"
     ]
    },
    {
     "data": {
      "text/plain": [
       "10000"
      ]
     },
     "execution_count": 68,
     "metadata": {},
     "output_type": "execute_result"
    }
   ],
   "source": [
    "# function ends when return is encountered\n",
    "def my_fun(a,b):\n",
    "    print(a)\n",
    "    return 10000\n",
    "    print(b)    \n",
    "my_fun(10, 20)"
   ]
  },
  {
   "cell_type": "code",
   "execution_count": 69,
   "id": "d0e2827b",
   "metadata": {},
   "outputs": [
    {
     "name": "stdout",
     "output_type": "stream",
     "text": [
      "10\n",
      "20\n"
     ]
    },
    {
     "data": {
      "text/plain": [
       "(10000, 20000, 30000)"
      ]
     },
     "execution_count": 69,
     "metadata": {},
     "output_type": "execute_result"
    }
   ],
   "source": [
    "# return multiple values\n",
    "def my_fun(a,b):\n",
    "    print(a)\n",
    "    print(b)    \n",
    "    return 10000, 20000, 30000 # returns a tuple\n",
    "my_fun(10, 20)"
   ]
  },
  {
   "cell_type": "code",
   "execution_count": 70,
   "id": "968530c7",
   "metadata": {},
   "outputs": [
    {
     "name": "stdout",
     "output_type": "stream",
     "text": [
      "10\n",
      "20\n"
     ]
    },
    {
     "data": {
      "text/plain": [
       "[10000, 20000, 30000]"
      ]
     },
     "execution_count": 70,
     "metadata": {},
     "output_type": "execute_result"
    }
   ],
   "source": [
    "def my_fun(a,b):\n",
    "    print(a)\n",
    "    print(b)    \n",
    "    return [10000, 20000, 30000]\n",
    "my_fun(10, 20)"
   ]
  },
  {
   "cell_type": "markdown",
   "id": "4822b199",
   "metadata": {},
   "source": [
    "#### Argument matching "
   ]
  },
  {
   "cell_type": "code",
   "execution_count": 71,
   "id": "47ba927a",
   "metadata": {},
   "outputs": [
    {
     "data": {
      "text/plain": [
       "(3+5j)"
      ]
     },
     "execution_count": 71,
     "metadata": {},
     "output_type": "execute_result"
    },
    {
     "data": {
      "text/plain": [
       "(3+5j)"
      ]
     },
     "execution_count": 71,
     "metadata": {},
     "output_type": "execute_result"
    },
    {
     "data": {
      "text/plain": [
       "(5+3j)"
      ]
     },
     "execution_count": 71,
     "metadata": {},
     "output_type": "execute_result"
    },
    {
     "data": {
      "text/plain": [
       "(3+5j)"
      ]
     },
     "execution_count": 71,
     "metadata": {},
     "output_type": "execute_result"
    }
   ],
   "source": [
    "complex(3,5)\n",
    "complex(real=3, imag=5)\n",
    "complex(imag=3, real=5)\n",
    "\n",
    "# complex(real = 3, 5) # error: positional argument follows keyword argument\n",
    "complex(3, imag=5) # allowed\n",
    "# complex(3, real=5) # error: 2 arguements passed for real parameter\n",
    "\n",
    "# complex(imag = 3, 5) #error: positional argument follows keyword argument\n",
    "# Rule: positional first, keyword next\n",
    "\n",
    "# complex(real= 3, real= 5) # error, obviously"
   ]
  },
  {
   "cell_type": "markdown",
   "id": "542baf62",
   "metadata": {},
   "source": [
    "#### Function calling another "
   ]
  },
  {
   "cell_type": "code",
   "execution_count": 72,
   "id": "738e5385",
   "metadata": {},
   "outputs": [
    {
     "name": "stdout",
     "output_type": "stream",
     "text": [
      "Im in Mumbai\n",
      "Im in Bangalore\n",
      "Im in Delhi\n"
     ]
    }
   ],
   "source": [
    "def fn_mumbai():\n",
    "    print(\"Im in Mumbai\")\n",
    "    fn_bangalore()\n",
    "    \n",
    "def fn_bangalore():\n",
    "    print(\"Im in Bangalore\")\n",
    "    fn_delhi()\n",
    "\n",
    "def fn_delhi():\n",
    "    print(\"Im in Delhi\")\n",
    "    \n",
    "fn_mumbai()\n",
    "\n",
    "del fn_mumbai, fn_bangalore, fn_delhi"
   ]
  },
  {
   "cell_type": "markdown",
   "id": "aade2a8e",
   "metadata": {},
   "source": [
    "- Recursion"
   ]
  },
  {
   "cell_type": "code",
   "execution_count": 73,
   "id": "676b2af6",
   "metadata": {},
   "outputs": [
    {
     "name": "stdout",
     "output_type": "stream",
     "text": [
      "0 1\n",
      "1 1\n",
      "2 2\n",
      "3 6\n",
      "4 24\n"
     ]
    }
   ],
   "source": [
    "def factorial(n):\n",
    "    if n==1 or n==0:\n",
    "        return 1\n",
    "    else:\n",
    "        return n*factorial(n-1)\n",
    "for i in range(5):\n",
    "    print(i, factorial(i))"
   ]
  },
  {
   "cell_type": "code",
   "execution_count": 74,
   "id": "4e0f0071",
   "metadata": {},
   "outputs": [
    {
     "name": "stdout",
     "output_type": "stream",
     "text": [
      "0 1\n",
      "1 1\n",
      "2 2\n",
      "3 3\n",
      "4 5\n"
     ]
    }
   ],
   "source": [
    "def fibonacci(n):    \n",
    "    assert isinstance(n, int)\n",
    "    assert n>=0    \n",
    "    if n==0 or n==1:\n",
    "        return 1\n",
    "    else:\n",
    "        return fibonacci(n-1) + fibonacci(n-2)\n",
    "\n",
    "for i in range(5):\n",
    "    print(i, fibonacci(i))"
   ]
  },
  {
   "cell_type": "markdown",
   "id": "4f6506e8",
   "metadata": {},
   "source": [
    "#### Function defined inside function "
   ]
  },
  {
   "cell_type": "code",
   "execution_count": 75,
   "id": "9199d676",
   "metadata": {},
   "outputs": [],
   "source": [
    "if False:\n",
    "    def fn_mumbai():\n",
    "        def fn_bangalore():\n",
    "            print(\"Im in Bangalore\")\n",
    "        \n",
    "        print(\"Im in Mumbai\")\n",
    "        fn_bangalore()\n",
    "\n",
    "    fn_mumbai()\n",
    "    fn_bangalore() # not available outside fn_mumbai()"
   ]
  },
  {
   "cell_type": "code",
   "execution_count": 76,
   "id": "bd2a6776",
   "metadata": {},
   "outputs": [
    {
     "data": {
      "text/plain": [
       "20"
      ]
     },
     "execution_count": 76,
     "metadata": {},
     "output_type": "execute_result"
    },
    {
     "data": {
      "text/plain": [
       "30"
      ]
     },
     "execution_count": 76,
     "metadata": {},
     "output_type": "execute_result"
    }
   ],
   "source": [
    "# function can return another function\n",
    "def multiplier(n):    \n",
    "    def temp(x):\n",
    "        return x*n    \n",
    "    return temp\n",
    "\n",
    "multiplier_2 = multiplier(2)\n",
    "multiplier_2(10)\n",
    "multiplier_3 = multiplier(3)\n",
    "multiplier_3(10)\n",
    "\n"
   ]
  },
  {
   "cell_type": "markdown",
   "id": "4ac10289",
   "metadata": {},
   "source": [
    "#### Arguement Matching  "
   ]
  },
  {
   "cell_type": "code",
   "execution_count": 77,
   "id": "542db87a",
   "metadata": {},
   "outputs": [
    {
     "name": "stdout",
     "output_type": "stream",
     "text": [
      "10\n"
     ]
    }
   ],
   "source": [
    "def my_fun(x, y):\n",
    "    print(x)\n",
    "    \n",
    "my_fun(10, 20) # works\n",
    "if False:\n",
    "    my_fun(10) # fails"
   ]
  },
  {
   "cell_type": "markdown",
   "id": "651c4774",
   "metadata": {},
   "source": [
    "#### Argument - Default Values  "
   ]
  },
  {
   "cell_type": "code",
   "execution_count": 78,
   "id": "8832e70c",
   "metadata": {},
   "outputs": [
    {
     "name": "stdout",
     "output_type": "stream",
     "text": [
      "10\n",
      "20\n",
      "10\n",
      "1000\n"
     ]
    }
   ],
   "source": [
    "def my_fun(x, y= 1000):\n",
    "    print(x)\n",
    "    print(y)\n",
    "    \n",
    "my_fun(10, 20) # works\n",
    "my_fun(10) # works too, uses default"
   ]
  },
  {
   "cell_type": "markdown",
   "id": "26cb41be",
   "metadata": {},
   "source": [
    "#### Lexical Scoping  "
   ]
  },
  {
   "cell_type": "code",
   "execution_count": 79,
   "id": "436bb7d2",
   "metadata": {},
   "outputs": [
    {
     "data": {
      "text/plain": [
       "['In',\n",
       " 'InteractiveShell',\n",
       " 'Out',\n",
       " 'a',\n",
       " 'aa',\n",
       " 'b',\n",
       " 'df',\n",
       " 'df_modified',\n",
       " 'e1',\n",
       " 'e2',\n",
       " 'emp_1',\n",
       " 'emp_2',\n",
       " 'employee',\n",
       " 'exit',\n",
       " 'f1',\n",
       " 'factorial',\n",
       " 'fibonacci',\n",
       " 'get_ipython',\n",
       " 'i',\n",
       " 'l',\n",
       " 'math',\n",
       " 'multiplier',\n",
       " 'multiplier_2',\n",
       " 'multiplier_3',\n",
       " 'my_fun',\n",
       " 'np',\n",
       " 'open',\n",
       " 'pd',\n",
       " 'print_rev',\n",
       " 'quit',\n",
       " 'x']"
      ]
     },
     "execution_count": 79,
     "metadata": {},
     "output_type": "execute_result"
    },
    {
     "name": "stdout",
     "output_type": "stream",
     "text": [
      "10\n",
      "20\n",
      "['a', 'b']\n",
      "100\n",
      "200\n",
      "10\n",
      "20\n"
     ]
    }
   ],
   "source": [
    "# block 1\n",
    "def f1(a,b):\n",
    "    print(dir())\n",
    "    print(a)\n",
    "    print(b)\n",
    "\n",
    "a = 10\n",
    "b = 20\n",
    "[x for x in dir() if not x.startswith(\"_\")]\n",
    "\n",
    "print(a)\n",
    "print(b)\n",
    "f1(a=100, b=200)\n",
    "\n",
    "print(a)\n",
    "print(b)\n",
    "\n"
   ]
  },
  {
   "cell_type": "code",
   "execution_count": 80,
   "id": "36e9999a",
   "metadata": {},
   "outputs": [
    {
     "name": "stdout",
     "output_type": "stream",
     "text": [
      "['a', 'b']\n",
      "10\n",
      "20\n",
      "999\n",
      "100\n"
     ]
    }
   ],
   "source": [
    "# block 2 - local variable, local values\n",
    "def f1(a,b):\n",
    "    print(dir())\n",
    "    print(a)\n",
    "    print(b)\n",
    "    x = 999\n",
    "    print(x)\n",
    "\n",
    "x = 100\n",
    "f1(a = 10, b=20)\n",
    "print(x)\n",
    "\n"
   ]
  },
  {
   "cell_type": "code",
   "execution_count": 81,
   "id": "cc4734f6",
   "metadata": {},
   "outputs": [
    {
     "name": "stdout",
     "output_type": "stream",
     "text": [
      "['a', 'b']\n",
      "10\n",
      "20\n",
      "100\n",
      "100\n"
     ]
    }
   ],
   "source": [
    "# block 3 - if a variable is absent in function, look one level above\n",
    "def f1(a,b):\n",
    "    print(dir())\n",
    "    print(a)\n",
    "    print(b)\n",
    "    print(x)\n",
    "\n",
    "x = 100\n",
    "f1(a = 10, b=20)\n",
    "print(x)"
   ]
  },
  {
   "cell_type": "markdown",
   "id": "35f7519c",
   "metadata": {},
   "source": [
    "[Back to the top](#table-of-contents)\n",
    "___"
   ]
  },
  {
   "cell_type": "markdown",
   "id": "1ef01a84",
   "metadata": {},
   "source": [
    "# Special Functions "
   ]
  },
  {
   "cell_type": "markdown",
   "id": "0ba0ae96",
   "metadata": {},
   "source": [
    "#### `apply()` \n",
    "- Used to apply a function along the axis of the DataFrame (rows or columns).\n",
    "- Ideal for column or row operation"
   ]
  },
  {
   "cell_type": "code",
   "execution_count": 82,
   "id": "6204b32f",
   "metadata": {},
   "outputs": [
    {
     "data": {
      "text/plain": [
       "A    34\n",
       "B    59\n",
       "C    55\n",
       "D    61\n",
       "E    54\n",
       "dtype: int64"
      ]
     },
     "execution_count": 82,
     "metadata": {},
     "output_type": "execute_result"
    },
    {
     "data": {
      "text/plain": [
       "0    61\n",
       "1    52\n",
       "2    31\n",
       "3    44\n",
       "4    75\n",
       "dtype: int64"
      ]
     },
     "execution_count": 82,
     "metadata": {},
     "output_type": "execute_result"
    }
   ],
   "source": [
    "# function by column\n",
    "df.apply(np.sum, axis=0) # axis = 0 is the default\n",
    "\n",
    "# function by row\n",
    "df.apply(np.sum, axis=1) # axis = 0 is the default"
   ]
  },
  {
   "cell_type": "markdown",
   "id": "9f620e90",
   "metadata": {},
   "source": [
    "#### `map()` \n",
    "- Used with Series to substitute each value in a Series with another value. \n",
    "- Ideal for element operations"
   ]
  },
  {
   "cell_type": "code",
   "execution_count": 83,
   "id": "87fe3be0",
   "metadata": {},
   "outputs": [
    {
     "data": {
      "text/html": [
       "<div>\n",
       "<style scoped>\n",
       "    .dataframe tbody tr th:only-of-type {\n",
       "        vertical-align: middle;\n",
       "    }\n",
       "\n",
       "    .dataframe tbody tr th {\n",
       "        vertical-align: top;\n",
       "    }\n",
       "\n",
       "    .dataframe thead th {\n",
       "        text-align: right;\n",
       "    }\n",
       "</style>\n",
       "<table border=\"1\" class=\"dataframe\">\n",
       "  <thead>\n",
       "    <tr style=\"text-align: right;\">\n",
       "      <th></th>\n",
       "      <th>A</th>\n",
       "      <th>B</th>\n",
       "      <th>C</th>\n",
       "      <th>D</th>\n",
       "      <th>E</th>\n",
       "    </tr>\n",
       "  </thead>\n",
       "  <tbody>\n",
       "    <tr>\n",
       "      <th>0</th>\n",
       "      <td>7</td>\n",
       "      <td>20</td>\n",
       "      <td>15</td>\n",
       "      <td>11</td>\n",
       "      <td>8</td>\n",
       "    </tr>\n",
       "    <tr>\n",
       "      <th>1</th>\n",
       "      <td>7</td>\n",
       "      <td>19</td>\n",
       "      <td>11</td>\n",
       "      <td>11</td>\n",
       "      <td>4</td>\n",
       "    </tr>\n",
       "    <tr>\n",
       "      <th>2</th>\n",
       "      <td>8</td>\n",
       "      <td>3</td>\n",
       "      <td>2</td>\n",
       "      <td>12</td>\n",
       "      <td>6</td>\n",
       "    </tr>\n",
       "    <tr>\n",
       "      <th>3</th>\n",
       "      <td>2</td>\n",
       "      <td>1</td>\n",
       "      <td>12</td>\n",
       "      <td>12</td>\n",
       "      <td>17</td>\n",
       "    </tr>\n",
       "    <tr>\n",
       "      <th>4</th>\n",
       "      <td>10</td>\n",
       "      <td>16</td>\n",
       "      <td>15</td>\n",
       "      <td>15</td>\n",
       "      <td>19</td>\n",
       "    </tr>\n",
       "  </tbody>\n",
       "</table>\n",
       "</div>"
      ],
      "text/plain": [
       "    A   B   C   D   E\n",
       "0   7  20  15  11   8\n",
       "1   7  19  11  11   4\n",
       "2   8   3   2  12   6\n",
       "3   2   1  12  12  17\n",
       "4  10  16  15  15  19"
      ]
     },
     "execution_count": 83,
     "metadata": {},
     "output_type": "execute_result"
    }
   ],
   "source": [
    "df"
   ]
  },
  {
   "cell_type": "code",
   "execution_count": 84,
   "id": "a7b81154",
   "metadata": {},
   "outputs": [
    {
     "data": {
      "text/plain": [
       "0    1007\n",
       "1    1007\n",
       "2    1008\n",
       "3    1002\n",
       "4    1010\n",
       "Name: A, dtype: int64"
      ]
     },
     "execution_count": 84,
     "metadata": {},
     "output_type": "execute_result"
    }
   ],
   "source": [
    "# error, works only on series\n",
    "# df.map(lambda x: x + 1000)\n",
    "\n",
    "df['A'].map(lambda x: x + 1000)\n",
    "# df[0].map(lambda x: x + 1000) # error"
   ]
  },
  {
   "cell_type": "markdown",
   "id": "c8f0b0f7",
   "metadata": {},
   "source": [
    "#### `applymap()`\n",
    "\n",
    "- Used to apply a function to each element of the DataFrame."
   ]
  },
  {
   "cell_type": "code",
   "execution_count": 85,
   "id": "6a8f89fc",
   "metadata": {},
   "outputs": [
    {
     "data": {
      "text/html": [
       "<div>\n",
       "<style scoped>\n",
       "    .dataframe tbody tr th:only-of-type {\n",
       "        vertical-align: middle;\n",
       "    }\n",
       "\n",
       "    .dataframe tbody tr th {\n",
       "        vertical-align: top;\n",
       "    }\n",
       "\n",
       "    .dataframe thead th {\n",
       "        text-align: right;\n",
       "    }\n",
       "</style>\n",
       "<table border=\"1\" class=\"dataframe\">\n",
       "  <thead>\n",
       "    <tr style=\"text-align: right;\">\n",
       "      <th></th>\n",
       "      <th>A</th>\n",
       "      <th>B</th>\n",
       "      <th>C</th>\n",
       "      <th>D</th>\n",
       "      <th>E</th>\n",
       "    </tr>\n",
       "  </thead>\n",
       "  <tbody>\n",
       "    <tr>\n",
       "      <th>0</th>\n",
       "      <td>1007</td>\n",
       "      <td>1020</td>\n",
       "      <td>1015</td>\n",
       "      <td>1011</td>\n",
       "      <td>1008</td>\n",
       "    </tr>\n",
       "    <tr>\n",
       "      <th>1</th>\n",
       "      <td>1007</td>\n",
       "      <td>1019</td>\n",
       "      <td>1011</td>\n",
       "      <td>1011</td>\n",
       "      <td>1004</td>\n",
       "    </tr>\n",
       "    <tr>\n",
       "      <th>2</th>\n",
       "      <td>1008</td>\n",
       "      <td>1003</td>\n",
       "      <td>1002</td>\n",
       "      <td>1012</td>\n",
       "      <td>1006</td>\n",
       "    </tr>\n",
       "    <tr>\n",
       "      <th>3</th>\n",
       "      <td>1002</td>\n",
       "      <td>1001</td>\n",
       "      <td>1012</td>\n",
       "      <td>1012</td>\n",
       "      <td>1017</td>\n",
       "    </tr>\n",
       "    <tr>\n",
       "      <th>4</th>\n",
       "      <td>1010</td>\n",
       "      <td>1016</td>\n",
       "      <td>1015</td>\n",
       "      <td>1015</td>\n",
       "      <td>1019</td>\n",
       "    </tr>\n",
       "  </tbody>\n",
       "</table>\n",
       "</div>"
      ],
      "text/plain": [
       "      A     B     C     D     E\n",
       "0  1007  1020  1015  1011  1008\n",
       "1  1007  1019  1011  1011  1004\n",
       "2  1008  1003  1002  1012  1006\n",
       "3  1002  1001  1012  1012  1017\n",
       "4  1010  1016  1015  1015  1019"
      ]
     },
     "execution_count": 85,
     "metadata": {},
     "output_type": "execute_result"
    }
   ],
   "source": [
    "df.applymap(lambda x: x + 1000)"
   ]
  },
  {
   "cell_type": "code",
   "execution_count": 86,
   "id": "a6d8036c",
   "metadata": {},
   "outputs": [
    {
     "data": {
      "text/plain": [
       "0    27\n",
       "1    26\n",
       "2    11\n",
       "3     3\n",
       "4    26\n",
       "dtype: int64"
      ]
     },
     "execution_count": 86,
     "metadata": {},
     "output_type": "execute_result"
    }
   ],
   "source": [
    "# df.apply(lambda row: row, axis = 0)\n",
    "# df.apply(lambda row: row, axis = 1)\n",
    "\n",
    "df.apply(lambda row: row['A'] + row['B'], axis = 1)"
   ]
  },
  {
   "cell_type": "markdown",
   "id": "01fba7bd",
   "metadata": {},
   "source": [
    "#### `Lambda` function \n"
   ]
  },
  {
   "cell_type": "code",
   "execution_count": 87,
   "id": "b6892d56",
   "metadata": {},
   "outputs": [
    {
     "data": {
      "text/plain": [
       "15"
      ]
     },
     "execution_count": 87,
     "metadata": {},
     "output_type": "execute_result"
    }
   ],
   "source": [
    "my_fun = lambda a : a + 10\n",
    "my_fun(5)"
   ]
  },
  {
   "cell_type": "markdown",
   "id": "f33b684d",
   "metadata": {},
   "source": [
    "#### `Map`"
   ]
  },
  {
   "cell_type": "code",
   "execution_count": 88,
   "id": "31a86274",
   "metadata": {},
   "outputs": [
    {
     "data": {
      "text/plain": [
       "[11, 12, 13, 14, 15]"
      ]
     },
     "execution_count": 88,
     "metadata": {},
     "output_type": "execute_result"
    },
    {
     "data": {
      "text/plain": [
       "[11, 12, 13, 14, 15]"
      ]
     },
     "execution_count": 88,
     "metadata": {},
     "output_type": "execute_result"
    }
   ],
   "source": [
    "list(map(lambda a : a + 10, [1,2,3,4,5]))\n",
    "\n",
    "my_fun = lambda a : a + 10\n",
    "list(map(my_fun , [1,2,3,4,5]))"
   ]
  },
  {
   "cell_type": "markdown",
   "id": "d5e1a4bf",
   "metadata": {},
   "source": [
    "[Back to the top](#table-of-contents)\n",
    "___"
   ]
  },
  {
   "cell_type": "markdown",
   "id": "5d00e534",
   "metadata": {
    "vscode": {
     "languageId": "plaintext"
    }
   },
   "source": [
    "# OOPS"
   ]
  },
  {
   "cell_type": "markdown",
   "id": "1806158c",
   "metadata": {},
   "source": [
    "#### Define Class"
   ]
  },
  {
   "cell_type": "code",
   "execution_count": null,
   "id": "c40d52fd",
   "metadata": {},
   "outputs": [],
   "source": [
    "class employee:\n",
    "    pass\n",
    "\n",
    "emp_1 = employee()\n",
    "emp_2 = employee()\n",
    "    \n",
    "\n",
    "print(emp_1)\n",
    "emp_1.name = \"ash red\"\n",
    "emp_1.email= \"ashred@gmail.com\"\n",
    "print(emp_1)\n",
    "print(emp_1.name)\n",
    "print(emp_1.email)\n"
   ]
  },
  {
   "cell_type": "markdown",
   "id": "b8d20950",
   "metadata": {},
   "source": [
    "#### Edit attributes of an instance "
   ]
  },
  {
   "cell_type": "code",
   "execution_count": null,
   "id": "50fa8836",
   "metadata": {},
   "outputs": [],
   "source": [
    "class employee:\n",
    "    def __init__(self, name, pay): \n",
    "        self.name = name\n",
    "        self.pay = pay        \n",
    "        self.email = name + \"@gmail.com\"\n",
    "        \n",
    "    def print_name(self): # this is a method\n",
    "        print(self.name)        \n",
    "        \n",
    "    def apply_new_year_bonus(self, bonus = 10):\n",
    "        self.pay = self.pay + bonus\n",
    "            \n",
    "e1 = employee(\"him misra\", 100) # e1 will be passed as self\n",
    "e1\n",
    "e1.name\n",
    "e1.email # not brackets as email is an attribute of the class\n",
    "e1.print_name() # need brackets since, print_name is a method\n",
    "employee.print_name(e1) # works too. class_name.method_name(object_instance)\n",
    "# e1.print_name_junk() # error since self if ommitted\n"
   ]
  },
  {
   "cell_type": "code",
   "execution_count": null,
   "id": "98624246",
   "metadata": {},
   "outputs": [],
   "source": [
    "e1.pay\n",
    "e1.apply_new_year_bonus(bonus = 2)\n",
    "e1.pay\n",
    "\n",
    "e1.pay\n",
    "employee.apply_new_year_bonus(e1, bonus = 2)\n",
    "e1.pay\n"
   ]
  },
  {
   "cell_type": "markdown",
   "id": "9fb9ce34",
   "metadata": {},
   "source": [
    "#### Class attributes  "
   ]
  },
  {
   "cell_type": "code",
   "execution_count": null,
   "id": "6e47781c",
   "metadata": {},
   "outputs": [],
   "source": [
    "class employee:    \n",
    "    new_year_bonus = 10\n",
    "    \n",
    "    def __init__(self, name, pay): \n",
    "        self.name = name\n",
    "        self.pay = pay        \n",
    "        self.email = name + \"@gmail.com\"\n",
    "        \n",
    "    def print_name(self): # this is a method\n",
    "        print(self.name)        \n",
    "        \n",
    "    def apply_new_year_bonus(self):\n",
    "        # self.pay = self.pay + new_year_bonus # error\n",
    "        # self.pay = self.pay + employee.new_year_bonus # works\n",
    "        self.pay = self.pay + self.new_year_bonus # works\n",
    "                \n",
    "e1 = employee(\"abd def\", 100) # e1 will be passed as self\n",
    "# getattr(e1) # fails\n",
    "e1.__dict__\n",
    "employee.__dict__\n",
    "\n",
    "employee.new_year_bonus\n",
    "e1.new_year_bonus\n",
    "\n",
    "e1.pay\n",
    "e1.apply_new_year_bonus() # bonus = 2\n",
    "e1.pay\n",
    "\n",
    "e1.whatever_attr = 999\n",
    "e1.whatever_attr\n",
    "e1.__dict__\n",
    "\n",
    "e1.new_year_bonus = 999\n",
    "e1.__dict__\n",
    "\n",
    "\n",
    "e2 = employee(\"ash red\", 766)\n",
    "e2.whatever_attr\n",
    "e2.__dict__\n",
    "e2.new_year_bonus = 999\n",
    "e1.__dict__"
   ]
  },
  {
   "cell_type": "markdown",
   "id": "72484b89",
   "metadata": {},
   "source": [
    "#### Update Class"
   ]
  },
  {
   "cell_type": "code",
   "execution_count": null,
   "id": "2eecce65",
   "metadata": {},
   "outputs": [],
   "source": [
    "class employee:    \n",
    "    employee_count = 0\n",
    "    new_year_bonus = 10\n",
    "    \n",
    "    def __init__(self, name, pay): \n",
    "        self.name = name\n",
    "        self.pay = pay        \n",
    "        self.email = name + \"@gmail.com\"\n",
    "        employee.employee_count = employee.employee_count + 1\n",
    "        \n",
    "    @classmethod\n",
    "    def from_string(cls, data_string):\n",
    "        name, pay = data_string.split(\"-\")\n",
    "        return cls(name, int(pay))\n",
    "        \n",
    "    def print_name(self): # this is a method\n",
    "        print(self.name)        \n",
    "        \n",
    "    def apply_new_year_bonus(self):\n",
    "        # self.pay = self.pay + new_year_bonus # error\n",
    "        # self.pay = self.pay + employee.new_year_bonus # works\n",
    "        self.pay = self.pay + self.new_year_bonus # works\n",
    "    \n",
    "    @classmethod\n",
    "    def set_new_year_bonus(cls, amt):\n",
    "        cls.new_year_bonus = amt\n",
    "        # cls.new_year_bonus = amt + cls.new_year_bonus # works too"
   ]
  },
  {
   "cell_type": "markdown",
   "id": "3191ebc6",
   "metadata": {},
   "source": [
    "#### Update attribute in class\n",
    " and all instances                "
   ]
  },
  {
   "cell_type": "code",
   "execution_count": null,
   "id": "57e6eaa4",
   "metadata": {},
   "outputs": [],
   "source": [
    "employee.employee_count # 0\n",
    "\n",
    "e1 = employee(\"ash red\", 100)\n",
    "employee.employee_count # 1\n",
    "e1.employee_count\n",
    "\n",
    "e2 = employee(\"what ever\", 200)\n",
    "employee.employee_count # 2\n",
    "e2.employee_count # e1 and e2 employee count updates to 2\n",
    "\n"
   ]
  },
  {
   "cell_type": "code",
   "execution_count": null,
   "id": "7b56bf32",
   "metadata": {},
   "outputs": [],
   "source": [
    "# classmethod - update new_year_bonus for class and all instances\n",
    "e1 = employee(\"ash red\", 100)\n",
    "e1.new_year_bonus\n",
    "e2 = employee(\"what ever\", 200)\n",
    "e2.new_year_bonus\n",
    "employee.set_new_year_bonus(44)\n",
    "\n",
    "employee.new_year_bonus\n",
    "e1.new_year_bonus\n",
    "e2.new_year_bonus"
   ]
  },
  {
   "cell_type": "code",
   "execution_count": null,
   "id": "a9523198",
   "metadata": {},
   "outputs": [],
   "source": [
    "# classmethod - generate instances dynamically \n",
    "e3 = employee.from_string(\"ashrith reddy-100\")\n",
    "e3.name\n",
    "e3.pay\n",
    "e3.__dict__\n",
    "e3.new_year_bonus\n",
    "e3.apply_new_year_bonus(); e3.pay"
   ]
  },
  {
   "cell_type": "markdown",
   "id": "d9072f75",
   "metadata": {},
   "source": [
    "#### Inheritence "
   ]
  },
  {
   "cell_type": "code",
   "execution_count": null,
   "id": "4dd31de3",
   "metadata": {},
   "outputs": [],
   "source": [
    "class developer(employee): # Developer inherits from employee\n",
    "    \n",
    "    new_year_bonus = 200\n",
    "    \n",
    "    pass\n",
    "\n",
    "print(help(developer))\n",
    "\n",
    "dev_1 = developer(\"apple\", 400)\n",
    "dev_1.email\n",
    "dev_1.pay\n",
    "\n",
    "dev_1.apply_new_year_bonus()\n",
    "dev_1.pay"
   ]
  },
  {
   "cell_type": "markdown",
   "id": "3aa5db21",
   "metadata": {},
   "source": [
    "[Back to the top](#table-of-contents)\n",
    "___"
   ]
  }
 ],
 "metadata": {
  "kernelspec": {
   "display_name": "base",
   "language": "python",
   "name": "python3"
  },
  "language_info": {
   "codemirror_mode": {
    "name": "ipython",
    "version": 3
   },
   "file_extension": ".py",
   "mimetype": "text/x-python",
   "name": "python",
   "nbconvert_exporter": "python",
   "pygments_lexer": "ipython3",
   "version": "3.11.3"
  }
 },
 "nbformat": 4,
 "nbformat_minor": 5
}
