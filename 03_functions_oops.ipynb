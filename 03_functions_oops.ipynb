{
 "cells": [
  {
   "cell_type": "markdown",
   "id": "5d56c7ac",
   "metadata": {
    "vscode": {
     "languageId": "plaintext"
    }
   },
   "source": [
    "# Apply"
   ]
  },
  {
   "cell_type": "code",
   "execution_count": null,
   "id": "d932b5e6",
   "metadata": {},
   "outputs": [],
   "source": [
    "import pandas as pd\n",
    "import numpy as np\n",
    "\n",
    "# IPython configuration for enhanced interactivity\n",
    "from IPython.core.interactiveshell import InteractiveShell\n",
    "InteractiveShell.ast_node_interactivity = \"all\"\n",
    "\n",
    "# Set a seed for reproducibility\n",
    "np.random.seed(42)\n",
    "\n",
    "# Create a DataFrame with 5 rows and 5 columns of random integers from 1 to 20\n",
    "df = pd.DataFrame(np.random.randint(1, 21, size=(5, 5)),\n",
    "                  columns=['A', 'B', 'C', 'D', 'E'])\n",
    "df"
   ]
  },
  {
   "cell_type": "markdown",
   "id": "7e359f0a",
   "metadata": {
    "vscode": {
     "languageId": "plaintext"
    }
   },
   "source": [
    "`apply()` is used to apply a function along the axis of the DataFrame (rows or columns).\n",
    "- Ideal for column or row operation\n"
   ]
  },
  {
   "cell_type": "code",
   "execution_count": null,
   "id": "49d35f2a",
   "metadata": {},
   "outputs": [],
   "source": [
    "# function by column\n",
    "df.apply(np.sum, axis=0) # axis = 0 is the default\n",
    "\n",
    "# function by row\n",
    "df.apply(np.sum, axis=1) # axis = 0 is the default"
   ]
  },
  {
   "cell_type": "markdown",
   "id": "f1157460",
   "metadata": {
    "vscode": {
     "languageId": "plaintext"
    }
   },
   "source": [
    "The map() function is used with Series to substitute each value in a Series with another value. \n",
    "- Ideal for element operation"
   ]
  },
  {
   "cell_type": "code",
   "execution_count": null,
   "id": "4f7e4827",
   "metadata": {},
   "outputs": [],
   "source": [
    "# error, works only on series\n",
    "# df.map(lambda x: x + 1000)\n",
    "\n",
    "df['A'].map(lambda x: x + 1000)\n",
    "# df[0].map(lambda x: x + 1000) # error"
   ]
  },
  {
   "cell_type": "markdown",
   "id": "0272bde7",
   "metadata": {
    "vscode": {
     "languageId": "plaintext"
    }
   },
   "source": [
    "`applymap()`\n",
    "The applymap() function is used to apply a function to each element of the DataFrame."
   ]
  },
  {
   "cell_type": "code",
   "execution_count": null,
   "id": "62225628",
   "metadata": {},
   "outputs": [],
   "source": [
    "df.applymap(lambda x: x + 1000)"
   ]
  },
  {
   "cell_type": "code",
   "execution_count": null,
   "id": "2dde808c",
   "metadata": {},
   "outputs": [],
   "source": [
    "# df.apply(lambda row: row, axis = 0)\n",
    "# df.apply(lambda row: row, axis = 1)\n",
    "\n",
    "df.apply(lambda row: row['A'] + row['B'], axis = 1)"
   ]
  },
  {
   "cell_type": "markdown",
   "id": "d0335d0f",
   "metadata": {
    "vscode": {
     "languageId": "plaintext"
    }
   },
   "source": [
    "# Functions Assignments"
   ]
  },
  {
   "cell_type": "code",
   "execution_count": null,
   "id": "a943cf15",
   "metadata": {},
   "outputs": [],
   "source": [
    "# - Write a code to print all prime numbers from 30 to 100. Do not use a loop\n",
    "[x for x in range(30,100) if all([x%i!=0 for i in range(2,x-1)])]\n",
    "\n",
    "# recursive function to print a list in reverse\n",
    "# l = list(range(11,16))\n",
    "# def print_rev(x):\n",
    "#     print(\"x is \", x)\n",
    "    \n",
    "#     if(not isinstance(x, list)): #  and len(x)==1\n",
    "#         print(x)\n",
    "#     else:\n",
    "#         print(x[0])\n",
    "#         print_rev(x[1:len(x)])\n",
    "# print_rev(l)"
   ]
  },
  {
   "cell_type": "code",
   "execution_count": null,
   "id": "5d152902",
   "metadata": {},
   "outputs": [],
   "source": [
    "l = list(range(11,16))\n",
    "def print_rev(x, idx):\n",
    "    if idx < len(x):\n",
    "        print_rev(x, idx + 1)\n",
    "        print(x[idx])\n",
    "print_rev(l, 0)"
   ]
  },
  {
   "cell_type": "code",
   "execution_count": null,
   "id": "589e4f9b",
   "metadata": {},
   "outputs": [],
   "source": [
    "# which rows has maximum number of 9s\n",
    "import numpy as np\n",
    "import pandas as pd\n",
    "\n",
    "l = np.random.choice(range(0,10),100*20)\n",
    "df = pd.DataFrame(l.reshape(100,20))\n",
    "df[\"count_nine\"] = df.apply(lambda x: sum(x==9), axis = 1)\n",
    "df[\"count_nine\"].sort_values(ascending=False).head(1)\n",
    "\n",
    "# Find number of negative entries in each row of matrix\n",
    "l = np.random.choice(range(-5,5+1),100*20)\n",
    "df = pd.DataFrame(l.reshape(100,20))\n",
    "df[\"count_negative\"] = df.apply(lambda x: sum(x<0), axis = 1)\n",
    "df[\"count_negative\"].sort_values(ascending=False).head(1)\n"
   ]
  },
  {
   "cell_type": "markdown",
   "id": "95d2db8b",
   "metadata": {
    "vscode": {
     "languageId": "plaintext"
    }
   },
   "source": [
    "# Functions"
   ]
  },
  {
   "cell_type": "code",
   "execution_count": null,
   "id": "2b430a9b",
   "metadata": {},
   "outputs": [],
   "source": [
    "import math\n",
    "math.pi\n",
    "\n",
    "math.pi() # fails"
   ]
  },
  {
   "cell_type": "markdown",
   "id": "1724fc84",
   "metadata": {},
   "source": [
    "#### Return "
   ]
  },
  {
   "cell_type": "code",
   "execution_count": null,
   "id": "dbe0fdae",
   "metadata": {},
   "outputs": [],
   "source": [
    "# returns None when no value is specified\n",
    "def my_fun(a,b):\n",
    "    print(a)\n",
    "    print(b)    \n",
    "aa = my_fun(10, 20)\n",
    "print(aa) # returns None\n",
    "\n",
    "def my_fun(a,b):\n",
    "    print(a)\n",
    "    print(b)    \n",
    "    return\n",
    "my_fun(10, 20)\n",
    "aa = my_fun(10, 20)\n",
    "print(aa) # returns None"
   ]
  },
  {
   "cell_type": "code",
   "execution_count": null,
   "id": "e5255dbf",
   "metadata": {},
   "outputs": [],
   "source": [
    "# function ends when return is encountered\n",
    "def my_fun(a,b):\n",
    "    print(a)\n",
    "    return 10000\n",
    "    print(b)    \n",
    "my_fun(10, 20)"
   ]
  },
  {
   "cell_type": "code",
   "execution_count": null,
   "id": "d0e2827b",
   "metadata": {},
   "outputs": [],
   "source": [
    "# return multiple values\n",
    "def my_fun(a,b):\n",
    "    print(a)\n",
    "    print(b)    \n",
    "    return 10000, 20000, 30000 # returns a tuple\n",
    "my_fun(10, 20)\n",
    "\n",
    "def my_fun(a,b):\n",
    "    print(a)\n",
    "    print(b)    \n",
    "    return [10000, 20000, 30000]\n",
    "my_fun(10, 20)"
   ]
  },
  {
   "cell_type": "markdown",
   "id": "4822b199",
   "metadata": {},
   "source": [
    "#### Arguement matching "
   ]
  },
  {
   "cell_type": "code",
   "execution_count": null,
   "id": "47ba927a",
   "metadata": {},
   "outputs": [],
   "source": [
    "complex(3,5)\n",
    "complex(real=3, imag=5)\n",
    "complex(imag=3, real=5)\n",
    "\n",
    "complex(real = 3, 5) # error: positional argument follows keyword argument\n",
    "complex(3, imag=5) # allowed\n",
    "complex(3, real=5) # error: 2 arguements passed for real parameter\n",
    "\n",
    "complex(imag = 3, 5) #error: positional argument follows keyword argument\n",
    "# Rule: positional first, keyword next\n",
    "\n",
    "complex(real= 3, real= 5) # error, obviously"
   ]
  },
  {
   "cell_type": "markdown",
   "id": "542baf62",
   "metadata": {},
   "source": [
    "#### Function calling another "
   ]
  },
  {
   "cell_type": "code",
   "execution_count": null,
   "id": "738e5385",
   "metadata": {},
   "outputs": [],
   "source": [
    "def fn_mumbai():\n",
    "    print(\"Im in Mumbai\")\n",
    "    fn_bangalore()\n",
    "    \n",
    "def fn_bangalore():\n",
    "    print(\"Im in Bangalore\")\n",
    "    fn_delhi()\n",
    "\n",
    "def fn_delhi():\n",
    "    print(\"Im in Delhi\")\n",
    "    \n",
    "fn_mumbai()"
   ]
  },
  {
   "cell_type": "markdown",
   "id": "4f6506e8",
   "metadata": {},
   "source": [
    "#### Function defined inside function "
   ]
  },
  {
   "cell_type": "code",
   "execution_count": null,
   "id": "9199d676",
   "metadata": {},
   "outputs": [],
   "source": [
    "del fn_mumbai, fn_bangalore, fn_delhi\n",
    "\n",
    "def fn_mumbai():\n",
    "    def fn_bangalore():\n",
    "        print(\"Im in Bangalore\")\n",
    "    \n",
    "    print(\"Im in Mumbai\")\n",
    "    fn_bangalore()\n",
    "\n",
    "fn_mumbai()\n",
    "fn_bangalore() # not available outside fn_mumbai()\n",
    "\n",
    "# function can return another function\n",
    "def multiplier(n):    \n",
    "    def temp(x):\n",
    "        return x*n    \n",
    "    return temp\n",
    "\n",
    "multiplier_2 = multiplier(2)\n",
    "multiplier_2(10)\n",
    "multiplier_3 = multiplier(3)\n",
    "multiplier_3(10)\n",
    "\n"
   ]
  },
  {
   "cell_type": "markdown",
   "id": "4ac10289",
   "metadata": {},
   "source": [
    "#### missing arguements  "
   ]
  },
  {
   "cell_type": "code",
   "execution_count": null,
   "id": "542db87a",
   "metadata": {},
   "outputs": [],
   "source": [
    "def my_fun(x, y):\n",
    "    print(x)\n",
    "    \n",
    "my_fun(10, 20) # works\n",
    "my_fun(10) # fails"
   ]
  },
  {
   "cell_type": "markdown",
   "id": "651c4774",
   "metadata": {},
   "source": [
    "#### default values  "
   ]
  },
  {
   "cell_type": "code",
   "execution_count": null,
   "id": "8832e70c",
   "metadata": {},
   "outputs": [],
   "source": [
    "def my_fun(x, y= 1000):\n",
    "    print(x)\n",
    "    print(y)\n",
    "    \n",
    "my_fun(10, 20) # works\n",
    "my_fun(10) # works too, uses default"
   ]
  },
  {
   "cell_type": "markdown",
   "id": "26cb41be",
   "metadata": {},
   "source": [
    "#### scoping  "
   ]
  },
  {
   "cell_type": "code",
   "execution_count": null,
   "id": "436bb7d2",
   "metadata": {},
   "outputs": [],
   "source": [
    "for iii in dir():\n",
    "    if not iii.startswith(\"_\"):\n",
    "        del globals()[iii]\n",
    "    del iii\n",
    "\n",
    "# block 1\n",
    "def f1(a,b):\n",
    "    print(dir())\n",
    "    print(a)\n",
    "    print(b)\n",
    "\n",
    "a = 10\n",
    "b = 20\n",
    "[x for x in dir() if not x.startswith(\"_\")]\n",
    "print(a)\n",
    "print(b)\n",
    "f1(a=100, b=200)\n",
    "print(a)\n",
    "print(b)\n",
    "\n",
    "# block 2 - local variable, local values\n",
    "def f1(a,b):\n",
    "    print(dir())\n",
    "    print(a)\n",
    "    print(b)\n",
    "    x = 999\n",
    "    print(x)\n",
    "\n",
    "x = 100\n",
    "f1(a = 10, b=20)\n",
    "print(x)\n",
    "\n",
    "# block 3 - if a variable is absent in function, look one level above\n",
    "def f1(a,b):\n",
    "    print(dir())\n",
    "    print(a)\n",
    "    print(b)\n",
    "    print(x)\n",
    "\n",
    "x = 100\n",
    "f1(a = 10, b=20)\n",
    "print(x)\n",
    "\n"
   ]
  },
  {
   "cell_type": "markdown",
   "id": "4785ea3d",
   "metadata": {},
   "source": [
    "#### recursion"
   ]
  },
  {
   "cell_type": "code",
   "execution_count": null,
   "id": "12cb3765",
   "metadata": {},
   "outputs": [],
   "source": [
    "def factorial(n):\n",
    "    if n==1 or n==0:\n",
    "        return 1\n",
    "    else:\n",
    "        return n*factorial(n-1)\n",
    "for i in range(10):\n",
    "    print(i, factorial(i))\n",
    "\n",
    "\n",
    "def fibonacci(n):\n",
    "    \n",
    "    assert isinstance(n, int)\n",
    "    assert n>=0\n",
    "    \n",
    "    \n",
    "    if n==0 or n==1:\n",
    "        return 1\n",
    "    else:\n",
    "        return fibonacci(n-1) + fibonacci(n-2)\n",
    "\n",
    "for i in range(100):\n",
    "    print(i, fibonacci(i))\n",
    "\n"
   ]
  },
  {
   "cell_type": "markdown",
   "id": "e7d7ab84",
   "metadata": {},
   "source": [
    "#### Lambda function "
   ]
  },
  {
   "cell_type": "code",
   "execution_count": null,
   "id": "0fb80a8b",
   "metadata": {},
   "outputs": [],
   "source": [
    "my_fun = lambda a : a + 10\n",
    "my_fun(5)"
   ]
  },
  {
   "cell_type": "markdown",
   "id": "a06c0648",
   "metadata": {},
   "source": [
    "#### map"
   ]
  },
  {
   "cell_type": "code",
   "execution_count": null,
   "id": "958a5ac9",
   "metadata": {},
   "outputs": [],
   "source": [
    "list(map(lambda a : a + 10, [1,2,3,4,5]))\n",
    "\n",
    "my_fun = lambda a : a + 10\n",
    "list(map(my_fun , [1,2,3,4,5]))"
   ]
  },
  {
   "cell_type": "markdown",
   "id": "5d00e534",
   "metadata": {
    "vscode": {
     "languageId": "plaintext"
    }
   },
   "source": [
    "# OOPS"
   ]
  },
  {
   "cell_type": "code",
   "execution_count": null,
   "id": "c40d52fd",
   "metadata": {},
   "outputs": [],
   "source": [
    "class employee:\n",
    "    pass\n",
    "\n",
    "emp_1 = employee()\n",
    "emp_2 = employee()\n",
    "    \n",
    "\n",
    "print(emp_1)\n",
    "emp_1.name = \"ash red\"\n",
    "emp_1.email= \"ashred@gmail.com\"\n",
    "print(emp_1)\n",
    "print(emp_1.name)\n",
    "print(emp_1.email)\n"
   ]
  },
  {
   "cell_type": "markdown",
   "id": "b8d20950",
   "metadata": {},
   "source": [
    "#### Edit attributes of an instance "
   ]
  },
  {
   "cell_type": "code",
   "execution_count": null,
   "id": "50fa8836",
   "metadata": {},
   "outputs": [],
   "source": [
    "class employee:\n",
    "    def __init__(self, name, pay): \n",
    "        self.name = name\n",
    "        self.pay = pay        \n",
    "        self.email = name + \"@gmail.com\"\n",
    "        \n",
    "    def print_name(self): # this is a method\n",
    "        print(self.name)        \n",
    "        \n",
    "    def apply_new_year_bonus(self, bonus = 10):\n",
    "        self.pay = self.pay + bonus\n",
    "            \n",
    "e1 = employee(\"him misra\", 100) # e1 will be passed as self\n",
    "e1\n",
    "e1.name\n",
    "e1.email # not brackets as email is an attribute of the class\n",
    "e1.print_name() # need brackets since, print_name is a method\n",
    "employee.print_name(e1) # works too. class_name.method_name(object_instance)\n",
    "# e1.print_name_junk() # error since self if ommitted\n"
   ]
  },
  {
   "cell_type": "code",
   "execution_count": null,
   "id": "98624246",
   "metadata": {},
   "outputs": [],
   "source": [
    "e1.pay\n",
    "e1.apply_new_year_bonus(bonus = 2)\n",
    "e1.pay\n",
    "\n",
    "e1.pay\n",
    "employee.apply_new_year_bonus(e1, bonus = 2)\n",
    "e1.pay\n"
   ]
  },
  {
   "cell_type": "code",
   "execution_count": null,
   "id": "6e47781c",
   "metadata": {},
   "outputs": [],
   "source": [
    "############ Class attributes ############ \n",
    "class employee:    \n",
    "    new_year_bonus = 10\n",
    "    \n",
    "    def __init__(self, name, pay): \n",
    "        self.name = name\n",
    "        self.pay = pay        \n",
    "        self.email = name + \"@gmail.com\"\n",
    "        \n",
    "    def print_name(self): # this is a method\n",
    "        print(self.name)        \n",
    "        \n",
    "    def apply_new_year_bonus(self):\n",
    "        # self.pay = self.pay + new_year_bonus # error\n",
    "        # self.pay = self.pay + employee.new_year_bonus # works\n",
    "        self.pay = self.pay + self.new_year_bonus # works\n",
    "                \n",
    "e1 = employee(\"abd def\", 100) # e1 will be passed as self\n",
    "# getattr(e1) # fails\n",
    "e1.__dict__\n",
    "employee.__dict__\n",
    "\n",
    "employee.new_year_bonus\n",
    "e1.new_year_bonus\n",
    "\n",
    "e1.pay\n",
    "e1.apply_new_year_bonus() # bonus = 2\n",
    "e1.pay\n",
    "\n",
    "e1.whatever_attr = 999\n",
    "e1.whatever_attr\n",
    "e1.__dict__\n",
    "\n",
    "e1.new_year_bonus = 999\n",
    "e1.__dict__\n",
    "\n",
    "\n",
    "e2 = employee(\"ash red\", 766)\n",
    "e2.whatever_attr\n",
    "e2.__dict__\n",
    "e2.new_year_bonus = 999\n",
    "e1.__dict__"
   ]
  },
  {
   "cell_type": "markdown",
   "id": "72484b89",
   "metadata": {},
   "source": [
    "#### Update Class"
   ]
  },
  {
   "cell_type": "code",
   "execution_count": null,
   "id": "2eecce65",
   "metadata": {},
   "outputs": [],
   "source": [
    "class employee:    \n",
    "    employee_count = 0\n",
    "    new_year_bonus = 10\n",
    "    \n",
    "    def __init__(self, name, pay): \n",
    "        self.name = name\n",
    "        self.pay = pay        \n",
    "        self.email = name + \"@gmail.com\"\n",
    "        employee.employee_count = employee.employee_count + 1\n",
    "        \n",
    "    @classmethod\n",
    "    def from_string(cls, data_string):\n",
    "        name, pay = data_string.split(\"-\")\n",
    "        return cls(name, int(pay))\n",
    "        \n",
    "    def print_name(self): # this is a method\n",
    "        print(self.name)        \n",
    "        \n",
    "    def apply_new_year_bonus(self):\n",
    "        # self.pay = self.pay + new_year_bonus # error\n",
    "        # self.pay = self.pay + employee.new_year_bonus # works\n",
    "        self.pay = self.pay + self.new_year_bonus # works\n",
    "    \n",
    "    @classmethod\n",
    "    def set_new_year_bonus(cls, amt):\n",
    "        cls.new_year_bonus = amt\n",
    "        # cls.new_year_bonus = amt + cls.new_year_bonus # works too"
   ]
  },
  {
   "cell_type": "code",
   "execution_count": null,
   "id": "57e6eaa4",
   "metadata": {},
   "outputs": [],
   "source": [
    "# update an attribute in class and all instances                \n",
    "employee.employee_count # 0\n",
    "\n",
    "e1 = employee(\"ash red\", 100)\n",
    "employee.employee_count # 1\n",
    "e1.employee_count\n",
    "\n",
    "e2 = employee(\"what ever\", 200)\n",
    "employee.employee_count # 2\n",
    "e2.employee_count # e1 and e2 employee count updates to 2\n",
    "\n"
   ]
  },
  {
   "cell_type": "code",
   "execution_count": null,
   "id": "7b56bf32",
   "metadata": {},
   "outputs": [],
   "source": [
    "# classmethod - update new_year_bonus for class and all instances\n",
    "e1 = employee(\"ash red\", 100)\n",
    "e1.new_year_bonus\n",
    "e2 = employee(\"what ever\", 200)\n",
    "e2.new_year_bonus\n",
    "employee.set_new_year_bonus(44)\n",
    "\n",
    "employee.new_year_bonus\n",
    "e1.new_year_bonus\n",
    "e2.new_year_bonus"
   ]
  },
  {
   "cell_type": "code",
   "execution_count": null,
   "id": "a9523198",
   "metadata": {},
   "outputs": [],
   "source": [
    "# classmethod - generate instances dynamically \n",
    "e3 = employee.from_string(\"ashrith reddy-100\")\n",
    "e3.name\n",
    "e3.pay\n",
    "e3.__dict__\n",
    "e3.new_year_bonus\n",
    "e3.apply_new_year_bonus(); e3.pay"
   ]
  },
  {
   "cell_type": "markdown",
   "id": "d9072f75",
   "metadata": {},
   "source": [
    "#### Inheritence "
   ]
  },
  {
   "cell_type": "code",
   "execution_count": null,
   "id": "4dd31de3",
   "metadata": {},
   "outputs": [],
   "source": [
    "class developer(employee): # Developer inherits from employee\n",
    "    \n",
    "    new_year_bonus = 200\n",
    "    \n",
    "    pass\n",
    "\n",
    "print(help(developer))\n",
    "\n",
    "dev_1 = developer(\"apple\", 400)\n",
    "dev_1.email\n",
    "dev_1.pay\n",
    "\n",
    "dev_1.apply_new_year_bonus()\n",
    "dev_1.pay"
   ]
  }
 ],
 "metadata": {
  "kernelspec": {
   "display_name": "base",
   "language": "python",
   "name": "python3"
  },
  "language_info": {
   "name": "python",
   "version": "3.11.3"
  }
 },
 "nbformat": 4,
 "nbformat_minor": 5
}
