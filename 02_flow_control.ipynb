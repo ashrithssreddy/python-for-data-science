{
 "cells": [
  {
   "cell_type": "code",
   "execution_count": null,
   "id": "71f08c68",
   "metadata": {
    "vscode": {
     "languageId": "plaintext"
    }
   },
   "outputs": [],
   "source": []
  },
  {
   "cell_type": "code",
   "execution_count": null,
   "id": "83270cba",
   "metadata": {
    "vscode": {
     "languageId": "plaintext"
    }
   },
   "outputs": [],
   "source": []
  },
  {
   "cell_type": "code",
   "execution_count": null,
   "id": "4773034b",
   "metadata": {
    "vscode": {
     "languageId": "plaintext"
    }
   },
   "outputs": [],
   "source": [
    "my_list = [\"apple\", \"banana\", \"carrot\", \"dragonfruit\"]\n",
    "my_list \n",
    "\n",
    "##################### enumerate ##################### \n",
    "enumerate(my_list)\n",
    "type(enumerate(my_list)) # enumerate\n",
    "e1_list = list(enumerate(my_list)) # list of tuples returned when enum converted to list\n",
    "e1_list\n",
    "e1_list[0]\n",
    "type(e1_list[0]) # tuple\n",
    "\n",
    "# change starting position of index from 0 to 11\n",
    "list(enumerate(my_list, 11))\n",
    "\n",
    "# loop over an enum\n",
    "# prefer to use pos, element instead of a, b\n",
    "for a, b in enumerate(my_list):\n",
    "    # a is int, b is str\n",
    "    print(\"###\")\n",
    "    print(a)\n",
    "    print(type(a))\n",
    "    print(b)\n",
    "    print(type(b))\n",
    "    \n",
    "for a in enumerate(my_list):\n",
    "    # b is optional \n",
    "    # if b not mentioned, a is a tuple\n",
    "    print(\"###\")\n",
    "    print(a)\n",
    "\n",
    "##################### zip ##################### \n",
    "\n",
    "##################### range ##################### \n",
    "list(range(10))\n",
    "[x for x in range(10)]\n",
    "[range(10)] # weird, avoid.\n",
    "\n",
    "##################### itertools ##################### \n",
    "\n",
    "##################### more-itertools ##################### \n",
    "\n",
    "\n",
    "##################### if-else blocks ##################### \n",
    "x = 4\n",
    "x = 5\n",
    "x = 10\n",
    "if(x>5):\n",
    "    print(\"greater than five\")\n",
    "elif(x<5):\n",
    "    print(\"less than five\")\n",
    "elif(x==5):\n",
    "    print(\"equals five\")    \n",
    "# else if does not work, use elif\n",
    "\n",
    "\n",
    "age = list(range(10,51,10))\n",
    "['young' if x < 15 else 'old' for x in age]\n",
    "['young' if (x < 15) else 'middleage' if (x < 35) else 'old' for x in age]\n",
    "# [a if condition_1 else b if condition_2 else c for _ in _]\n",
    "\n",
    "\n",
    "\n",
    "\n",
    "\n",
    "\n",
    "##################### switch ##################### \n",
    "# does not readily exist\n",
    "\n",
    "##################### for loop ##################### \n",
    "my_num = list(range(0,51,10))\n",
    "for x in my_num:\n",
    "    print(x)\n",
    "x\n",
    "\n",
    "for x in my_num:\n",
    "    print(x)\n",
    "    if x>30:\n",
    "        break\n",
    "\n",
    "for x in my_num:\n",
    "    if x==30:\n",
    "        continue\n",
    "    print(x)    \n",
    "    \n",
    "for x in range(10):\n",
    "    print(x)\n",
    "    del x\n",
    "\n",
    "##################### while loop ##################### \n",
    "i = 0\n",
    "while(i < 10):\n",
    "    print(i)\n",
    "    i = i + 1\n",
    "\n",
    "i = 0\n",
    "while 1:\n",
    "    print(i)\n",
    "    i = i + 1\n",
    "    \n",
    "    if(i==10):\n",
    "        break\n"
   ]
  }
 ],
 "metadata": {
  "language_info": {
   "name": "python"
  }
 },
 "nbformat": 4,
 "nbformat_minor": 5
}
