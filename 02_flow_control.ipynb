{
 "cells": [
  {
   "cell_type": "markdown",
   "id": "71f08c68",
   "metadata": {},
   "source": [
    "# Setup"
   ]
  },
  {
   "cell_type": "code",
   "execution_count": null,
   "id": "83270cba",
   "metadata": {},
   "outputs": [],
   "source": [
    "my_list = [\"apple\", \"banana\", \"carrot\", \"dragonfruit\"]\n",
    "my_list \n"
   ]
  },
  {
   "cell_type": "markdown",
   "id": "018e59ce",
   "metadata": {},
   "source": [
    "# Enumerate "
   ]
  },
  {
   "cell_type": "code",
   "execution_count": null,
   "id": "4773034b",
   "metadata": {},
   "outputs": [],
   "source": [
    "enumerate(my_list)\n",
    "type(enumerate(my_list)) # enumerate\n",
    "e1_list = list(enumerate(my_list)) # list of tuples returned when enum converted to list\n",
    "e1_list\n",
    "e1_list[0]\n",
    "type(e1_list[0]) # tuple\n",
    "\n",
    "# change starting position of index from 0 to 11\n",
    "list(enumerate(my_list, 11))"
   ]
  },
  {
   "cell_type": "code",
   "execution_count": null,
   "id": "d4f67b10",
   "metadata": {},
   "outputs": [],
   "source": [
    "# loop over an enum\n",
    "# prefer to use pos, element instead of a, b\n",
    "for a, b in enumerate(my_list):\n",
    "    # a is int, b is str\n",
    "    print(\"###\")\n",
    "    print(a)\n",
    "    print(type(a))\n",
    "    print(b)\n",
    "    print(type(b))\n"
   ]
  },
  {
   "cell_type": "code",
   "execution_count": null,
   "id": "0456f62e",
   "metadata": {},
   "outputs": [],
   "source": [
    "for a in enumerate(my_list):\n",
    "    # b is optional \n",
    "    # if b not mentioned, a is a tuple\n",
    "    print(\"###\")\n",
    "    print(a)"
   ]
  },
  {
   "cell_type": "markdown",
   "id": "10d4b233",
   "metadata": {},
   "source": [
    "#  Zip  "
   ]
  },
  {
   "cell_type": "markdown",
   "id": "525b305a",
   "metadata": {},
   "source": [
    "#### Range"
   ]
  },
  {
   "cell_type": "code",
   "execution_count": null,
   "id": "d194ea87",
   "metadata": {},
   "outputs": [],
   "source": [
    "list(range(10))\n",
    "[x for x in range(10)]\n",
    "[range(10)] # weird, avoid."
   ]
  },
  {
   "cell_type": "markdown",
   "id": "cdb94ee9",
   "metadata": {},
   "source": [
    "#### itertools"
   ]
  },
  {
   "cell_type": "markdown",
   "id": "876c7a38",
   "metadata": {},
   "source": [
    "#### more-itertools"
   ]
  },
  {
   "cell_type": "markdown",
   "id": "b300076c",
   "metadata": {},
   "source": [
    "# Flow Control"
   ]
  },
  {
   "cell_type": "markdown",
   "id": "958aa35c",
   "metadata": {},
   "source": [
    "#### if-else blocks"
   ]
  },
  {
   "cell_type": "code",
   "execution_count": null,
   "id": "e85798f2",
   "metadata": {},
   "outputs": [],
   "source": [
    "x = 4\n",
    "x = 5\n",
    "x = 10\n",
    "if(x>5):\n",
    "    print(\"greater than five\")\n",
    "elif(x<5):\n",
    "    print(\"less than five\")\n",
    "elif(x==5):\n",
    "    print(\"equals five\")    \n",
    "# else if does not work, use elif\n",
    "\n",
    "age = list(range(10,51,10))\n",
    "['young' if x < 15 else 'old' for x in age]\n",
    "['young' if (x < 15) else 'middleage' if (x < 35) else 'old' for x in age]\n",
    "# [a if condition_1 else b if condition_2 else c for _ in _]"
   ]
  },
  {
   "cell_type": "markdown",
   "id": "8e15ab6e",
   "metadata": {
    "vscode": {
     "languageId": "plaintext"
    }
   },
   "source": [
    "#### switch"
   ]
  },
  {
   "cell_type": "code",
   "execution_count": 1,
   "id": "fed0bb11",
   "metadata": {},
   "outputs": [],
   "source": [
    "# does not readily exist in python"
   ]
  },
  {
   "cell_type": "markdown",
   "id": "c53efe11",
   "metadata": {
    "vscode": {
     "languageId": "plaintext"
    }
   },
   "source": [
    "#### for loop"
   ]
  },
  {
   "cell_type": "code",
   "execution_count": null,
   "id": "789056a9",
   "metadata": {},
   "outputs": [],
   "source": [
    "my_num = list(range(0,51,10))\n",
    "for x in my_num:\n",
    "    print(x)\n",
    "x\n",
    "\n",
    "for x in my_num:\n",
    "    print(x)\n",
    "    if x>30:\n",
    "        break\n",
    "\n",
    "for x in my_num:\n",
    "    if x==30:\n",
    "        continue\n",
    "    print(x)    \n",
    "    \n",
    "for x in range(10):\n",
    "    print(x)\n",
    "    del x"
   ]
  },
  {
   "cell_type": "markdown",
   "id": "b811a0c6",
   "metadata": {
    "vscode": {
     "languageId": "plaintext"
    }
   },
   "source": [
    "#### while loop  "
   ]
  },
  {
   "cell_type": "code",
   "execution_count": null,
   "id": "e6acb21f",
   "metadata": {},
   "outputs": [],
   "source": [
    "i = 0\n",
    "while(i < 10):\n",
    "    print(i)\n",
    "    i = i + 1\n",
    "\n",
    "i = 0\n",
    "while 1:\n",
    "    print(i)\n",
    "    i = i + 1\n",
    "    \n",
    "    if(i==10):\n",
    "        break\n"
   ]
  }
 ],
 "metadata": {
  "kernelspec": {
   "display_name": "base",
   "language": "python",
   "name": "python3"
  },
  "language_info": {
   "codemirror_mode": {
    "name": "ipython",
    "version": 3
   },
   "file_extension": ".py",
   "mimetype": "text/x-python",
   "name": "python",
   "nbconvert_exporter": "python",
   "pygments_lexer": "ipython3",
   "version": "3.11.3"
  }
 },
 "nbformat": 4,
 "nbformat_minor": 5
}
