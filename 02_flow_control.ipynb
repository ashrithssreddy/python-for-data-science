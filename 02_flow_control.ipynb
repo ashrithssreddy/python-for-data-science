{
 "cells": [
  {
   "cell_type": "markdown",
   "id": "61210c3b",
   "metadata": {},
   "source": [
    "<a id=\"table-of-contents\"></a>\n",
    "# 📘 Control Flow\n",
    "\n",
    "- [📘 Containers](#containers)\n",
    "  - [🔹 Enumerate](#enumerate)\n",
    "  - [🔹 Zip](#zip)\n",
    "  - [🔹 Range](#range)\n",
    "  - [🔹 itertools](#itertools)\n",
    "- [📘 Flow Control](#flow-control)\n",
    "  - [🔹 if-else block](#if-else-block)\n",
    "  - [🔹 switch](#switch)\n",
    "  - [🔹 for loop](#for-loop)\n",
    "  - [🔹 while loop](#while-loop)\n",
    "___"
   ]
  },
  {
   "cell_type": "markdown",
   "id": "8384878b",
   "metadata": {},
   "source": [
    "<a id=\"containers\"></a>\n",
    "# 📘 Containers"
   ]
  },
  {
   "cell_type": "code",
   "execution_count": null,
   "id": "4e9fa57a",
   "metadata": {},
   "outputs": [],
   "source": [
    "from IPython.core.interactiveshell import InteractiveShell\n",
    "InteractiveShell.ast_node_interactivity = \"all\""
   ]
  },
  {
   "cell_type": "markdown",
   "id": "018e59ce",
   "metadata": {},
   "source": [
    "<a id=\"enumerate\"></a>\n",
    "#### 🔹 Enumerate\n"
   ]
  },
  {
   "cell_type": "code",
   "execution_count": null,
   "id": "34ac74c1",
   "metadata": {},
   "outputs": [],
   "source": [
    "my_list = [\"apple\", \"banana\", \"carrot\", \"dragonfruit\"]\n",
    "my_list"
   ]
  },
  {
   "cell_type": "code",
   "execution_count": null,
   "id": "4773034b",
   "metadata": {},
   "outputs": [],
   "source": [
    "enumerate(my_list)\n",
    "type(enumerate(my_list)) # enumerate\n",
    "e1_list = list(enumerate(my_list)) # list of tuples returned when enum converted to list\n",
    "e1_list\n",
    "e1_list[0]\n",
    "type(e1_list[0]) # tuple\n",
    "\n",
    "# change starting position of index from 0 to 11\n",
    "list(enumerate(my_list, 11))"
   ]
  },
  {
   "cell_type": "markdown",
   "id": "5f4ffc06",
   "metadata": {},
   "source": [
    "`Loop` over an enum"
   ]
  },
  {
   "cell_type": "code",
   "execution_count": null,
   "id": "d4f67b10",
   "metadata": {},
   "outputs": [],
   "source": [
    "# prefer to use pos, element instead of a, b\n",
    "for a, b in enumerate(my_list):\n",
    "    # a is int, b is str\n",
    "    print(\"###\")\n",
    "    print(a)\n",
    "    print(type(a))\n",
    "    print(b)\n",
    "    print(type(b))\n"
   ]
  },
  {
   "cell_type": "code",
   "execution_count": null,
   "id": "0456f62e",
   "metadata": {},
   "outputs": [],
   "source": [
    "for a in enumerate(my_list):\n",
    "    # b is optional \n",
    "    # if b not mentioned, a is a tuple\n",
    "    print(\"###\")\n",
    "    print(a)"
   ]
  },
  {
   "cell_type": "markdown",
   "id": "10d4b233",
   "metadata": {},
   "source": [
    "<a id=\"zip\"></a>\n",
    "#### 🔹 Zip"
   ]
  },
  {
   "cell_type": "markdown",
   "id": "525b305a",
   "metadata": {},
   "source": [
    "<a id=\"range\"></a>\n",
    "#### 📏 Range"
   ]
  },
  {
   "cell_type": "code",
   "execution_count": null,
   "id": "d194ea87",
   "metadata": {},
   "outputs": [],
   "source": [
    "list(range(10))\n",
    "[x for x in range(10)]\n",
    "[range(10)] # weird, avoid."
   ]
  },
  {
   "cell_type": "markdown",
   "id": "cdb94ee9",
   "metadata": {},
   "source": [
    "<a id=\"itertools\"></a>\n",
    "#### 🔹 `itertools`\n"
   ]
  },
  {
   "cell_type": "markdown",
   "id": "0b6fdf45",
   "metadata": {},
   "source": [
    "[Back to the top](#table-of-contents)\n",
    "___"
   ]
  },
  {
   "cell_type": "markdown",
   "id": "b300076c",
   "metadata": {},
   "source": [
    "<a id=\"flow-control\"></a>\n",
    "# 📘 Flow Control"
   ]
  },
  {
   "cell_type": "markdown",
   "id": "958aa35c",
   "metadata": {},
   "source": [
    "<a id=\"if-else-block\"></a>\n",
    "#### 🔹 if-else block"
   ]
  },
  {
   "cell_type": "code",
   "execution_count": null,
   "id": "e85798f2",
   "metadata": {},
   "outputs": [],
   "source": [
    "x = 4\n",
    "x = 5\n",
    "x = 10\n",
    "if(x>5):\n",
    "    print(\"greater than five\")\n",
    "elif(x<5):\n",
    "    print(\"less than five\")\n",
    "elif(x==5):\n",
    "    print(\"equals five\")    \n",
    "# else if does not work, use elif\n",
    "\n"
   ]
  },
  {
   "cell_type": "code",
   "execution_count": null,
   "id": "2f439e98",
   "metadata": {},
   "outputs": [],
   "source": [
    "age = list(range(10,51,10))\n",
    "['young' if x < 15 else 'old' for x in age]\n",
    "['young' if (x < 15) else 'middleage' if (x < 35) else 'old' for x in age]\n",
    "# [a if condition_1 else b if condition_2 else c for _ in _]"
   ]
  },
  {
   "cell_type": "markdown",
   "id": "f5b4b1ac",
   "metadata": {},
   "source": [
    "`np.where()`"
   ]
  },
  {
   "cell_type": "markdown",
   "id": "8e15ab6e",
   "metadata": {
    "vscode": {
     "languageId": "plaintext"
    }
   },
   "source": [
    "<a id=\"switch\"></a>\n",
    "#### 🔹 switch"
   ]
  },
  {
   "cell_type": "code",
   "execution_count": null,
   "id": "fed0bb11",
   "metadata": {},
   "outputs": [],
   "source": [
    "# does not readily exist in python"
   ]
  },
  {
   "cell_type": "markdown",
   "id": "c53efe11",
   "metadata": {
    "vscode": {
     "languageId": "plaintext"
    }
   },
   "source": [
    "<a id=\"for-loop\"></a>\n",
    "#### 🔹 for loop"
   ]
  },
  {
   "cell_type": "code",
   "execution_count": null,
   "id": "704ffed9",
   "metadata": {},
   "outputs": [],
   "source": [
    "my_num = list(range(0,51,10))\n",
    "for x in my_num:\n",
    "    print(x)\n",
    "x\n"
   ]
  },
  {
   "cell_type": "code",
   "execution_count": null,
   "id": "248d6291",
   "metadata": {},
   "outputs": [],
   "source": [
    "for x in my_num:\n",
    "    print(x)\n",
    "    if x>30:\n",
    "        break\n"
   ]
  },
  {
   "cell_type": "code",
   "execution_count": null,
   "id": "033e4860",
   "metadata": {},
   "outputs": [],
   "source": [
    "for x in my_num:\n",
    "    if x==30:\n",
    "        continue\n",
    "    print(x)    \n"
   ]
  },
  {
   "cell_type": "code",
   "execution_count": null,
   "id": "789056a9",
   "metadata": {},
   "outputs": [],
   "source": [
    "for x in range(5):\n",
    "    print(x)\n",
    "    del x"
   ]
  },
  {
   "cell_type": "markdown",
   "id": "b811a0c6",
   "metadata": {
    "vscode": {
     "languageId": "plaintext"
    }
   },
   "source": [
    "<a id=\"while-loop\"></a>\n",
    "#### 🔹 while loop"
   ]
  },
  {
   "cell_type": "code",
   "execution_count": null,
   "id": "e6acb21f",
   "metadata": {},
   "outputs": [],
   "source": [
    "i = 0\n",
    "while(i < 5):\n",
    "    print(i)\n",
    "    i = i + 1"
   ]
  },
  {
   "cell_type": "code",
   "execution_count": null,
   "id": "612df7f6",
   "metadata": {},
   "outputs": [],
   "source": [
    "i = 0\n",
    "while 1:\n",
    "    print(i)\n",
    "    i = i + 1\n",
    "    \n",
    "    if(i==5):\n",
    "        break\n"
   ]
  },
  {
   "cell_type": "markdown",
   "id": "cdddf914",
   "metadata": {},
   "source": [
    "[Back to the top](#table-of-contents)\n",
    "___"
   ]
  }
 ],
 "metadata": {
  "kernelspec": {
   "display_name": "base",
   "language": "python",
   "name": "python3"
  },
  "language_info": {
   "codemirror_mode": {
    "name": "ipython",
    "version": 3
   },
   "file_extension": ".py",
   "mimetype": "text/x-python",
   "name": "python",
   "nbconvert_exporter": "python",
   "pygments_lexer": "ipython3",
   "version": "3.11.3"
  }
 },
 "nbformat": 4,
 "nbformat_minor": 5
}
