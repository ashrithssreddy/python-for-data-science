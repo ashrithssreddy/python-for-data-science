{
 "cells": [
  {
   "cell_type": "markdown",
   "id": "61210c3b",
   "metadata": {},
   "source": [
    "<a id=\"table-of-contents\"></a>\n",
    "# Table of Contents\n",
    "[](#)  \n",
    "- [](#)  \n",
    "- [](#)\n",
    "\n",
    "___"
   ]
  },
  {
   "cell_type": "markdown",
   "id": "71f08c68",
   "metadata": {},
   "source": [
    "# Setup"
   ]
  },
  {
   "cell_type": "code",
   "execution_count": 3,
   "id": "bd0eb43d",
   "metadata": {},
   "outputs": [],
   "source": [
    "from IPython.core.interactiveshell import InteractiveShell\n",
    "InteractiveShell.ast_node_interactivity = \"all\""
   ]
  },
  {
   "cell_type": "code",
   "execution_count": 4,
   "id": "83270cba",
   "metadata": {},
   "outputs": [
    {
     "data": {
      "text/plain": [
       "['apple', 'banana', 'carrot', 'dragonfruit']"
      ]
     },
     "execution_count": 4,
     "metadata": {},
     "output_type": "execute_result"
    }
   ],
   "source": [
    "my_list = [\"apple\", \"banana\", \"carrot\", \"dragonfruit\"]\n",
    "my_list"
   ]
  },
  {
   "cell_type": "markdown",
   "id": "4a624d07",
   "metadata": {},
   "source": [
    "[Back to the top](#table-of-contents)\n",
    "___"
   ]
  },
  {
   "cell_type": "markdown",
   "id": "8384878b",
   "metadata": {},
   "source": [
    "# Containers"
   ]
  },
  {
   "cell_type": "markdown",
   "id": "018e59ce",
   "metadata": {},
   "source": [
    "#### Enumerate "
   ]
  },
  {
   "cell_type": "code",
   "execution_count": 5,
   "id": "4773034b",
   "metadata": {},
   "outputs": [
    {
     "data": {
      "text/plain": [
       "<enumerate at 0x107dd09f0>"
      ]
     },
     "execution_count": 5,
     "metadata": {},
     "output_type": "execute_result"
    },
    {
     "data": {
      "text/plain": [
       "enumerate"
      ]
     },
     "execution_count": 5,
     "metadata": {},
     "output_type": "execute_result"
    },
    {
     "data": {
      "text/plain": [
       "[(0, 'apple'), (1, 'banana'), (2, 'carrot'), (3, 'dragonfruit')]"
      ]
     },
     "execution_count": 5,
     "metadata": {},
     "output_type": "execute_result"
    },
    {
     "data": {
      "text/plain": [
       "(0, 'apple')"
      ]
     },
     "execution_count": 5,
     "metadata": {},
     "output_type": "execute_result"
    },
    {
     "data": {
      "text/plain": [
       "tuple"
      ]
     },
     "execution_count": 5,
     "metadata": {},
     "output_type": "execute_result"
    },
    {
     "data": {
      "text/plain": [
       "[(11, 'apple'), (12, 'banana'), (13, 'carrot'), (14, 'dragonfruit')]"
      ]
     },
     "execution_count": 5,
     "metadata": {},
     "output_type": "execute_result"
    }
   ],
   "source": [
    "enumerate(my_list)\n",
    "type(enumerate(my_list)) # enumerate\n",
    "e1_list = list(enumerate(my_list)) # list of tuples returned when enum converted to list\n",
    "e1_list\n",
    "e1_list[0]\n",
    "type(e1_list[0]) # tuple\n",
    "\n",
    "# change starting position of index from 0 to 11\n",
    "list(enumerate(my_list, 11))"
   ]
  },
  {
   "cell_type": "code",
   "execution_count": 6,
   "id": "d4f67b10",
   "metadata": {},
   "outputs": [
    {
     "name": "stdout",
     "output_type": "stream",
     "text": [
      "###\n",
      "0\n",
      "<class 'int'>\n",
      "apple\n",
      "<class 'str'>\n",
      "###\n",
      "1\n",
      "<class 'int'>\n",
      "banana\n",
      "<class 'str'>\n",
      "###\n",
      "2\n",
      "<class 'int'>\n",
      "carrot\n",
      "<class 'str'>\n",
      "###\n",
      "3\n",
      "<class 'int'>\n",
      "dragonfruit\n",
      "<class 'str'>\n"
     ]
    }
   ],
   "source": [
    "# loop over an enum\n",
    "# prefer to use pos, element instead of a, b\n",
    "for a, b in enumerate(my_list):\n",
    "    # a is int, b is str\n",
    "    print(\"###\")\n",
    "    print(a)\n",
    "    print(type(a))\n",
    "    print(b)\n",
    "    print(type(b))\n"
   ]
  },
  {
   "cell_type": "code",
   "execution_count": 7,
   "id": "0456f62e",
   "metadata": {},
   "outputs": [
    {
     "name": "stdout",
     "output_type": "stream",
     "text": [
      "###\n",
      "(0, 'apple')\n",
      "###\n",
      "(1, 'banana')\n",
      "###\n",
      "(2, 'carrot')\n",
      "###\n",
      "(3, 'dragonfruit')\n"
     ]
    }
   ],
   "source": [
    "for a in enumerate(my_list):\n",
    "    # b is optional \n",
    "    # if b not mentioned, a is a tuple\n",
    "    print(\"###\")\n",
    "    print(a)"
   ]
  },
  {
   "cell_type": "markdown",
   "id": "10d4b233",
   "metadata": {},
   "source": [
    "#### Zip  "
   ]
  },
  {
   "cell_type": "markdown",
   "id": "525b305a",
   "metadata": {},
   "source": [
    "#### Range"
   ]
  },
  {
   "cell_type": "code",
   "execution_count": 8,
   "id": "d194ea87",
   "metadata": {},
   "outputs": [
    {
     "data": {
      "text/plain": [
       "[0, 1, 2, 3, 4, 5, 6, 7, 8, 9]"
      ]
     },
     "execution_count": 8,
     "metadata": {},
     "output_type": "execute_result"
    },
    {
     "data": {
      "text/plain": [
       "[0, 1, 2, 3, 4, 5, 6, 7, 8, 9]"
      ]
     },
     "execution_count": 8,
     "metadata": {},
     "output_type": "execute_result"
    },
    {
     "data": {
      "text/plain": [
       "[range(0, 10)]"
      ]
     },
     "execution_count": 8,
     "metadata": {},
     "output_type": "execute_result"
    }
   ],
   "source": [
    "list(range(10))\n",
    "[x for x in range(10)]\n",
    "[range(10)] # weird, avoid."
   ]
  },
  {
   "cell_type": "markdown",
   "id": "cdb94ee9",
   "metadata": {},
   "source": [
    "#### `itertools`"
   ]
  },
  {
   "cell_type": "markdown",
   "id": "876c7a38",
   "metadata": {},
   "source": [
    "#### more `itertools`"
   ]
  },
  {
   "cell_type": "markdown",
   "id": "0b6fdf45",
   "metadata": {},
   "source": [
    "[Back to the top](#table-of-contents)\n",
    "___"
   ]
  },
  {
   "cell_type": "markdown",
   "id": "b300076c",
   "metadata": {},
   "source": [
    "# Flow Control"
   ]
  },
  {
   "cell_type": "markdown",
   "id": "958aa35c",
   "metadata": {},
   "source": [
    "#### if-else block"
   ]
  },
  {
   "cell_type": "code",
   "execution_count": 9,
   "id": "e85798f2",
   "metadata": {},
   "outputs": [
    {
     "name": "stdout",
     "output_type": "stream",
     "text": [
      "greater than five\n"
     ]
    },
    {
     "data": {
      "text/plain": [
       "['young', 'old', 'old', 'old', 'old']"
      ]
     },
     "execution_count": 9,
     "metadata": {},
     "output_type": "execute_result"
    },
    {
     "data": {
      "text/plain": [
       "['young', 'middleage', 'middleage', 'old', 'old']"
      ]
     },
     "execution_count": 9,
     "metadata": {},
     "output_type": "execute_result"
    }
   ],
   "source": [
    "x = 4\n",
    "x = 5\n",
    "x = 10\n",
    "if(x>5):\n",
    "    print(\"greater than five\")\n",
    "elif(x<5):\n",
    "    print(\"less than five\")\n",
    "elif(x==5):\n",
    "    print(\"equals five\")    \n",
    "# else if does not work, use elif\n",
    "\n",
    "age = list(range(10,51,10))\n",
    "['young' if x < 15 else 'old' for x in age]\n",
    "['young' if (x < 15) else 'middleage' if (x < 35) else 'old' for x in age]\n",
    "# [a if condition_1 else b if condition_2 else c for _ in _]"
   ]
  },
  {
   "cell_type": "markdown",
   "id": "f5b4b1ac",
   "metadata": {},
   "source": [
    "#### `np.where()`"
   ]
  },
  {
   "cell_type": "markdown",
   "id": "8e15ab6e",
   "metadata": {
    "vscode": {
     "languageId": "plaintext"
    }
   },
   "source": [
    "#### switch"
   ]
  },
  {
   "cell_type": "code",
   "execution_count": 10,
   "id": "fed0bb11",
   "metadata": {},
   "outputs": [],
   "source": [
    "# does not readily exist in python"
   ]
  },
  {
   "cell_type": "markdown",
   "id": "c53efe11",
   "metadata": {
    "vscode": {
     "languageId": "plaintext"
    }
   },
   "source": [
    "#### for loop"
   ]
  },
  {
   "cell_type": "code",
   "execution_count": 11,
   "id": "789056a9",
   "metadata": {},
   "outputs": [
    {
     "name": "stdout",
     "output_type": "stream",
     "text": [
      "0\n",
      "10\n",
      "20\n",
      "30\n",
      "40\n",
      "50\n"
     ]
    },
    {
     "data": {
      "text/plain": [
       "50"
      ]
     },
     "execution_count": 11,
     "metadata": {},
     "output_type": "execute_result"
    },
    {
     "name": "stdout",
     "output_type": "stream",
     "text": [
      "0\n",
      "10\n",
      "20\n",
      "30\n",
      "40\n",
      "0\n",
      "10\n",
      "20\n",
      "40\n",
      "50\n",
      "0\n",
      "1\n",
      "2\n",
      "3\n",
      "4\n",
      "5\n",
      "6\n",
      "7\n",
      "8\n",
      "9\n"
     ]
    }
   ],
   "source": [
    "my_num = list(range(0,51,10))\n",
    "for x in my_num:\n",
    "    print(x)\n",
    "x\n",
    "\n",
    "for x in my_num:\n",
    "    print(x)\n",
    "    if x>30:\n",
    "        break\n",
    "\n",
    "for x in my_num:\n",
    "    if x==30:\n",
    "        continue\n",
    "    print(x)    \n",
    "    \n",
    "for x in range(10):\n",
    "    print(x)\n",
    "    del x"
   ]
  },
  {
   "cell_type": "markdown",
   "id": "b811a0c6",
   "metadata": {
    "vscode": {
     "languageId": "plaintext"
    }
   },
   "source": [
    "#### while loop  "
   ]
  },
  {
   "cell_type": "code",
   "execution_count": 12,
   "id": "e6acb21f",
   "metadata": {},
   "outputs": [
    {
     "name": "stdout",
     "output_type": "stream",
     "text": [
      "0\n",
      "1\n",
      "2\n",
      "3\n",
      "4\n",
      "5\n",
      "6\n",
      "7\n",
      "8\n",
      "9\n",
      "0\n",
      "1\n",
      "2\n",
      "3\n",
      "4\n",
      "5\n",
      "6\n",
      "7\n",
      "8\n",
      "9\n"
     ]
    }
   ],
   "source": [
    "i = 0\n",
    "while(i < 10):\n",
    "    print(i)\n",
    "    i = i + 1\n",
    "\n",
    "i = 0\n",
    "while 1:\n",
    "    print(i)\n",
    "    i = i + 1\n",
    "    \n",
    "    if(i==10):\n",
    "        break\n"
   ]
  },
  {
   "cell_type": "markdown",
   "id": "cdddf914",
   "metadata": {},
   "source": [
    "[Back to the top](#table-of-contents)\n",
    "___"
   ]
  }
 ],
 "metadata": {
  "kernelspec": {
   "display_name": "base",
   "language": "python",
   "name": "python3"
  },
  "language_info": {
   "codemirror_mode": {
    "name": "ipython",
    "version": 3
   },
   "file_extension": ".py",
   "mimetype": "text/x-python",
   "name": "python",
   "nbconvert_exporter": "python",
   "pygments_lexer": "ipython3",
   "version": "3.11.3"
  }
 },
 "nbformat": 4,
 "nbformat_minor": 5
}
